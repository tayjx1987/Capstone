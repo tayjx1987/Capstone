{
 "cells": [
  {
   "cell_type": "markdown",
   "metadata": {},
   "source": [
    "# Import Libraries"
   ]
  },
  {
   "cell_type": "code",
   "execution_count": 1,
   "metadata": {
    "ExecuteTime": {
     "end_time": "2019-11-29T05:53:02.611086Z",
     "start_time": "2019-11-29T05:53:02.593033Z"
    },
    "scrolled": false
   },
   "outputs": [
    {
     "name": "stderr",
     "output_type": "stream",
     "text": [
      "C:\\Users\\user\\Anaconda3\\lib\\site-packages\\sklearn\\ensemble\\weight_boosting.py:29: DeprecationWarning: numpy.core.umath_tests is an internal NumPy module and should not be imported. It will be removed in a future NumPy release.\n",
      "  from numpy.core.umath_tests import inner1d\n"
     ]
    }
   ],
   "source": [
    "import pandas as pd\n",
    "import numpy as np\n",
    "import matplotlib.pyplot as plt\n",
    "from sklearn.preprocessing import StandardScaler\n",
    "from sklearn.feature_extraction.text import CountVectorizer, TfidfVectorizer\n",
    "from sklearn.pipeline import Pipeline\n",
    "from sklearn.model_selection import train_test_split, GridSearchCV, cross_val_score\n",
    "from sklearn.linear_model import LogisticRegression\n",
    "from sklearn.naive_bayes import MultinomialNB, GaussianNB\n",
    "from sklearn.ensemble import RandomForestClassifier, ExtraTreesClassifier\n",
    "from sklearn.pipeline import Pipeline\n",
    "from sklearn.metrics import classification_report, confusion_matrix, roc_auc_score\n",
    "from sklearn.metrics import silhouette_score\n",
    "from sklearn.cluster import KMeans\n",
    "from vaderSentiment.vaderSentiment import SentimentIntensityAnalyzer\n",
    "from textblob import TextBlob\n",
    "import spacy\n",
    "import textstat\n",
    "import readability\n",
    "from nltk.corpus import stopwords\n",
    "from nltk.stem import WordNetLemmatizer\n",
    "import re\n",
    "import warnings; warnings.simplefilter('ignore')\n",
    "%matplotlib inline"
   ]
  },
  {
   "cell_type": "code",
   "execution_count": 2,
   "metadata": {},
   "outputs": [],
   "source": [
    "pd.set_option('display.max_columns', 102)\n",
    "pd.set_option('display.max_rows', 50)"
   ]
  },
  {
   "cell_type": "markdown",
   "metadata": {},
   "source": [
    "# Introduction"
   ]
  },
  {
   "cell_type": "markdown",
   "metadata": {},
   "source": [
    "With the higher penetration of internet worldwide comes the rise of ecommerce. More businesses, online or brick and mortar , are using customer's reviews to stand out from the competition. More consumers are also relying on online reviews for purchase decision making.<br>\n",
    "<br>\n",
    "With online reviews getting more popular, reviews are becoming a tool whereby business seeks to improve sales. Business can also be targeted with fake review to tarish the reputation.<br>"
   ]
  },
  {
   "cell_type": "markdown",
   "metadata": {},
   "source": [
    "# Data sources"
   ]
  },
  {
   "cell_type": "markdown",
   "metadata": {},
   "source": [
    "Reading online reviews and labelling fake reviews is diffcult and there is no publicly available datasets. Yelp is a online business which publish crowd-sourced reviews on businesses. Yelp have a in-house algorithm that filters reviews into recommended and non-recommended reviews. While it is not perfect, it had been recognised as accurate in filtering fake reviews.[2] Hence it is also considered near ground truth.<br>\n",
    "<br>\n",
    "I had obtained labelled dataset for Yelp from Professor Shebuti Rayana[1]. This dataset is dated from 2004 to 2015 on restuarants in the US. "
   ]
  },
  {
   "cell_type": "markdown",
   "metadata": {},
   "source": [
    "# Problem Statement"
   ]
  },
  {
   "cell_type": "markdown",
   "metadata": {},
   "source": [
    "I want to train a machine learning classifier model to predict whether a review posted on Yelp is recommended/spam/genuine or not recommended/ham/fake. This should give insights on some features of a spam/fake/not recommended review."
   ]
  },
  {
   "cell_type": "markdown",
   "metadata": {},
   "source": [
    "# Data importing / Cleaning"
   ]
  },
  {
   "cell_type": "code",
   "execution_count": 3,
   "metadata": {
    "ExecuteTime": {
     "end_time": "2019-11-30T11:37:31.713993Z",
     "start_time": "2019-11-30T11:37:28.749880Z"
    }
   },
   "outputs": [],
   "source": [
    "#import metadata of the reviews and the reviews of first dataset\n",
    "first_metadata = pd.read_csv('./datasets/YelpNYC/metadata', delimiter = \"\\t\", header=None, names =['user_id','prod_id','rating','label','date'])\n",
    "first_review = pd.read_csv('./datasets/YelpNYC/reviewContent', delimiter = \"\\t\", header=None, names =['user_id','prod_id','date','review'])"
   ]
  },
  {
   "cell_type": "code",
   "execution_count": 4,
   "metadata": {
    "ExecuteTime": {
     "end_time": "2019-11-30T11:37:34.148196Z",
     "start_time": "2019-11-30T11:37:34.138890Z"
    }
   },
   "outputs": [
    {
     "data": {
      "text/html": [
       "<div>\n",
       "<style scoped>\n",
       "    .dataframe tbody tr th:only-of-type {\n",
       "        vertical-align: middle;\n",
       "    }\n",
       "\n",
       "    .dataframe tbody tr th {\n",
       "        vertical-align: top;\n",
       "    }\n",
       "\n",
       "    .dataframe thead th {\n",
       "        text-align: right;\n",
       "    }\n",
       "</style>\n",
       "<table border=\"1\" class=\"dataframe\">\n",
       "  <thead>\n",
       "    <tr style=\"text-align: right;\">\n",
       "      <th></th>\n",
       "      <th>user_id</th>\n",
       "      <th>prod_id</th>\n",
       "      <th>rating</th>\n",
       "      <th>label</th>\n",
       "      <th>date</th>\n",
       "    </tr>\n",
       "  </thead>\n",
       "  <tbody>\n",
       "    <tr>\n",
       "      <th>0</th>\n",
       "      <td>923</td>\n",
       "      <td>0</td>\n",
       "      <td>3.0</td>\n",
       "      <td>-1</td>\n",
       "      <td>2014-12-08</td>\n",
       "    </tr>\n",
       "    <tr>\n",
       "      <th>1</th>\n",
       "      <td>924</td>\n",
       "      <td>0</td>\n",
       "      <td>3.0</td>\n",
       "      <td>-1</td>\n",
       "      <td>2013-05-16</td>\n",
       "    </tr>\n",
       "    <tr>\n",
       "      <th>2</th>\n",
       "      <td>925</td>\n",
       "      <td>0</td>\n",
       "      <td>4.0</td>\n",
       "      <td>-1</td>\n",
       "      <td>2013-07-01</td>\n",
       "    </tr>\n",
       "    <tr>\n",
       "      <th>3</th>\n",
       "      <td>926</td>\n",
       "      <td>0</td>\n",
       "      <td>4.0</td>\n",
       "      <td>-1</td>\n",
       "      <td>2011-07-28</td>\n",
       "    </tr>\n",
       "    <tr>\n",
       "      <th>4</th>\n",
       "      <td>927</td>\n",
       "      <td>0</td>\n",
       "      <td>4.0</td>\n",
       "      <td>-1</td>\n",
       "      <td>2010-11-01</td>\n",
       "    </tr>\n",
       "  </tbody>\n",
       "</table>\n",
       "</div>"
      ],
      "text/plain": [
       "   user_id  prod_id  rating  label        date\n",
       "0      923        0     3.0     -1  2014-12-08\n",
       "1      924        0     3.0     -1  2013-05-16\n",
       "2      925        0     4.0     -1  2013-07-01\n",
       "3      926        0     4.0     -1  2011-07-28\n",
       "4      927        0     4.0     -1  2010-11-01"
      ]
     },
     "execution_count": 4,
     "metadata": {},
     "output_type": "execute_result"
    }
   ],
   "source": [
    "#checking first 5 rows of metadata\n",
    "first_metadata.head()"
   ]
  },
  {
   "cell_type": "code",
   "execution_count": 5,
   "metadata": {
    "ExecuteTime": {
     "end_time": "2019-11-30T11:37:38.344246Z",
     "start_time": "2019-11-30T11:37:38.335388Z"
    },
    "scrolled": false
   },
   "outputs": [
    {
     "data": {
      "text/html": [
       "<div>\n",
       "<style scoped>\n",
       "    .dataframe tbody tr th:only-of-type {\n",
       "        vertical-align: middle;\n",
       "    }\n",
       "\n",
       "    .dataframe tbody tr th {\n",
       "        vertical-align: top;\n",
       "    }\n",
       "\n",
       "    .dataframe thead th {\n",
       "        text-align: right;\n",
       "    }\n",
       "</style>\n",
       "<table border=\"1\" class=\"dataframe\">\n",
       "  <thead>\n",
       "    <tr style=\"text-align: right;\">\n",
       "      <th></th>\n",
       "      <th>user_id</th>\n",
       "      <th>prod_id</th>\n",
       "      <th>date</th>\n",
       "      <th>review</th>\n",
       "    </tr>\n",
       "  </thead>\n",
       "  <tbody>\n",
       "    <tr>\n",
       "      <th>0</th>\n",
       "      <td>923</td>\n",
       "      <td>0</td>\n",
       "      <td>2014-12-08</td>\n",
       "      <td>The food at snack is a selection of popular Gr...</td>\n",
       "    </tr>\n",
       "    <tr>\n",
       "      <th>1</th>\n",
       "      <td>924</td>\n",
       "      <td>0</td>\n",
       "      <td>2013-05-16</td>\n",
       "      <td>This little place in Soho is wonderful. I had ...</td>\n",
       "    </tr>\n",
       "    <tr>\n",
       "      <th>2</th>\n",
       "      <td>925</td>\n",
       "      <td>0</td>\n",
       "      <td>2013-07-01</td>\n",
       "      <td>ordered lunch for 15 from Snack last Friday.  ...</td>\n",
       "    </tr>\n",
       "    <tr>\n",
       "      <th>3</th>\n",
       "      <td>926</td>\n",
       "      <td>0</td>\n",
       "      <td>2011-07-28</td>\n",
       "      <td>This is a beautiful quaint little restaurant o...</td>\n",
       "    </tr>\n",
       "    <tr>\n",
       "      <th>4</th>\n",
       "      <td>927</td>\n",
       "      <td>0</td>\n",
       "      <td>2010-11-01</td>\n",
       "      <td>Snack is great place for a  casual sit down lu...</td>\n",
       "    </tr>\n",
       "  </tbody>\n",
       "</table>\n",
       "</div>"
      ],
      "text/plain": [
       "   user_id  prod_id        date  \\\n",
       "0      923        0  2014-12-08   \n",
       "1      924        0  2013-05-16   \n",
       "2      925        0  2013-07-01   \n",
       "3      926        0  2011-07-28   \n",
       "4      927        0  2010-11-01   \n",
       "\n",
       "                                              review  \n",
       "0  The food at snack is a selection of popular Gr...  \n",
       "1  This little place in Soho is wonderful. I had ...  \n",
       "2  ordered lunch for 15 from Snack last Friday.  ...  \n",
       "3  This is a beautiful quaint little restaurant o...  \n",
       "4  Snack is great place for a  casual sit down lu...  "
      ]
     },
     "execution_count": 5,
     "metadata": {},
     "output_type": "execute_result"
    }
   ],
   "source": [
    "#checking first 5 rows of review\n",
    "first_review.head()"
   ]
  },
  {
   "cell_type": "code",
   "execution_count": 6,
   "metadata": {
    "ExecuteTime": {
     "end_time": "2019-11-30T11:37:44.203908Z",
     "start_time": "2019-11-30T11:37:44.199483Z"
    }
   },
   "outputs": [
    {
     "data": {
      "text/plain": [
       "((359052, 5), (358957, 4))"
      ]
     },
     "execution_count": 6,
     "metadata": {},
     "output_type": "execute_result"
    }
   ],
   "source": [
    "#checking number of rows and columns\n",
    "first_metadata.shape, first_review.shape"
   ]
  },
  {
   "cell_type": "markdown",
   "metadata": {},
   "source": [
    "The observations are different in rows, with fewer reviews than metadata. This indicates there are some missing reviews."
   ]
  },
  {
   "cell_type": "code",
   "execution_count": 7,
   "metadata": {
    "ExecuteTime": {
     "end_time": "2019-11-30T11:38:01.198529Z",
     "start_time": "2019-11-30T11:38:00.831378Z"
    },
    "scrolled": true
   },
   "outputs": [],
   "source": [
    "cols = ['user_id','prod_id','date'] #defining which columns to match and join review on\n",
    "final_dataset = first_metadata.join(first_review.set_index(cols), on=cols) #joining metadata and review"
   ]
  },
  {
   "cell_type": "code",
   "execution_count": 8,
   "metadata": {
    "ExecuteTime": {
     "end_time": "2019-11-30T11:38:03.481392Z",
     "start_time": "2019-11-30T11:38:03.331390Z"
    },
    "scrolled": false
   },
   "outputs": [
    {
     "data": {
      "text/plain": [
       "user_id     0\n",
       "prod_id     0\n",
       "rating      0\n",
       "label       0\n",
       "date        0\n",
       "review     95\n",
       "dtype: int64"
      ]
     },
     "execution_count": 8,
     "metadata": {},
     "output_type": "execute_result"
    }
   ],
   "source": [
    "# checking for null values\n",
    "final_dataset.isnull().sum()"
   ]
  },
  {
   "cell_type": "code",
   "execution_count": 9,
   "metadata": {
    "ExecuteTime": {
     "end_time": "2019-11-30T11:38:05.624210Z",
     "start_time": "2019-11-30T11:38:05.620729Z"
    }
   },
   "outputs": [
    {
     "data": {
      "text/plain": [
       "(359052, 6)"
      ]
     },
     "execution_count": 9,
     "metadata": {},
     "output_type": "execute_result"
    }
   ],
   "source": [
    "final_dataset.shape"
   ]
  },
  {
   "cell_type": "code",
   "execution_count": 10,
   "metadata": {
    "ExecuteTime": {
     "end_time": "2019-11-30T11:38:07.685171Z",
     "start_time": "2019-11-30T11:38:07.676980Z"
    }
   },
   "outputs": [
    {
     "data": {
      "text/plain": [
       " 1    322167\n",
       "-1     36885\n",
       "Name: label, dtype: int64"
      ]
     },
     "execution_count": 10,
     "metadata": {},
     "output_type": "execute_result"
    }
   ],
   "source": [
    "final_dataset['label'].value_counts()"
   ]
  },
  {
   "cell_type": "markdown",
   "metadata": {},
   "source": [
    "There are total 95 missing reviews. We will drop these missing values later."
   ]
  },
  {
   "cell_type": "markdown",
   "metadata": {},
   "source": [
    "The label column indicates whether the reviews are considered recommended or not recommended. Recommended review bear the value 1 while not recommended reviews bear the value -1."
   ]
  },
  {
   "cell_type": "code",
   "execution_count": 11,
   "metadata": {
    "ExecuteTime": {
     "end_time": "2019-11-30T11:38:36.478819Z",
     "start_time": "2019-11-30T11:38:36.462237Z"
    }
   },
   "outputs": [],
   "source": [
    "#to change non recommended review to -1, and recommended review to 0.\n",
    "final_dataset['label'] = final_dataset['label'].map({-1:1,1:0})"
   ]
  },
  {
   "cell_type": "code",
   "execution_count": 12,
   "metadata": {
    "ExecuteTime": {
     "end_time": "2019-11-30T11:38:39.779251Z",
     "start_time": "2019-11-30T11:38:39.768119Z"
    },
    "scrolled": true
   },
   "outputs": [
    {
     "data": {
      "text/plain": [
       "0    322167\n",
       "1     36885\n",
       "Name: label, dtype: int64"
      ]
     },
     "execution_count": 12,
     "metadata": {},
     "output_type": "execute_result"
    }
   ],
   "source": [
    "#checking the distribution again\n",
    "final_dataset['label'].value_counts()"
   ]
  },
  {
   "cell_type": "code",
   "execution_count": 13,
   "metadata": {
    "ExecuteTime": {
     "end_time": "2019-11-30T11:38:46.214316Z",
     "start_time": "2019-11-30T11:38:46.210030Z"
    }
   },
   "outputs": [
    {
     "data": {
      "text/plain": [
       "(359052, 6)"
      ]
     },
     "execution_count": 13,
     "metadata": {},
     "output_type": "execute_result"
    }
   ],
   "source": [
    "#checking the number of observations before dropping rows with missing reviews\n",
    "final_dataset.shape"
   ]
  },
  {
   "cell_type": "code",
   "execution_count": 14,
   "metadata": {
    "ExecuteTime": {
     "end_time": "2019-11-30T11:38:53.110259Z",
     "start_time": "2019-11-30T11:38:52.978772Z"
    }
   },
   "outputs": [],
   "source": [
    "#drop rows with missing reviews\n",
    "final_dataset.dropna(inplace=True)"
   ]
  },
  {
   "cell_type": "code",
   "execution_count": 15,
   "metadata": {
    "ExecuteTime": {
     "end_time": "2019-11-30T11:38:55.175486Z",
     "start_time": "2019-11-30T11:38:55.172503Z"
    }
   },
   "outputs": [
    {
     "data": {
      "text/plain": [
       "(358957, 6)"
      ]
     },
     "execution_count": 15,
     "metadata": {},
     "output_type": "execute_result"
    }
   ],
   "source": [
    "#checking final shape of dataset\n",
    "final_dataset.shape"
   ]
  },
  {
   "cell_type": "code",
   "execution_count": 17,
   "metadata": {
    "ExecuteTime": {
     "end_time": "2019-11-30T11:39:21.785133Z",
     "start_time": "2019-11-30T11:39:21.773622Z"
    },
    "scrolled": true
   },
   "outputs": [
    {
     "data": {
      "text/plain": [
       "0    322097\n",
       "1     36860\n",
       "Name: label, dtype: int64"
      ]
     },
     "execution_count": 17,
     "metadata": {},
     "output_type": "execute_result"
    }
   ],
   "source": [
    "#checking the final distribution of labels.\n",
    "final_dataset['label'].value_counts()"
   ]
  },
  {
   "cell_type": "markdown",
   "metadata": {},
   "source": [
    "The dataset is highly unbalanced with only 10% of the reviews as not recommended.<br>\n",
    "<br>\n",
    "There are total 36,860 non-recommended reviews and 322,097 recommended reviews. Thus I will perform unsampling of the recommended reviews based on user_id."
   ]
  },
  {
   "cell_type": "markdown",
   "metadata": {},
   "source": [
    "### Downsample"
   ]
  },
  {
   "cell_type": "code",
   "execution_count": 18,
   "metadata": {},
   "outputs": [],
   "source": [
    "import random\n",
    "random.seed(42)"
   ]
  },
  {
   "cell_type": "code",
   "execution_count": 19,
   "metadata": {
    "ExecuteTime": {
     "end_time": "2019-11-28T11:27:19.222419Z",
     "start_time": "2019-11-28T11:27:19.208198Z"
    }
   },
   "outputs": [],
   "source": [
    "# all user_id with non-recommended review\n",
    "user_id_fake = list(set(final_dataset[final_dataset['label']==1]['user_id'].values))"
   ]
  },
  {
   "cell_type": "code",
   "execution_count": 20,
   "metadata": {
    "ExecuteTime": {
     "end_time": "2019-11-28T11:27:20.086603Z",
     "start_time": "2019-11-28T11:27:19.999674Z"
    }
   },
   "outputs": [],
   "source": [
    "# all user_id with recommended review\n",
    "user_id_real = list(set(final_dataset[final_dataset['label']==0]['user_id'].values))"
   ]
  },
  {
   "cell_type": "code",
   "execution_count": 21,
   "metadata": {
    "ExecuteTime": {
     "end_time": "2019-11-28T11:28:20.438744Z",
     "start_time": "2019-11-28T11:27:20.463433Z"
    }
   },
   "outputs": [],
   "source": [
    "# user_id with no non-recommended review\n",
    "users_with_no_fake = []\n",
    "for user in user_id_real:\n",
    "    if user not in user_id_fake:\n",
    "        users_with_no_fake.append(user)"
   ]
  },
  {
   "cell_type": "code",
   "execution_count": 22,
   "metadata": {
    "ExecuteTime": {
     "end_time": "2019-11-28T11:28:20.588097Z",
     "start_time": "2019-11-28T11:28:20.580607Z"
    }
   },
   "outputs": [],
   "source": [
    "# unique user_id with no non-recommended review\n",
    "users_with_no_fake = list(set(users_with_no_fake))"
   ]
  },
  {
   "cell_type": "code",
   "execution_count": 23,
   "metadata": {
    "ExecuteTime": {
     "end_time": "2019-11-28T11:28:20.791417Z",
     "start_time": "2019-11-28T11:28:20.727593Z"
    }
   },
   "outputs": [
    {
     "data": {
      "text/plain": [
       "(131718, 28483, 160201)"
      ]
     },
     "execution_count": 23,
     "metadata": {},
     "output_type": "execute_result"
    }
   ],
   "source": [
    "#length of user_ids with fake reviews and no fake reviews\n",
    "len(users_with_no_fake), len(user_id_fake), len(set(final_dataset['user_id'].values)) "
   ]
  },
  {
   "cell_type": "markdown",
   "metadata": {
    "scrolled": true
   },
   "source": [
    "Next we will random select 30,000 user_id with no non-recommended review. Together with all the user_id with non-recommended review. They will form our selected user_id and the finalized dataset."
   ]
  },
  {
   "cell_type": "code",
   "execution_count": 24,
   "metadata": {
    "ExecuteTime": {
     "end_time": "2019-11-28T11:28:20.940980Z",
     "start_time": "2019-11-28T11:28:20.929389Z"
    }
   },
   "outputs": [],
   "source": [
    "# random select 30,000 user_id\n",
    "selected_user_id = np.random.choice(users_with_no_fake,size=30000)"
   ]
  },
  {
   "cell_type": "code",
   "execution_count": 25,
   "metadata": {
    "ExecuteTime": {
     "end_time": "2019-11-28T11:28:21.089937Z",
     "start_time": "2019-11-28T11:28:21.086198Z"
    }
   },
   "outputs": [],
   "source": [
    "# merge with our user_id with non-recommended reviews\n",
    "selected_user_id = user_id_fake + list(selected_user_id)"
   ]
  },
  {
   "cell_type": "code",
   "execution_count": 26,
   "metadata": {
    "ExecuteTime": {
     "end_time": "2019-11-28T11:28:21.268756Z",
     "start_time": "2019-11-28T11:28:21.250061Z"
    }
   },
   "outputs": [],
   "source": [
    "#filter the final dataset with all the selected user_id\n",
    "final = final_dataset[final_dataset['user_id'].isin(selected_user_id)]"
   ]
  },
  {
   "cell_type": "code",
   "execution_count": 27,
   "metadata": {
    "ExecuteTime": {
     "end_time": "2019-11-28T11:28:21.440226Z",
     "start_time": "2019-11-28T11:28:21.437190Z"
    }
   },
   "outputs": [
    {
     "data": {
      "text/plain": [
       "(105409, 6)"
      ]
     },
     "execution_count": 27,
     "metadata": {},
     "output_type": "execute_result"
    }
   ],
   "source": [
    "final.shape"
   ]
  },
  {
   "cell_type": "markdown",
   "metadata": {},
   "source": [
    "The final datset is about 30% of our original dataset."
   ]
  },
  {
   "cell_type": "markdown",
   "metadata": {},
   "source": [
    "## Data Dictionary"
   ]
  },
  {
   "cell_type": "markdown",
   "metadata": {
    "ExecuteTime": {
     "end_time": "2019-11-25T09:29:38.689000Z",
     "start_time": "2019-11-25T09:29:38.423800Z"
    }
   },
   "source": [
    "|Feature|Type|Description|\n",
    "|---|---|---|\n",
    "|user_id|object|Unique ID of user|\n",
    "|prod_id|object|Unique ID of restaurant|\n",
    "|rating|object||Rating given by user to restaurants. Can take values 1,2,3,4,5|\n",
    "|date|object|Date of posted review by user|\n",
    "|review|object|Review posted by user|\n",
    "|label|int64|1 - Not Recommended review, 0 - Recommended review|\n",
    "|month|object|Month of posted review by user|\n",
    "|year|object|Year of posted review by user|"
   ]
  },
  {
   "cell_type": "markdown",
   "metadata": {},
   "source": [
    "# Exploratory Data Analysis / Features Engineering"
   ]
  },
  {
   "cell_type": "code",
   "execution_count": 37,
   "metadata": {
    "ExecuteTime": {
     "end_time": "2019-11-25T09:36:21.323335Z",
     "start_time": "2019-11-25T09:36:21.278956Z"
    },
    "scrolled": false
   },
   "outputs": [
    {
     "data": {
      "text/html": [
       "<div>\n",
       "<style scoped>\n",
       "    .dataframe tbody tr th:only-of-type {\n",
       "        vertical-align: middle;\n",
       "    }\n",
       "\n",
       "    .dataframe tbody tr th {\n",
       "        vertical-align: top;\n",
       "    }\n",
       "\n",
       "    .dataframe thead th {\n",
       "        text-align: right;\n",
       "    }\n",
       "</style>\n",
       "<table border=\"1\" class=\"dataframe\">\n",
       "  <thead>\n",
       "    <tr style=\"text-align: right;\">\n",
       "      <th></th>\n",
       "      <th>user_id</th>\n",
       "      <th>prod_id</th>\n",
       "      <th>rating</th>\n",
       "      <th>label</th>\n",
       "      <th>date</th>\n",
       "      <th>review</th>\n",
       "      <th>month</th>\n",
       "      <th>year</th>\n",
       "    </tr>\n",
       "  </thead>\n",
       "  <tbody>\n",
       "    <tr>\n",
       "      <th>0</th>\n",
       "      <td>923</td>\n",
       "      <td>0</td>\n",
       "      <td>3.0</td>\n",
       "      <td>1</td>\n",
       "      <td>2014-12-08</td>\n",
       "      <td>The food at snack is a selection of popular Gr...</td>\n",
       "      <td>12</td>\n",
       "      <td>2014</td>\n",
       "    </tr>\n",
       "    <tr>\n",
       "      <th>1</th>\n",
       "      <td>924</td>\n",
       "      <td>0</td>\n",
       "      <td>3.0</td>\n",
       "      <td>1</td>\n",
       "      <td>2013-05-16</td>\n",
       "      <td>This little place in Soho is wonderful. I had ...</td>\n",
       "      <td>5</td>\n",
       "      <td>2013</td>\n",
       "    </tr>\n",
       "    <tr>\n",
       "      <th>2</th>\n",
       "      <td>925</td>\n",
       "      <td>0</td>\n",
       "      <td>4.0</td>\n",
       "      <td>1</td>\n",
       "      <td>2013-07-01</td>\n",
       "      <td>ordered lunch for 15 from Snack last Friday.  ...</td>\n",
       "      <td>7</td>\n",
       "      <td>2013</td>\n",
       "    </tr>\n",
       "    <tr>\n",
       "      <th>3</th>\n",
       "      <td>926</td>\n",
       "      <td>0</td>\n",
       "      <td>4.0</td>\n",
       "      <td>1</td>\n",
       "      <td>2011-07-28</td>\n",
       "      <td>This is a beautiful quaint little restaurant o...</td>\n",
       "      <td>7</td>\n",
       "      <td>2011</td>\n",
       "    </tr>\n",
       "    <tr>\n",
       "      <th>4</th>\n",
       "      <td>927</td>\n",
       "      <td>0</td>\n",
       "      <td>4.0</td>\n",
       "      <td>1</td>\n",
       "      <td>2010-11-01</td>\n",
       "      <td>Snack is great place for a  casual sit down lu...</td>\n",
       "      <td>11</td>\n",
       "      <td>2010</td>\n",
       "    </tr>\n",
       "  </tbody>\n",
       "</table>\n",
       "</div>"
      ],
      "text/plain": [
       "   user_id  prod_id  rating  label       date  \\\n",
       "0      923        0     3.0      1 2014-12-08   \n",
       "1      924        0     3.0      1 2013-05-16   \n",
       "2      925        0     4.0      1 2013-07-01   \n",
       "3      926        0     4.0      1 2011-07-28   \n",
       "4      927        0     4.0      1 2010-11-01   \n",
       "\n",
       "                                              review  month  year  \n",
       "0  The food at snack is a selection of popular Gr...     12  2014  \n",
       "1  This little place in Soho is wonderful. I had ...      5  2013  \n",
       "2  ordered lunch for 15 from Snack last Friday.  ...      7  2013  \n",
       "3  This is a beautiful quaint little restaurant o...      7  2011  \n",
       "4  Snack is great place for a  casual sit down lu...     11  2010  "
      ]
     },
     "execution_count": 37,
     "metadata": {},
     "output_type": "execute_result"
    }
   ],
   "source": [
    "#checking the first 5 rows\n",
    "final.head()"
   ]
  },
  {
   "cell_type": "markdown",
   "metadata": {},
   "source": [
    "There are a number of features that we might want to explore. Examples are number of times a user had posted a review, number of 5 rating given by a user, number of times a restaurant had received reviews etc.<br>\n",
    "<br>\n",
    "These will be explained in details in this section."
   ]
  },
  {
   "cell_type": "code",
   "execution_count": 38,
   "metadata": {
    "ExecuteTime": {
     "end_time": "2019-11-25T13:20:41.720308Z",
     "start_time": "2019-11-25T13:20:35.777202Z"
    }
   },
   "outputs": [],
   "source": [
    "from wordcloud import WordCloud\n",
    "\n",
    "def draw_wordcloud(text, plot_title=None):\n",
    "    \"\"\"\n",
    "    Generate and draw word cloud from text.\n",
    "    \n",
    "    Parameters\n",
    "    ----------\n",
    "    text : str\n",
    "        Text to generate word cloud from.\n",
    "    title : str\n",
    "        Title to set on plot\n",
    "    mask_img: str\n",
    "        Path to image mask\n",
    "    \"\"\"\n",
    "\n",
    "\n",
    "    wordcloud = WordCloud(\n",
    "        scale=7,\n",
    "        max_words=1000,\n",
    "        background_color='white',\n",
    "        colormap='brg',\n",
    "        contour_width=3,\n",
    "        contour_color='steelblue',\n",
    "        random_state=42\n",
    "    ).generate(text)\n",
    "    plt.figure(figsize=(14,14), facecolor='white')\n",
    "    plt.imshow(wordcloud, interpolation=\"bilinear\")\n",
    "    if plot_title:\n",
    "        plt.title(plot_title, fontsize=20, pad=50)\n",
    "    plt.axis(\"off\")\n",
    "    plt.show()"
   ]
  },
  {
   "cell_type": "markdown",
   "metadata": {},
   "source": [
    "## Distribution of ratings"
   ]
  },
  {
   "cell_type": "code",
   "execution_count": 28,
   "metadata": {
    "ExecuteTime": {
     "end_time": "2019-11-28T11:28:21.716269Z",
     "start_time": "2019-11-28T11:28:21.611680Z"
    }
   },
   "outputs": [],
   "source": [
    "#change date data type\n",
    "final['date'] = pd.to_datetime(final['date'])"
   ]
  },
  {
   "cell_type": "code",
   "execution_count": 29,
   "metadata": {
    "ExecuteTime": {
     "end_time": "2019-11-28T11:28:21.891180Z",
     "start_time": "2019-11-28T11:28:21.888893Z"
    }
   },
   "outputs": [],
   "source": [
    "#new column with year of review posting date\n",
    "final['month'] = [x.month for x in final['date']]"
   ]
  },
  {
   "cell_type": "code",
   "execution_count": 30,
   "metadata": {
    "ExecuteTime": {
     "end_time": "2019-11-28T11:28:22.339733Z",
     "start_time": "2019-11-28T11:28:22.059879Z"
    }
   },
   "outputs": [],
   "source": [
    "#new column with year of review posting date\n",
    "final['year'] = [x.year for x in final['date']]"
   ]
  },
  {
   "cell_type": "code",
   "execution_count": 31,
   "metadata": {
    "ExecuteTime": {
     "end_time": "2019-11-30T10:28:39.336263Z",
     "start_time": "2019-11-30T10:28:39.328562Z"
    },
    "scrolled": true
   },
   "outputs": [
    {
     "data": {
      "text/plain": [
       "year\n",
       "2005       82\n",
       "2006      395\n",
       "2007     1251\n",
       "2008     2748\n",
       "2009     5626\n",
       "2010     9631\n",
       "2011    14749\n",
       "2012    17003\n",
       "2013    22824\n",
       "2014    30470\n",
       "2015      630\n",
       "Name: year, dtype: int64"
      ]
     },
     "execution_count": 31,
     "metadata": {},
     "output_type": "execute_result"
    }
   ],
   "source": [
    "#distribution of the data according to year\n",
    "final.groupby('year')['year'].count()"
   ]
  },
  {
   "cell_type": "code",
   "execution_count": 36,
   "metadata": {
    "ExecuteTime": {
     "end_time": "2019-11-30T11:44:30.525904Z",
     "start_time": "2019-11-30T11:44:30.517920Z"
    }
   },
   "outputs": [
    {
     "data": {
      "text/plain": [
       "0    0.650314\n",
       "1    0.349686\n",
       "Name: label, dtype: float64"
      ]
     },
     "execution_count": 36,
     "metadata": {},
     "output_type": "execute_result"
    }
   ],
   "source": [
    "# distribution of our labels\n",
    "final['label'].value_counts(normalize=True)"
   ]
  },
  {
   "cell_type": "code",
   "execution_count": 33,
   "metadata": {
    "ExecuteTime": {
     "end_time": "2019-11-30T10:28:24.820669Z",
     "start_time": "2019-11-30T10:28:24.239070Z"
    },
    "scrolled": true
   },
   "outputs": [
    {
     "data": {
      "text/plain": [
       "<matplotlib.axes._subplots.AxesSubplot at 0x1f9bf0e3b70>"
      ]
     },
     "execution_count": 33,
     "metadata": {},
     "output_type": "execute_result"
    },
    {
     "data": {
      "image/png": "[encoded data removed]",
      "text/plain": [
       "<Figure size 720x576 with 1 Axes>"
      ]
     },
     "metadata": {
      "needs_background": "light"
     },
     "output_type": "display_data"
    }
   ],
   "source": [
    "final.groupby(['year','label']).size().unstack(fill_value=0).plot.bar(figsize=(10,8))"
   ]
  },
  {
   "cell_type": "markdown",
   "metadata": {},
   "source": [
    "The non-recommended reviews is lesser than the recommended reviews. and follows closely with the distribution of the recommended reviews.<br>\n",
    "<br>"
   ]
  },
  {
   "cell_type": "code",
   "execution_count": 40,
   "metadata": {
    "ExecuteTime": {
     "end_time": "2019-11-29T01:55:13.620672Z",
     "start_time": "2019-11-29T01:55:13.421221Z"
    },
    "scrolled": true
   },
   "outputs": [
    {
     "data": {
      "text/plain": [
       "<matplotlib.axes._subplots.AxesSubplot at 0x1f9bf182e10>"
      ]
     },
     "execution_count": 40,
     "metadata": {},
     "output_type": "execute_result"
    },
    {
     "data": {
      "image/png": "[encoded data removed]",
      "text/plain": [
       "<Figure size 432x288 with 1 Axes>"
      ]
     },
     "metadata": {
      "needs_background": "light"
     },
     "output_type": "display_data"
    }
   ],
   "source": [
    "final.groupby('rating')['rating'].count().plot.bar()"
   ]
  },
  {
   "cell_type": "markdown",
   "metadata": {},
   "source": [
    "There are significant more 4 and 5 ratings than the rest. 1 rating are the fewest. "
   ]
  },
  {
   "cell_type": "code",
   "execution_count": 41,
   "metadata": {
    "ExecuteTime": {
     "end_time": "2019-11-29T01:55:15.885978Z",
     "start_time": "2019-11-29T01:55:15.862820Z"
    },
    "scrolled": false
   },
   "outputs": [
    {
     "data": {
      "text/plain": [
       "rating  label\n",
       "1.0     0         2305\n",
       "        1         3566\n",
       "2.0     0         4073\n",
       "        1         2391\n",
       "3.0     0         9544\n",
       "        1         3167\n",
       "4.0     0        26265\n",
       "        1        10732\n",
       "5.0     0        26362\n",
       "        1        17004\n",
       "Name: review, dtype: int64"
      ]
     },
     "execution_count": 41,
     "metadata": {},
     "output_type": "execute_result"
    }
   ],
   "source": [
    "# distribution of ratings between recommended and not recommended reviews\n",
    "final.groupby(['rating', 'label'])['review'].count()"
   ]
  },
  {
   "cell_type": "code",
   "execution_count": 42,
   "metadata": {
    "ExecuteTime": {
     "end_time": "2019-11-29T01:55:18.353297Z",
     "start_time": "2019-11-29T01:55:18.170634Z"
    },
    "scrolled": false
   },
   "outputs": [
    {
     "data": {
      "image/png": "[encoded data removed]",
      "text/plain": [
       "<Figure size 576x432 with 1 Axes>"
      ]
     },
     "metadata": {
      "needs_background": "light"
     },
     "output_type": "display_data"
    }
   ],
   "source": [
    "final.groupby(['rating', 'label']).size().unstack(fill_value=0).plot.bar(figsize=(8,6))\n",
    "plt.title('Count of ratings between Recommended and non-recommended reviews');"
   ]
  },
  {
   "cell_type": "markdown",
   "metadata": {},
   "source": [
    "There are more 1 rating Non-recommended reviews than recommended reviews. 2 and 5 rating non-recommended reviews are more than half of recommended reviews. These could imply that non-recommended reviews are more polarised to the rating ends. There are more 3 and 4 recommended reviews. This proves that genuine reviews could be more neutral with users not willing to tarish a restaurant's online reputation.<br>\n",
    "<br>\n",
    "There could be a correlation between the average rating that a user gives VS recommended/non-recommended reviews. "
   ]
  },
  {
   "cell_type": "markdown",
   "metadata": {},
   "source": [
    "## Restaurant features"
   ]
  },
  {
   "cell_type": "markdown",
   "metadata": {},
   "source": [
    "### Average rating for each restaurant"
   ]
  },
  {
   "cell_type": "markdown",
   "metadata": {},
   "source": [
    "Here I will like to see the average rating for each restaurant."
   ]
  },
  {
   "cell_type": "code",
   "execution_count": 43,
   "metadata": {
    "ExecuteTime": {
     "end_time": "2019-11-29T01:55:30.703303Z",
     "start_time": "2019-11-29T01:55:30.669679Z"
    }
   },
   "outputs": [],
   "source": [
    "#average the ratings recevied by each restaurant\n",
    "prod_rating = pd.DataFrame(final.groupby('prod_id')['rating'].mean())"
   ]
  },
  {
   "cell_type": "code",
   "execution_count": 44,
   "metadata": {
    "ExecuteTime": {
     "end_time": "2019-11-29T01:55:33.661202Z",
     "start_time": "2019-11-29T01:55:33.006776Z"
    }
   },
   "outputs": [],
   "source": [
    "#storing the average rating in a list\n",
    "prod_rat = []\n",
    "for row in final['prod_id']:\n",
    "        prod_rat.append(prod_rating.loc[row, 'rating'])"
   ]
  },
  {
   "cell_type": "code",
   "execution_count": 45,
   "metadata": {
    "ExecuteTime": {
     "end_time": "2019-11-29T01:55:36.410260Z",
     "start_time": "2019-11-29T01:55:36.090734Z"
    }
   },
   "outputs": [],
   "source": [
    "#created new column for average rating received by each restaurant\n",
    "final['prod_avg_rating'] = prod_rat"
   ]
  },
  {
   "cell_type": "markdown",
   "metadata": {},
   "source": [
    "## Review features"
   ]
  },
  {
   "cell_type": "markdown",
   "metadata": {},
   "source": [
    "Here we are creating features engineered from the review itself. Some of these features could have correlation with predicting fake reviews."
   ]
  },
  {
   "cell_type": "markdown",
   "metadata": {},
   "source": [
    "### Review Length"
   ]
  },
  {
   "cell_type": "code",
   "execution_count": 46,
   "metadata": {
    "ExecuteTime": {
     "end_time": "2019-11-28T11:28:24.984934Z",
     "start_time": "2019-11-28T11:28:24.087341Z"
    }
   },
   "outputs": [],
   "source": [
    "#new columns to count the length of review by characters and words\n",
    "final['num_of_char'] = [len(x) for x in final['review']]\n",
    "final['num_of_words'] = [len(x.split()) for x in final['review']]"
   ]
  },
  {
   "cell_type": "code",
   "execution_count": 47,
   "metadata": {
    "ExecuteTime": {
     "end_time": "2019-11-28T11:28:25.291076Z",
     "start_time": "2019-11-28T11:28:25.185046Z"
    },
    "scrolled": false
   },
   "outputs": [
    {
     "data": {
      "image/png": "[encoded data removed]",
      "text/plain": [
       "<Figure size 432x288 with 1 Axes>"
      ]
     },
     "metadata": {
      "needs_background": "light"
     },
     "output_type": "display_data"
    }
   ],
   "source": [
    "final.groupby('label')['num_of_char'].sum().plot(kind='bar');"
   ]
  },
  {
   "cell_type": "code",
   "execution_count": 48,
   "metadata": {
    "ExecuteTime": {
     "end_time": "2019-11-28T11:28:25.601650Z",
     "start_time": "2019-11-28T11:28:25.480015Z"
    },
    "scrolled": false
   },
   "outputs": [
    {
     "data": {
      "image/png": "[encoded data removed]",
      "text/plain": [
       "<Figure size 432x288 with 1 Axes>"
      ]
     },
     "metadata": {
      "needs_background": "light"
     },
     "output_type": "display_data"
    }
   ],
   "source": [
    "final.groupby('label')['num_of_words'].sum().plot(kind='bar');"
   ]
  },
  {
   "cell_type": "markdown",
   "metadata": {},
   "source": [
    "Non-recommended reviews are generally shorter than recommended reviews both in words and characters. This could potentially be a feature to classify the reviews."
   ]
  },
  {
   "cell_type": "markdown",
   "metadata": {},
   "source": [
    "### Difficult words"
   ]
  },
  {
   "cell_type": "markdown",
   "metadata": {},
   "source": [
    "Using Python library Textstat, we can find words used in reviews that are not common."
   ]
  },
  {
   "cell_type": "code",
   "execution_count": 49,
   "metadata": {
    "ExecuteTime": {
     "end_time": "2019-11-28T11:28:50.634061Z",
     "start_time": "2019-11-28T11:28:25.785932Z"
    }
   },
   "outputs": [],
   "source": [
    "final['difficult_words']= [textstat.difficult_words(x) for x in final['review']]"
   ]
  },
  {
   "cell_type": "markdown",
   "metadata": {},
   "source": [
    "### Average Character per word"
   ]
  },
  {
   "cell_type": "code",
   "execution_count": 50,
   "metadata": {
    "ExecuteTime": {
     "end_time": "2019-11-28T11:28:58.735258Z",
     "start_time": "2019-11-28T11:28:50.844194Z"
    }
   },
   "outputs": [],
   "source": [
    "final['avg_character_per_word']= [textstat.avg_character_per_word(x) for x in final['review']]"
   ]
  },
  {
   "cell_type": "markdown",
   "metadata": {},
   "source": [
    "### Total syllables count of review"
   ]
  },
  {
   "cell_type": "code",
   "execution_count": 51,
   "metadata": {
    "ExecuteTime": {
     "end_time": "2019-11-28T11:29:30.178126Z",
     "start_time": "2019-11-28T11:28:58.934236Z"
    }
   },
   "outputs": [],
   "source": [
    "final['syllable_count']= [textstat.syllable_count(x) for x in final['review']]"
   ]
  },
  {
   "cell_type": "markdown",
   "metadata": {},
   "source": [
    "### Average syllables per word"
   ]
  },
  {
   "cell_type": "code",
   "execution_count": 52,
   "metadata": {
    "ExecuteTime": {
     "end_time": "2019-11-28T11:30:06.322222Z",
     "start_time": "2019-11-28T11:29:30.381658Z"
    }
   },
   "outputs": [],
   "source": [
    "final['avg_syllables_per_word']= [textstat.avg_syllables_per_word(x) for x in final['review']]"
   ]
  },
  {
   "cell_type": "markdown",
   "metadata": {},
   "source": [
    "### Total Sentence count of review"
   ]
  },
  {
   "cell_type": "code",
   "execution_count": 53,
   "metadata": {
    "ExecuteTime": {
     "end_time": "2019-11-28T11:30:17.188655Z",
     "start_time": "2019-11-28T11:30:06.527113Z"
    }
   },
   "outputs": [],
   "source": [
    "final['sentence_count']= [textstat.sentence_count(x) for x in final['review']]"
   ]
  },
  {
   "cell_type": "markdown",
   "metadata": {},
   "source": [
    "### Average sentence length of review"
   ]
  },
  {
   "cell_type": "code",
   "execution_count": 54,
   "metadata": {
    "ExecuteTime": {
     "end_time": "2019-11-28T11:30:34.053275Z",
     "start_time": "2019-11-28T11:30:17.397564Z"
    }
   },
   "outputs": [],
   "source": [
    "final['avg_sentence_length']= [textstat.avg_sentence_length(x) for x in final['review']]"
   ]
  },
  {
   "cell_type": "markdown",
   "metadata": {},
   "source": [
    "### Average sentence per word"
   ]
  },
  {
   "cell_type": "code",
   "execution_count": 55,
   "metadata": {
    "ExecuteTime": {
     "end_time": "2019-11-28T11:30:50.901161Z",
     "start_time": "2019-11-28T11:30:34.257617Z"
    }
   },
   "outputs": [],
   "source": [
    "final['avg_sentence_per_word']= [textstat.avg_sentence_per_word(x) for x in final['review']]"
   ]
  },
  {
   "cell_type": "markdown",
   "metadata": {},
   "source": [
    "### Flesch reading ease"
   ]
  },
  {
   "cell_type": "markdown",
   "metadata": {},
   "source": [
    "Flesch reading ease measures how complex a text is. The lower the score, the more difficult the text is to read."
   ]
  },
  {
   "cell_type": "code",
   "execution_count": 56,
   "metadata": {
    "ExecuteTime": {
     "end_time": "2019-11-28T11:31:37.667931Z",
     "start_time": "2019-11-28T11:30:51.101337Z"
    }
   },
   "outputs": [],
   "source": [
    "final['flesch_reading_ease']= [textstat.flesch_reading_ease(x) for x in final['review']]"
   ]
  },
  {
   "cell_type": "markdown",
   "metadata": {},
   "source": [
    "### Number of stopwords in review"
   ]
  },
  {
   "cell_type": "code",
   "execution_count": 57,
   "metadata": {
    "ExecuteTime": {
     "end_time": "2019-11-28T11:32:24.679091Z",
     "start_time": "2019-11-28T11:32:24.675445Z"
    }
   },
   "outputs": [],
   "source": [
    "stops = set(stopwords.words('english'))"
   ]
  },
  {
   "cell_type": "code",
   "execution_count": 58,
   "metadata": {
    "ExecuteTime": {
     "end_time": "2019-11-28T11:32:24.876307Z",
     "start_time": "2019-11-28T11:32:24.872956Z"
    }
   },
   "outputs": [],
   "source": [
    "def count_stopwords(text):\n",
    "    words = text.split()\n",
    "    words_list = []\n",
    "    for word in words:\n",
    "        if word in stops:\n",
    "            words_list.append(word)\n",
    "    return len(words_list)"
   ]
  },
  {
   "cell_type": "code",
   "execution_count": 59,
   "metadata": {
    "ExecuteTime": {
     "end_time": "2019-11-28T11:32:26.863485Z",
     "start_time": "2019-11-28T11:32:25.069070Z"
    }
   },
   "outputs": [],
   "source": [
    "final['num_of_stopwords'] = [count_stopwords(x) for x in final['review']]"
   ]
  },
  {
   "cell_type": "markdown",
   "metadata": {},
   "source": [
    "### Number of numerics in review"
   ]
  },
  {
   "cell_type": "code",
   "execution_count": 60,
   "metadata": {
    "ExecuteTime": {
     "end_time": "2019-11-28T11:32:27.075020Z",
     "start_time": "2019-11-28T11:32:27.071688Z"
    }
   },
   "outputs": [],
   "source": [
    "def count_numerics(text):\n",
    "    words = text.split()\n",
    "    numerics = []\n",
    "    for word in words:\n",
    "        if word.isdigit():\n",
    "            numerics.append(word)\n",
    "    return len(numerics)   "
   ]
  },
  {
   "cell_type": "code",
   "execution_count": 61,
   "metadata": {
    "ExecuteTime": {
     "end_time": "2019-11-28T11:32:28.558622Z",
     "start_time": "2019-11-28T11:32:27.265007Z"
    }
   },
   "outputs": [],
   "source": [
    "final['num_of_numerics'] = [count_numerics(x) for x in final['review']]"
   ]
  },
  {
   "cell_type": "markdown",
   "metadata": {},
   "source": [
    "### Number of unique words in review"
   ]
  },
  {
   "cell_type": "code",
   "execution_count": 62,
   "metadata": {
    "ExecuteTime": {
     "end_time": "2019-11-28T11:32:30.282642Z",
     "start_time": "2019-11-28T11:32:28.786189Z"
    }
   },
   "outputs": [],
   "source": [
    "final['num_of_unique_words'] = [len(set(row.split())) for row in final['review']]"
   ]
  },
  {
   "cell_type": "markdown",
   "metadata": {},
   "source": [
    "### Number of Uppercase Characters"
   ]
  },
  {
   "cell_type": "code",
   "execution_count": 63,
   "metadata": {
    "ExecuteTime": {
     "end_time": "2019-11-28T11:32:30.550911Z",
     "start_time": "2019-11-28T11:32:30.547153Z"
    }
   },
   "outputs": [],
   "source": [
    "def count_upper(text):\n",
    "    uppercase =[]\n",
    "    for char in text:\n",
    "        if char.isupper():\n",
    "            uppercase.append(char)\n",
    "    return len(uppercase)"
   ]
  },
  {
   "cell_type": "code",
   "execution_count": 64,
   "metadata": {
    "ExecuteTime": {
     "end_time": "2019-11-28T11:32:33.821850Z",
     "start_time": "2019-11-28T11:32:30.797642Z"
    }
   },
   "outputs": [],
   "source": [
    "final['num_of_uppercase_char'] = [count_upper(row) for row in final['review']]"
   ]
  },
  {
   "cell_type": "markdown",
   "metadata": {},
   "source": [
    "### Ratio Uppercase Characters / Total Length of review by characters"
   ]
  },
  {
   "cell_type": "code",
   "execution_count": 65,
   "metadata": {},
   "outputs": [],
   "source": [
    "final['ratio_of_uppercase_char'] = final['num_of_uppercase_char']/final['num_of_char']"
   ]
  },
  {
   "cell_type": "code",
   "execution_count": 117,
   "metadata": {},
   "outputs": [
    {
     "name": "stdout",
     "output_type": "stream",
     "text": [
      "0.03085828006858435\n",
      "0.029250175976686273\n"
     ]
    }
   ],
   "source": [
    "print(final[final['label']==1]['ratio_of_uppercase_char'].mean())\n",
    "print(final[final['label']==0]['ratio_of_uppercase_char'].mean())"
   ]
  },
  {
   "cell_type": "markdown",
   "metadata": {},
   "source": [
    "### Ratio of difficult words / total words"
   ]
  },
  {
   "cell_type": "code",
   "execution_count": 66,
   "metadata": {},
   "outputs": [],
   "source": [
    "final['ratio_of_difficult_words'] = final['difficult_words']/final['num_of_words']"
   ]
  },
  {
   "cell_type": "markdown",
   "metadata": {},
   "source": [
    "### Ratio of unique words / total words"
   ]
  },
  {
   "cell_type": "code",
   "execution_count": 67,
   "metadata": {},
   "outputs": [],
   "source": [
    "final['ratio_of_unique_words'] = final['num_of_unique_words']/final['num_of_words']"
   ]
  },
  {
   "cell_type": "markdown",
   "metadata": {},
   "source": [
    "### Sentiment Analysis of review"
   ]
  },
  {
   "cell_type": "markdown",
   "metadata": {},
   "source": [
    "Using Textblob, we can get sentiment analysis of each review. Textblob offers a score based on the polarity and subjectivity of the content."
   ]
  },
  {
   "cell_type": "code",
   "execution_count": 68,
   "metadata": {
    "ExecuteTime": {
     "end_time": "2019-11-28T11:34:38.038835Z",
     "start_time": "2019-11-28T11:32:34.484455Z"
    }
   },
   "outputs": [],
   "source": [
    "#new columns created with textblob\n",
    "final['polarity'] = [TextBlob(x).sentiment.polarity for x in final['review']]\n",
    "final['subjectivity'] = [TextBlob(x).sentiment.subjectivity for x in final['review']]"
   ]
  },
  {
   "cell_type": "code",
   "execution_count": 54,
   "metadata": {
    "ExecuteTime": {
     "end_time": "2019-12-04T14:34:02.222718Z",
     "start_time": "2019-12-04T14:34:02.095033Z"
    }
   },
   "outputs": [
    {
     "data": {
      "text/plain": [
       "<matplotlib.axes._subplots.AxesSubplot at 0x1a20a66c50>"
      ]
     },
     "execution_count": 54,
     "metadata": {},
     "output_type": "execute_result"
    },
    {
     "data": {
      "image/png": "[encoded data removed]",
      "text/plain": [
       "<Figure size 432x288 with 1 Axes>"
      ]
     },
     "metadata": {
      "needs_background": "light"
     },
     "output_type": "display_data"
    }
   ],
   "source": [
    "final.groupby('label')['polarity'].mean().plot(kind='bar')"
   ]
  },
  {
   "cell_type": "code",
   "execution_count": 55,
   "metadata": {
    "ExecuteTime": {
     "end_time": "2019-12-04T14:34:19.205854Z",
     "start_time": "2019-12-04T14:34:19.073895Z"
    }
   },
   "outputs": [
    {
     "data": {
      "text/plain": [
       "<matplotlib.axes._subplots.AxesSubplot at 0x1a2a0b9358>"
      ]
     },
     "execution_count": 55,
     "metadata": {},
     "output_type": "execute_result"
    },
    {
     "data": {
      "image/png": "[encoded data removed]",
      "text/plain": [
       "<Figure size 432x288 with 1 Axes>"
      ]
     },
     "metadata": {
      "needs_background": "light"
     },
     "output_type": "display_data"
    }
   ],
   "source": [
    "final.groupby('label')['subjectivity'].mean().plot(kind='bar')"
   ]
  },
  {
   "cell_type": "markdown",
   "metadata": {},
   "source": [
    "Next we will also like to user vader's sentiment analyzer. This model gives a score based on the negative, neutral, positive and compound. "
   ]
  },
  {
   "cell_type": "code",
   "execution_count": 69,
   "metadata": {
    "ExecuteTime": {
     "end_time": "2019-11-28T14:03:19.132486Z",
     "start_time": "2019-11-28T13:49:33.601949Z"
    }
   },
   "outputs": [],
   "source": [
    "#new columns created with vader sentiment analyzer\n",
    "analyser = SentimentIntensityAnalyzer()\n",
    "final['Negative'] = [analyser.polarity_scores(x)['neg'] for x in final['review']]\n",
    "final['Neutral'] = [analyser.polarity_scores(x)['neu'] for x in final['review']]\n",
    "final['Positive'] = [analyser.polarity_scores(x)['pos'] for x in final['review']]\n",
    "final['Compound'] = [analyser.polarity_scores(x)['compound'] for x in final['review']]"
   ]
  },
  {
   "cell_type": "code",
   "execution_count": 119,
   "metadata": {},
   "outputs": [
    {
     "name": "stdout",
     "output_type": "stream",
     "text": [
      "0.6802719696147728\n",
      "0.7751285387095423\n"
     ]
    }
   ],
   "source": [
    "print(final[final['label']==1]['Compound'].mean())\n",
    "print(final[final['label']==0]['Compound'].mean())"
   ]
  },
  {
   "cell_type": "markdown",
   "metadata": {},
   "source": [
    "### Parts of Speech (POS)"
   ]
  },
  {
   "cell_type": "markdown",
   "metadata": {},
   "source": [
    "Using SpaCy, we can extract how each word is being used in the review. The list of POS is as follows:<br>\n",
    "<br>\n",
    "ADJ: adjective<br>\n",
    "ADP: adposition<br>\n",
    "ADV: adverb<br>\n",
    "AUX: auxiliary verb<br>\n",
    "CCONJ: coordinating conjunction<br>\n",
    "DET: determiner<br>\n",
    "INTJ: interjection<br>\n",
    "NOUN: noun<br>\n",
    "NUM: numeral<br>\n",
    "PART: particle<br>\n",
    "PRON: pronoun<br>\n",
    "PROPN: proper noun<br>\n",
    "PUNCT: punctuation<br>\n",
    "SCONJ: subordinating conjunction<br>\n",
    "SPACE: space<br>\n",
    "SYM: symbol<br>\n",
    "VERB: verb<br>\n",
    "X: other"
   ]
  },
  {
   "cell_type": "code",
   "execution_count": 70,
   "metadata": {
    "ExecuteTime": {
     "end_time": "2019-11-28T14:03:19.903217Z",
     "start_time": "2019-11-28T14:03:19.403965Z"
    }
   },
   "outputs": [],
   "source": [
    "#load English multi-task CNN by spaCy\n",
    "nlp = spacy.load(\"en_core_web_sm\")"
   ]
  },
  {
   "cell_type": "code",
   "execution_count": 71,
   "metadata": {
    "ExecuteTime": {
     "end_time": "2019-11-29T01:54:50.490667Z",
     "start_time": "2019-11-28T14:03:20.149703Z"
    }
   },
   "outputs": [],
   "source": [
    "#store list of pos\n",
    "listofpos=[]\n",
    "for row in final['review']:\n",
    "    doc = nlp(row)\n",
    "    pos = []\n",
    "    for token in doc:\n",
    "        pos.append(token.pos_)\n",
    "    listofpos.append(pos)"
   ]
  },
  {
   "cell_type": "code",
   "execution_count": 72,
   "metadata": {
    "ExecuteTime": {
     "end_time": "2019-11-29T01:54:52.286292Z",
     "start_time": "2019-11-29T01:54:51.842994Z"
    }
   },
   "outputs": [],
   "source": [
    "#new column created with all the pos for the particular review\n",
    "final['pos'] = listofpos"
   ]
  },
  {
   "cell_type": "code",
   "execution_count": 73,
   "metadata": {
    "ExecuteTime": {
     "end_time": "2019-11-29T01:54:54.729727Z",
     "start_time": "2019-11-29T01:54:53.665753Z"
    }
   },
   "outputs": [],
   "source": [
    "#store all the pos\n",
    "allpos=[]\n",
    "for pos_list in listofpos:\n",
    "    for pos in pos_list:\n",
    "        allpos.append(pos)"
   ]
  },
  {
   "cell_type": "code",
   "execution_count": 74,
   "metadata": {
    "ExecuteTime": {
     "end_time": "2019-11-29T01:54:59.758778Z",
     "start_time": "2019-11-29T01:54:57.071478Z"
    }
   },
   "outputs": [
    {
     "data": {
      "text/plain": [
       "(array(['ADJ', 'ADP', 'ADV', 'AUX', 'CCONJ', 'DET', 'INTJ', 'NOUN', 'NUM',\n",
       "        'PART', 'PRON', 'PROPN', 'PUNCT', 'SCONJ', 'SPACE', 'SYM', 'VERB',\n",
       "        'X'], dtype='<U5'),\n",
       " array([1113173,  944060,  890143,  875985,  538954, 1432100,   36634,\n",
       "        2147554,  148502,  328269,  961499,  492188, 1616521,  219072,\n",
       "         182525,   36685, 1301200,    9345], dtype=int64))"
      ]
     },
     "execution_count": 74,
     "metadata": {},
     "output_type": "execute_result"
    }
   ],
   "source": [
    "#finding the unique pos\n",
    "unique_elements, counts_elements = np.unique(allpos, return_counts=True)\n",
    "unique_elements, counts_elements"
   ]
  },
  {
   "cell_type": "code",
   "execution_count": 75,
   "metadata": {
    "ExecuteTime": {
     "end_time": "2019-11-29T01:55:11.119196Z",
     "start_time": "2019-11-29T01:55:02.075102Z"
    }
   },
   "outputs": [],
   "source": [
    "#new columns created with the count of each pos for each review\n",
    "final['ADJ'] = [ x.count('ADJ') for x in final['pos']]\n",
    "final['ADP'] = [ x.count('ADP') for x in final['pos']]\n",
    "final['ADV'] = [ x.count('ADV') for x in final['pos']]\n",
    "final['AUX'] = [ x.count('AUX') for x in final['pos']]\n",
    "final['CCONJ'] = [ x.count('CCONJ') for x in final['pos']]\n",
    "final['DET'] = [ x.count('DET') for x in final['pos']]\n",
    "final['INTJ'] = [ x.count('INTJ') for x in final['pos']]\n",
    "final['NOUN'] = [ x.count('NOUN') for x in final['pos']]\n",
    "final['NUM'] = [ x.count('NUM') for x in final['pos']]\n",
    "final['PART'] = [ x.count('PART') for x in final['pos']]\n",
    "final['PRON'] = [ x.count('PRON') for x in final['pos']]\n",
    "final['PROPN'] = [ x.count('PROPN') for x in final['pos']]\n",
    "final['PUNCT'] = [ x.count('PUNCT') for x in final['pos']]\n",
    "final['SCONJ'] = [ x.count('SCONJ') for x in final['pos']]\n",
    "final['SPACE'] = [ x.count('SPACE') for x in final['pos']]\n",
    "final['SYM'] = [ x.count('SYM') for x in final['pos']]\n",
    "final['VERB'] = [ x.count('VERB') for x in final['pos']]\n",
    "final['X'] = [ x.count('X') for x in final['pos']]"
   ]
  },
  {
   "cell_type": "markdown",
   "metadata": {},
   "source": [
    "### Ratio of Noun / POS"
   ]
  },
  {
   "cell_type": "code",
   "execution_count": 76,
   "metadata": {},
   "outputs": [],
   "source": [
    "#new columns created with the ratio of each pos for each review\n",
    "final['Ratio_of_ADJ'] = final['ADJ']/final['num_of_words']\n",
    "final['Ratio_of_ADP'] = final['ADP']/final['num_of_words']\n",
    "final['Ratio_of_ADV'] = final['ADV']/final['num_of_words']\n",
    "final['Ratio_of_AUX'] = final['AUX']/final['num_of_words']\n",
    "final['Ratio_of_CCONJ'] = final['CCONJ']/final['num_of_words']\n",
    "final['Ratio_of_DET'] = final['DET']/final['num_of_words']\n",
    "final['Ratio_of_INTJ'] = final['INTJ']/final['num_of_words']\n",
    "final['Ratio_of_NOUN'] = final['NOUN']/final['num_of_words']\n",
    "final['Ratio_of_NUM'] = final['NUM']/final['num_of_words']\n",
    "final['Ratio_of_PART'] = final['PART']/final['num_of_words']\n",
    "final['Ratio_of_PRON'] = final['PRON']/final['num_of_words']\n",
    "final['Ratio_of_PROPN'] = final['PROPN']/final['num_of_words']\n",
    "final['Ratio_of_PUNCT'] = final['PUNCT']/final['num_of_words']\n",
    "final['Ratio_of_SCONJ'] = final['SCONJ']/final['num_of_words']\n",
    "final['Ratio_of_SPACE'] = final['SPACE']/final['num_of_words']\n",
    "final['Ratio_of_SYM'] = final['SYM']/final['num_of_words']\n",
    "final['Ratio_of_VERB'] = final['VERB']/final['num_of_words']\n",
    "final['Ratio_of_X'] = final['X']/final['num_of_words']"
   ]
  },
  {
   "cell_type": "code",
   "execution_count": 118,
   "metadata": {},
   "outputs": [
    {
     "name": "stdout",
     "output_type": "stream",
     "text": [
      "0.16807413853921085\n",
      "0.15931865942586743\n"
     ]
    }
   ],
   "source": [
    "print(final[final['label']==1]['Ratio_of_PUNCT'].mean())\n",
    "print(final[final['label']==0]['Ratio_of_PUNCT'].mean())"
   ]
  },
  {
   "cell_type": "markdown",
   "metadata": {},
   "source": [
    "#### Difference between user rating and restaurant average rating"
   ]
  },
  {
   "cell_type": "code",
   "execution_count": 77,
   "metadata": {
    "ExecuteTime": {
     "end_time": "2019-11-29T01:56:49.941789Z",
     "start_time": "2019-11-29T01:56:49.642939Z"
    }
   },
   "outputs": [],
   "source": [
    "#new column created for the difference between given rating and the average rating recevied by the restaurant\n",
    "final['diff_in_rating'] =  final['rating'] - final['prod_avg_rating']"
   ]
  },
  {
   "cell_type": "code",
   "execution_count": 111,
   "metadata": {},
   "outputs": [
    {
     "name": "stdout",
     "output_type": "stream",
     "text": [
      "-0.05233669837925459\n",
      "0.028142360971849457\n"
     ]
    }
   ],
   "source": [
    "print(final[final['label']==1]['diff_in_rating'].mean())\n",
    "print(final[final['label']==0]['diff_in_rating'].mean())"
   ]
  },
  {
   "cell_type": "markdown",
   "metadata": {},
   "source": [
    "## User's features"
   ]
  },
  {
   "cell_type": "markdown",
   "metadata": {},
   "source": [
    "'user_lifetime', 'ratio_review_lifetime', 'avg_day_between_reviews',\n",
    "       'mean_syllable_user', 'avg_rating_dev_res', 'ratio_review_timespan',\n",
    "       'num_of_reviews', 'mean_num_words_user',\n",
    "       'ratio_postive_rating_timespan', 'rating_dev', 'mean_readability_user',\n",
    "       'diff_in_rating', 'polarity', 'num_of_four_rating', 'subjectivity',\n",
    "       'ratio_of_uppercase_char', 'mean_num_sentence_user', 'Compound',\n",
    "       'Ratio_of_PUNCT', 'ratio_same_day_lifetime'"
   ]
  },
  {
   "cell_type": "markdown",
   "metadata": {},
   "source": [
    "In this section we are creating features engineered from the users itself. These features could give insights to how spam users are behaving and could be used for predictions."
   ]
  },
  {
   "cell_type": "code",
   "execution_count": 106,
   "metadata": {
    "ExecuteTime": {
     "end_time": "2019-11-29T01:55:38.846051Z",
     "start_time": "2019-11-29T01:55:38.798677Z"
    }
   },
   "outputs": [],
   "source": [
    "#filter user features as a new dataframe\n",
    "user_df_2015 = final[['user_id','date','year','rating','label']].sort_values(by=['user_id', 'date'])"
   ]
  },
  {
   "cell_type": "code",
   "execution_count": 107,
   "metadata": {
    "ExecuteTime": {
     "end_time": "2019-11-29T01:55:41.271364Z",
     "start_time": "2019-11-29T01:55:41.262787Z"
    },
    "scrolled": false
   },
   "outputs": [
    {
     "data": {
      "text/html": [
       "<div>\n",
       "<style scoped>\n",
       "    .dataframe tbody tr th:only-of-type {\n",
       "        vertical-align: middle;\n",
       "    }\n",
       "\n",
       "    .dataframe tbody tr th {\n",
       "        vertical-align: top;\n",
       "    }\n",
       "\n",
       "    .dataframe thead th {\n",
       "        text-align: right;\n",
       "    }\n",
       "</style>\n",
       "<table border=\"1\" class=\"dataframe\">\n",
       "  <thead>\n",
       "    <tr style=\"text-align: right;\">\n",
       "      <th></th>\n",
       "      <th>user_id</th>\n",
       "      <th>date</th>\n",
       "      <th>year</th>\n",
       "      <th>rating</th>\n",
       "      <th>label</th>\n",
       "    </tr>\n",
       "  </thead>\n",
       "  <tbody>\n",
       "    <tr>\n",
       "      <th>289698</th>\n",
       "      <td>923</td>\n",
       "      <td>2013-11-04</td>\n",
       "      <td>2013</td>\n",
       "      <td>5.0</td>\n",
       "      <td>1</td>\n",
       "    </tr>\n",
       "    <tr>\n",
       "      <th>175032</th>\n",
       "      <td>923</td>\n",
       "      <td>2013-11-11</td>\n",
       "      <td>2013</td>\n",
       "      <td>5.0</td>\n",
       "      <td>1</td>\n",
       "    </tr>\n",
       "    <tr>\n",
       "      <th>237712</th>\n",
       "      <td>923</td>\n",
       "      <td>2013-11-19</td>\n",
       "      <td>2013</td>\n",
       "      <td>5.0</td>\n",
       "      <td>1</td>\n",
       "    </tr>\n",
       "    <tr>\n",
       "      <th>246545</th>\n",
       "      <td>923</td>\n",
       "      <td>2013-11-19</td>\n",
       "      <td>2013</td>\n",
       "      <td>5.0</td>\n",
       "      <td>1</td>\n",
       "    </tr>\n",
       "    <tr>\n",
       "      <th>73868</th>\n",
       "      <td>923</td>\n",
       "      <td>2013-11-27</td>\n",
       "      <td>2013</td>\n",
       "      <td>5.0</td>\n",
       "      <td>1</td>\n",
       "    </tr>\n",
       "  </tbody>\n",
       "</table>\n",
       "</div>"
      ],
      "text/plain": [
       "        user_id       date  year  rating  label\n",
       "289698      923 2013-11-04  2013     5.0      1\n",
       "175032      923 2013-11-11  2013     5.0      1\n",
       "237712      923 2013-11-19  2013     5.0      1\n",
       "246545      923 2013-11-19  2013     5.0      1\n",
       "73868       923 2013-11-27  2013     5.0      1"
      ]
     },
     "execution_count": 107,
     "metadata": {},
     "output_type": "execute_result"
    }
   ],
   "source": [
    "#checking first 5 rows\n",
    "user_df_2015.head()"
   ]
  },
  {
   "cell_type": "markdown",
   "metadata": {},
   "source": [
    "### Total number of posts for each user_id"
   ]
  },
  {
   "cell_type": "markdown",
   "metadata": {},
   "source": [
    "Hwere I will like to know the total number of posts for each user_id."
   ]
  },
  {
   "cell_type": "code",
   "execution_count": 108,
   "metadata": {
    "ExecuteTime": {
     "end_time": "2019-11-29T01:55:43.698564Z",
     "start_time": "2019-11-29T01:55:43.690353Z"
    }
   },
   "outputs": [],
   "source": [
    "#getting the total number of posts per user_id\n",
    "num_of_reviews = pd.DataFrame(user_df_2015.groupby('user_id')['user_id'].count())"
   ]
  },
  {
   "cell_type": "code",
   "execution_count": 109,
   "metadata": {
    "ExecuteTime": {
     "end_time": "2019-11-29T01:55:46.591337Z",
     "start_time": "2019-11-29T01:55:45.992887Z"
    }
   },
   "outputs": [],
   "source": [
    "#storing the number of reviews per user_id in a list\n",
    "user_reviews = []\n",
    "for row in final['user_id']:\n",
    "        user_reviews.append(num_of_reviews.loc[row, 'user_id'])"
   ]
  },
  {
   "cell_type": "code",
   "execution_count": 110,
   "metadata": {
    "ExecuteTime": {
     "end_time": "2019-11-29T01:55:49.219461Z",
     "start_time": "2019-11-29T01:55:48.914818Z"
    }
   },
   "outputs": [],
   "source": [
    "#new column with number of reviews for the user_id\n",
    "final['num_of_reviews'] = user_reviews"
   ]
  },
  {
   "cell_type": "markdown",
   "metadata": {},
   "source": [
    "### Number of ratings for each user_id"
   ]
  },
  {
   "cell_type": "markdown",
   "metadata": {
    "ExecuteTime": {
     "end_time": "2019-11-25T12:40:33.240593Z",
     "start_time": "2019-11-25T12:40:33.186890Z"
    }
   },
   "source": [
    "I will also like to know the total number of ratings per category given by each user_id."
   ]
  },
  {
   "cell_type": "code",
   "execution_count": 111,
   "metadata": {
    "ExecuteTime": {
     "end_time": "2019-11-29T01:55:51.765461Z",
     "start_time": "2019-11-29T01:55:51.690193Z"
    }
   },
   "outputs": [],
   "source": [
    "#group and count the total ratings per user_id\n",
    "table = pd.pivot_table(user_df_2015, values ='label', index=['user_id'], columns=['rating'], aggfunc='count')"
   ]
  },
  {
   "cell_type": "code",
   "execution_count": 112,
   "metadata": {
    "ExecuteTime": {
     "end_time": "2019-11-29T01:55:54.209855Z",
     "start_time": "2019-11-29T01:55:54.201610Z"
    },
    "scrolled": true
   },
   "outputs": [
    {
     "data": {
      "text/html": [
       "<div>\n",
       "<style scoped>\n",
       "    .dataframe tbody tr th:only-of-type {\n",
       "        vertical-align: middle;\n",
       "    }\n",
       "\n",
       "    .dataframe tbody tr th {\n",
       "        vertical-align: top;\n",
       "    }\n",
       "\n",
       "    .dataframe thead th {\n",
       "        text-align: right;\n",
       "    }\n",
       "</style>\n",
       "<table border=\"1\" class=\"dataframe\">\n",
       "  <thead>\n",
       "    <tr style=\"text-align: right;\">\n",
       "      <th>rating</th>\n",
       "      <th>1.0</th>\n",
       "      <th>2.0</th>\n",
       "      <th>3.0</th>\n",
       "      <th>4.0</th>\n",
       "      <th>5.0</th>\n",
       "    </tr>\n",
       "    <tr>\n",
       "      <th>user_id</th>\n",
       "      <th></th>\n",
       "      <th></th>\n",
       "      <th></th>\n",
       "      <th></th>\n",
       "      <th></th>\n",
       "    </tr>\n",
       "  </thead>\n",
       "  <tbody>\n",
       "    <tr>\n",
       "      <th>923</th>\n",
       "      <td>1.0</td>\n",
       "      <td>NaN</td>\n",
       "      <td>3.0</td>\n",
       "      <td>12.0</td>\n",
       "      <td>23.0</td>\n",
       "    </tr>\n",
       "    <tr>\n",
       "      <th>924</th>\n",
       "      <td>NaN</td>\n",
       "      <td>NaN</td>\n",
       "      <td>1.0</td>\n",
       "      <td>NaN</td>\n",
       "      <td>NaN</td>\n",
       "    </tr>\n",
       "    <tr>\n",
       "      <th>925</th>\n",
       "      <td>NaN</td>\n",
       "      <td>NaN</td>\n",
       "      <td>NaN</td>\n",
       "      <td>2.0</td>\n",
       "      <td>NaN</td>\n",
       "    </tr>\n",
       "    <tr>\n",
       "      <th>926</th>\n",
       "      <td>NaN</td>\n",
       "      <td>NaN</td>\n",
       "      <td>NaN</td>\n",
       "      <td>1.0</td>\n",
       "      <td>NaN</td>\n",
       "    </tr>\n",
       "    <tr>\n",
       "      <th>927</th>\n",
       "      <td>NaN</td>\n",
       "      <td>1.0</td>\n",
       "      <td>1.0</td>\n",
       "      <td>2.0</td>\n",
       "      <td>1.0</td>\n",
       "    </tr>\n",
       "  </tbody>\n",
       "</table>\n",
       "</div>"
      ],
      "text/plain": [
       "rating   1.0  2.0  3.0   4.0   5.0\n",
       "user_id                           \n",
       "923      1.0  NaN  3.0  12.0  23.0\n",
       "924      NaN  NaN  1.0   NaN   NaN\n",
       "925      NaN  NaN  NaN   2.0   NaN\n",
       "926      NaN  NaN  NaN   1.0   NaN\n",
       "927      NaN  1.0  1.0   2.0   1.0"
      ]
     },
     "execution_count": 112,
     "metadata": {},
     "output_type": "execute_result"
    }
   ],
   "source": [
    "#checking the first 5 row\n",
    "table.head()"
   ]
  },
  {
   "cell_type": "code",
   "execution_count": 113,
   "metadata": {
    "ExecuteTime": {
     "end_time": "2019-11-29T01:55:57.585168Z",
     "start_time": "2019-11-29T01:55:56.602841Z"
    }
   },
   "outputs": [],
   "source": [
    "#creating new column - no. of 5 rating per user_id\n",
    "five_rating = []\n",
    "for row in final['user_id']:\n",
    "        five_rating.append(table.loc[row, 5])\n",
    "final['num_of_five_rating'] = five_rating"
   ]
  },
  {
   "cell_type": "code",
   "execution_count": 114,
   "metadata": {
    "ExecuteTime": {
     "end_time": "2019-11-29T01:56:00.991581Z",
     "start_time": "2019-11-29T01:55:59.988191Z"
    }
   },
   "outputs": [],
   "source": [
    "#creating new column - no. of 4 rating per user_id\n",
    "four_rating = []\n",
    "for row in final['user_id']:\n",
    "        four_rating.append(table.loc[row, 4])\n",
    "final['num_of_four_rating'] = four_rating"
   ]
  },
  {
   "cell_type": "code",
   "execution_count": 115,
   "metadata": {
    "ExecuteTime": {
     "end_time": "2019-11-29T01:56:04.466283Z",
     "start_time": "2019-11-29T01:56:03.471910Z"
    }
   },
   "outputs": [],
   "source": [
    "#creating new column - no. of 3 rating per user_id\n",
    "three_rating = []\n",
    "for row in final['user_id']:\n",
    "        three_rating.append(table.loc[row, 3])\n",
    "final['num_of_three_rating'] = three_rating"
   ]
  },
  {
   "cell_type": "code",
   "execution_count": 116,
   "metadata": {
    "ExecuteTime": {
     "end_time": "2019-11-29T01:56:07.804170Z",
     "start_time": "2019-11-29T01:56:06.872522Z"
    }
   },
   "outputs": [],
   "source": [
    "#creating new column - no. of 2 rating per user_id\n",
    "two_rating = []\n",
    "for row in final['user_id']:\n",
    "        two_rating.append(table.loc[row, 2])\n",
    "final['num_of_two_rating'] = two_rating"
   ]
  },
  {
   "cell_type": "code",
   "execution_count": 117,
   "metadata": {
    "ExecuteTime": {
     "end_time": "2019-11-29T01:56:11.229692Z",
     "start_time": "2019-11-29T01:56:10.259597Z"
    }
   },
   "outputs": [],
   "source": [
    "#creating new column - no. of 1 rating per user_id\n",
    "one_rating = []\n",
    "for row in final['user_id']:\n",
    "        one_rating.append(table.loc[row, 1])\n",
    "final['num_of_one_rating'] = one_rating"
   ]
  },
  {
   "cell_type": "code",
   "execution_count": 118,
   "metadata": {
    "ExecuteTime": {
     "end_time": "2019-11-29T01:56:14.158016Z",
     "start_time": "2019-11-29T01:56:13.744779Z"
    }
   },
   "outputs": [],
   "source": [
    "#fill Nan values with 0 as ther are 0 such rating given by the user_id\n",
    "final.fillna(0,inplace=True)"
   ]
  },
  {
   "cell_type": "markdown",
   "metadata": {},
   "source": [
    "### Average duration between each post for each user_id"
   ]
  },
  {
   "cell_type": "markdown",
   "metadata": {},
   "source": [
    "I will like to know what is the duration between each review by each user_id. As the dataset only have the date, the difference will be in days."
   ]
  },
  {
   "cell_type": "code",
   "execution_count": 119,
   "metadata": {
    "ExecuteTime": {
     "end_time": "2019-11-29T01:56:16.721913Z",
     "start_time": "2019-11-29T01:56:16.716600Z"
    }
   },
   "outputs": [],
   "source": [
    "#change the data type to datetime\n",
    "user_df_2015['date'] = pd.to_datetime(user_df_2015['date'])"
   ]
  },
  {
   "cell_type": "code",
   "execution_count": 120,
   "metadata": {
    "ExecuteTime": {
     "end_time": "2019-11-29T01:56:19.298582Z",
     "start_time": "2019-11-29T01:56:19.293731Z"
    }
   },
   "outputs": [],
   "source": [
    "#create new column with the difference in days with the next row\n",
    "user_df_2015['diff'] = user_df_2015['date'].diff()"
   ]
  },
  {
   "cell_type": "code",
   "execution_count": 121,
   "metadata": {
    "ExecuteTime": {
     "end_time": "2019-11-29T01:56:21.844646Z",
     "start_time": "2019-11-29T01:56:21.832233Z"
    }
   },
   "outputs": [],
   "source": [
    "#filtered out the first appearance of each user_id\n",
    "user_df_2015_duplicate = user_df_2015[user_df_2015.duplicated('user_id')]"
   ]
  },
  {
   "cell_type": "code",
   "execution_count": 122,
   "metadata": {
    "ExecuteTime": {
     "end_time": "2019-11-29T01:56:24.934983Z",
     "start_time": "2019-11-29T01:56:24.288678Z"
    }
   },
   "outputs": [],
   "source": [
    "#extracting the days out of datetime fortmat and changing to int.\n",
    "user_df_2015_duplicate['diff'] = user_df_2015_duplicate['diff'].apply(lambda x: x.days).astype('int64')"
   ]
  },
  {
   "cell_type": "code",
   "execution_count": 123,
   "metadata": {
    "ExecuteTime": {
     "end_time": "2019-11-29T01:56:27.447495Z",
     "start_time": "2019-11-29T01:56:27.436461Z"
    },
    "scrolled": true
   },
   "outputs": [],
   "source": [
    "#groupby user_id and average the difference\n",
    "diff = pd.DataFrame(user_df_2015_duplicate.groupby('user_id')['diff'].mean())"
   ]
  },
  {
   "cell_type": "code",
   "execution_count": 124,
   "metadata": {
    "ExecuteTime": {
     "end_time": "2019-11-29T01:56:31.809792Z",
     "start_time": "2019-11-29T01:56:29.999232Z"
    }
   },
   "outputs": [],
   "source": [
    "#storing all the average difference in a list\n",
    "avg_day = []\n",
    "for row in final['user_id']:\n",
    "    try:\n",
    "        avg_day.append(diff.loc[row, 'diff'])\n",
    "    except:\n",
    "        avg_day.append('0')"
   ]
  },
  {
   "cell_type": "code",
   "execution_count": 125,
   "metadata": {
    "ExecuteTime": {
     "end_time": "2019-11-29T01:56:34.609370Z",
     "start_time": "2019-11-29T01:56:34.318554Z"
    }
   },
   "outputs": [],
   "source": [
    "#new column created for the average difference between each review per user_id\n",
    "final['avg_day_between_reviews'] = avg_day"
   ]
  },
  {
   "cell_type": "code",
   "execution_count": 126,
   "metadata": {
    "ExecuteTime": {
     "end_time": "2019-11-29T01:56:37.425033Z",
     "start_time": "2019-11-29T01:56:37.132854Z"
    }
   },
   "outputs": [],
   "source": [
    "#changing the data type to float\n",
    "final['avg_day_between_reviews'] = final['avg_day_between_reviews'].astype('float64')"
   ]
  },
  {
   "cell_type": "code",
   "execution_count": 107,
   "metadata": {},
   "outputs": [
    {
     "data": {
      "text/plain": [
       "93.95164708152573"
      ]
     },
     "execution_count": 107,
     "metadata": {},
     "output_type": "execute_result"
    }
   ],
   "source": [
    "final[final['label']==0]['avg_day_between_reviews'].mean()"
   ]
  },
  {
   "cell_type": "code",
   "execution_count": 108,
   "metadata": {},
   "outputs": [
    {
     "data": {
      "text/plain": [
       "24.856449379692926"
      ]
     },
     "execution_count": 108,
     "metadata": {},
     "output_type": "execute_result"
    }
   ],
   "source": [
    "final[final['label']==1]['avg_day_between_reviews'].mean()"
   ]
  },
  {
   "cell_type": "markdown",
   "metadata": {},
   "source": [
    "### Number of same day reviews for each user_id"
   ]
  },
  {
   "cell_type": "markdown",
   "metadata": {},
   "source": [
    "I will also like to find out the number of same day reviews for each user_id."
   ]
  },
  {
   "cell_type": "code",
   "execution_count": 127,
   "metadata": {
    "ExecuteTime": {
     "end_time": "2019-11-30T11:16:36.047795Z",
     "start_time": "2019-11-30T11:16:36.013612Z"
    }
   },
   "outputs": [],
   "source": [
    "#filtering same day review\n",
    "user_same_day = user_df_2015[user_df_2015.duplicated(['user_id','date'])]"
   ]
  },
  {
   "cell_type": "code",
   "execution_count": 128,
   "metadata": {
    "ExecuteTime": {
     "end_time": "2019-11-30T11:20:15.154013Z",
     "start_time": "2019-11-30T11:20:15.148138Z"
    }
   },
   "outputs": [],
   "source": [
    "#counting the number of same day review per user_id\n",
    "user_df_2015_duplicate_count = pd.DataFrame(user_same_day.groupby('user_id')['user_id'].count())"
   ]
  },
  {
   "cell_type": "code",
   "execution_count": 129,
   "metadata": {
    "ExecuteTime": {
     "end_time": "2019-11-30T11:20:28.770427Z",
     "start_time": "2019-11-30T11:20:26.576135Z"
    }
   },
   "outputs": [],
   "source": [
    "#storing the count in a list\n",
    "same_day_review_count = []\n",
    "for row in final['user_id']:\n",
    "    try:\n",
    "        same_day_review_count.append(user_df_2015_duplicate_count.loc[row, 'user_id'])\n",
    "    except:\n",
    "        same_day_review_count.append(0)"
   ]
  },
  {
   "cell_type": "code",
   "execution_count": 130,
   "metadata": {
    "ExecuteTime": {
     "end_time": "2019-11-30T11:20:31.114116Z",
     "start_time": "2019-11-30T11:20:30.823761Z"
    }
   },
   "outputs": [],
   "source": [
    "#new column created with the count of same day reviews.\n",
    "final['same_day_review_count'] = same_day_review_count"
   ]
  },
  {
   "cell_type": "markdown",
   "metadata": {},
   "source": [
    "### Lifetime of user_id (in days)"
   ]
  },
  {
   "cell_type": "code",
   "execution_count": 131,
   "metadata": {
    "ExecuteTime": {
     "end_time": "2019-11-29T01:56:52.529430Z",
     "start_time": "2019-11-29T01:56:52.495999Z"
    }
   },
   "outputs": [],
   "source": [
    "first_day_post = pd.DataFrame(user_df_2015.groupby('user_id').first()['date'])\n",
    "last_day_post = pd.DataFrame(user_df_2015.groupby('user_id').last()['date'])"
   ]
  },
  {
   "cell_type": "code",
   "execution_count": 132,
   "metadata": {
    "ExecuteTime": {
     "end_time": "2019-11-29T01:56:55.935461Z",
     "start_time": "2019-11-29T01:56:55.064083Z"
    }
   },
   "outputs": [],
   "source": [
    "first_post = []\n",
    "for row in final['user_id']:\n",
    "        first_post.append(first_day_post.loc[row, 'date'])"
   ]
  },
  {
   "cell_type": "code",
   "execution_count": 133,
   "metadata": {
    "ExecuteTime": {
     "end_time": "2019-11-29T01:56:59.295009Z",
     "start_time": "2019-11-29T01:56:58.973672Z"
    }
   },
   "outputs": [],
   "source": [
    "final['first_date_post'] = first_post"
   ]
  },
  {
   "cell_type": "code",
   "execution_count": 134,
   "metadata": {
    "ExecuteTime": {
     "end_time": "2019-11-29T01:57:03.299047Z",
     "start_time": "2019-11-29T01:57:02.392709Z"
    }
   },
   "outputs": [],
   "source": [
    "last_post = []\n",
    "for row in final['user_id']:\n",
    "        last_post.append(last_day_post.loc[row, 'date'])"
   ]
  },
  {
   "cell_type": "code",
   "execution_count": 135,
   "metadata": {
    "ExecuteTime": {
     "end_time": "2019-11-29T01:57:07.280360Z",
     "start_time": "2019-11-29T01:57:06.943625Z"
    }
   },
   "outputs": [],
   "source": [
    "final['last_date_post'] = last_post"
   ]
  },
  {
   "cell_type": "code",
   "execution_count": 136,
   "metadata": {
    "ExecuteTime": {
     "end_time": "2019-11-29T13:17:01.248802Z",
     "start_time": "2019-11-29T13:17:00.947312Z"
    }
   },
   "outputs": [],
   "source": [
    "final['user_lifetime'] = final['last_date_post'] - final['first_date_post']"
   ]
  },
  {
   "cell_type": "code",
   "execution_count": 137,
   "metadata": {
    "ExecuteTime": {
     "end_time": "2019-11-29T13:18:10.143754Z",
     "start_time": "2019-11-29T13:18:09.311822Z"
    }
   },
   "outputs": [],
   "source": [
    "final['user_lifetime'] = [x.days for x in final['user_lifetime']]"
   ]
  },
  {
   "cell_type": "code",
   "execution_count": 138,
   "metadata": {},
   "outputs": [],
   "source": [
    "final['user_lifetime'] = final['user_lifetime'] + 1"
   ]
  },
  {
   "cell_type": "code",
   "execution_count": 88,
   "metadata": {},
   "outputs": [
    {
     "data": {
      "text/plain": [
       "578.7756495353689"
      ]
     },
     "execution_count": 88,
     "metadata": {},
     "output_type": "execute_result"
    }
   ],
   "source": [
    "final[final['label']==0]['user_lifetime'].mean()"
   ]
  },
  {
   "cell_type": "code",
   "execution_count": 89,
   "metadata": {},
   "outputs": [
    {
     "data": {
      "text/plain": [
       "68.52289744981009"
      ]
     },
     "execution_count": 89,
     "metadata": {},
     "output_type": "execute_result"
    }
   ],
   "source": [
    "final[final['label']==1]['user_lifetime'].mean()"
   ]
  },
  {
   "cell_type": "markdown",
   "metadata": {},
   "source": [
    "### Ratio of same day reviews for each user_id over Lifetime"
   ]
  },
  {
   "cell_type": "code",
   "execution_count": 139,
   "metadata": {},
   "outputs": [],
   "source": [
    "final['ratio_same_day_lifetime'] = final['same_day_review_count'] / final['user_lifetime']"
   ]
  },
  {
   "cell_type": "code",
   "execution_count": 101,
   "metadata": {},
   "outputs": [
    {
     "data": {
      "text/plain": [
       "0.09903227374198562"
      ]
     },
     "execution_count": 101,
     "metadata": {},
     "output_type": "execute_result"
    }
   ],
   "source": [
    "final[final['label']==0]['ratio_same_day_lifetime'].mean()"
   ]
  },
  {
   "cell_type": "code",
   "execution_count": 7,
   "metadata": {},
   "outputs": [
    {
     "data": {
      "text/plain": [
       "0.18354876374969542"
      ]
     },
     "execution_count": 7,
     "metadata": {},
     "output_type": "execute_result"
    }
   ],
   "source": [
    "final[final['label']==1]['ratio_same_day_lifetime'].mean()"
   ]
  },
  {
   "cell_type": "markdown",
   "metadata": {},
   "source": [
    "### Ratio of Same day reviews over Total reviews"
   ]
  },
  {
   "cell_type": "code",
   "execution_count": 21,
   "metadata": {},
   "outputs": [],
   "source": [
    "final['ratio_same_day_totrv'] = final['same_day_review_count']/final['num_of_reviews']"
   ]
  },
  {
   "cell_type": "code",
   "execution_count": 102,
   "metadata": {},
   "outputs": [
    {
     "data": {
      "text/plain": [
       "0.13662176336395696"
      ]
     },
     "execution_count": 102,
     "metadata": {},
     "output_type": "execute_result"
    }
   ],
   "source": [
    "final[final['label']==0]['ratio_same_day_totrv'].mean()"
   ]
  },
  {
   "cell_type": "code",
   "execution_count": 8,
   "metadata": {},
   "outputs": [
    {
     "data": {
      "text/plain": [
       "0.10365476785577826"
      ]
     },
     "execution_count": 8,
     "metadata": {},
     "output_type": "execute_result"
    }
   ],
   "source": [
    "final[final['label']==1]['ratio_same_day_totrv'].mean()"
   ]
  },
  {
   "cell_type": "markdown",
   "metadata": {},
   "source": [
    "### Ratio of Same day reviews over dataset timespan"
   ]
  },
  {
   "cell_type": "markdown",
   "metadata": {},
   "source": [
    "The dataset timespan is 11 years"
   ]
  },
  {
   "cell_type": "code",
   "execution_count": 90,
   "metadata": {},
   "outputs": [],
   "source": [
    "final['ratio_same_day_review_timespan'] = final['same_day_review_count']/11"
   ]
  },
  {
   "cell_type": "markdown",
   "metadata": {},
   "source": [
    "### Mean number of words in reviews by user"
   ]
  },
  {
   "cell_type": "code",
   "execution_count": 140,
   "metadata": {
    "ExecuteTime": {
     "end_time": "2019-11-29T01:57:18.544576Z",
     "start_time": "2019-11-29T01:57:18.488247Z"
    }
   },
   "outputs": [],
   "source": [
    "mean_words_user = pd.DataFrame(final.groupby('user_id')['num_of_words'].mean())"
   ]
  },
  {
   "cell_type": "code",
   "execution_count": 141,
   "metadata": {
    "ExecuteTime": {
     "end_time": "2019-11-29T01:57:22.694059Z",
     "start_time": "2019-11-29T01:57:22.065383Z"
    }
   },
   "outputs": [],
   "source": [
    "mean_words = []\n",
    "for row in final['user_id']:\n",
    "        mean_words.append(mean_words_user.loc[row, 'num_of_words'])"
   ]
  },
  {
   "cell_type": "code",
   "execution_count": 142,
   "metadata": {
    "ExecuteTime": {
     "end_time": "2019-11-29T01:57:26.640164Z",
     "start_time": "2019-11-29T01:57:26.316464Z"
    }
   },
   "outputs": [],
   "source": [
    "final['mean_num_words_user'] = mean_words"
   ]
  },
  {
   "cell_type": "code",
   "execution_count": 115,
   "metadata": {},
   "outputs": [
    {
     "name": "stdout",
     "output_type": "stream",
     "text": [
      "81.0885201714764\n",
      "119.52520308800068\n"
     ]
    }
   ],
   "source": [
    "print(final[final['label']==1]['mean_num_words_user'].mean())\n",
    "print(final[final['label']==0]['mean_num_words_user'].mean())"
   ]
  },
  {
   "cell_type": "markdown",
   "metadata": {},
   "source": [
    "### Mean number of sentence in reviews by user"
   ]
  },
  {
   "cell_type": "code",
   "execution_count": 143,
   "metadata": {
    "ExecuteTime": {
     "end_time": "2019-11-29T01:57:30.250312Z",
     "start_time": "2019-11-29T01:57:30.220241Z"
    }
   },
   "outputs": [],
   "source": [
    "mean_sentence_user = pd.DataFrame(final.groupby('user_id')['sentence_count'].mean())"
   ]
  },
  {
   "cell_type": "code",
   "execution_count": 144,
   "metadata": {
    "ExecuteTime": {
     "end_time": "2019-11-29T01:57:34.468567Z",
     "start_time": "2019-11-29T01:57:33.814852Z"
    }
   },
   "outputs": [],
   "source": [
    "mean_sentence = []\n",
    "for row in final['user_id']:\n",
    "        mean_sentence.append(mean_sentence_user.loc[row, 'sentence_count'])"
   ]
  },
  {
   "cell_type": "code",
   "execution_count": 145,
   "metadata": {
    "ExecuteTime": {
     "end_time": "2019-11-29T01:57:38.371732Z",
     "start_time": "2019-11-29T01:57:38.051297Z"
    }
   },
   "outputs": [],
   "source": [
    "final['mean_num_sentence_user'] = mean_sentence"
   ]
  },
  {
   "cell_type": "code",
   "execution_count": 116,
   "metadata": {},
   "outputs": [
    {
     "name": "stdout",
     "output_type": "stream",
     "text": [
      "4.344321676371804\n",
      "6.268031670906209\n"
     ]
    }
   ],
   "source": [
    "print(final[final['label']==1]['mean_num_sentence_user'].mean())\n",
    "print(final[final['label']==0]['mean_num_sentence_user'].mean())"
   ]
  },
  {
   "cell_type": "markdown",
   "metadata": {},
   "source": [
    "### Mean readability of reviews by user"
   ]
  },
  {
   "cell_type": "code",
   "execution_count": 146,
   "metadata": {
    "ExecuteTime": {
     "end_time": "2019-11-29T01:57:42.018417Z",
     "start_time": "2019-11-29T01:57:41.988946Z"
    }
   },
   "outputs": [],
   "source": [
    "mean_readability_user = pd.DataFrame(final.groupby('user_id')['flesch_reading_ease'].mean())"
   ]
  },
  {
   "cell_type": "code",
   "execution_count": 147,
   "metadata": {
    "ExecuteTime": {
     "end_time": "2019-11-29T01:57:46.285887Z",
     "start_time": "2019-11-29T01:57:45.634136Z"
    }
   },
   "outputs": [],
   "source": [
    "mean_readability = []\n",
    "for row in final['user_id']:\n",
    "        mean_readability.append(mean_readability_user.loc[row, 'flesch_reading_ease'])"
   ]
  },
  {
   "cell_type": "code",
   "execution_count": 148,
   "metadata": {
    "ExecuteTime": {
     "end_time": "2019-11-29T01:57:50.293508Z",
     "start_time": "2019-11-29T01:57:49.973320Z"
    }
   },
   "outputs": [],
   "source": [
    "final['mean_readability_user'] = mean_readability"
   ]
  },
  {
   "cell_type": "markdown",
   "metadata": {},
   "source": [
    "### Mean syllable of reviews by user"
   ]
  },
  {
   "cell_type": "code",
   "execution_count": 149,
   "metadata": {
    "ExecuteTime": {
     "end_time": "2019-11-29T01:57:54.037419Z",
     "start_time": "2019-11-29T01:57:54.007002Z"
    }
   },
   "outputs": [],
   "source": [
    "mean_syllable_user = pd.DataFrame(final.groupby('user_id')['syllable_count'].mean())"
   ]
  },
  {
   "cell_type": "code",
   "execution_count": 150,
   "metadata": {
    "ExecuteTime": {
     "end_time": "2019-11-29T01:57:58.360053Z",
     "start_time": "2019-11-29T01:57:57.735667Z"
    }
   },
   "outputs": [],
   "source": [
    "mean_syllable = []\n",
    "for row in final['user_id']:\n",
    "        mean_syllable.append(mean_syllable_user.loc[row, 'syllable_count'])"
   ]
  },
  {
   "cell_type": "code",
   "execution_count": 151,
   "metadata": {
    "ExecuteTime": {
     "end_time": "2019-11-29T01:58:02.403638Z",
     "start_time": "2019-11-29T01:58:02.085313Z"
    }
   },
   "outputs": [],
   "source": [
    "final['mean_syllable_user'] = mean_syllable"
   ]
  },
  {
   "cell_type": "code",
   "execution_count": 114,
   "metadata": {},
   "outputs": [
    {
     "name": "stdout",
     "output_type": "stream",
     "text": [
      "107.2366877300503\n",
      "157.6047016042621\n"
     ]
    }
   ],
   "source": [
    "print(final[final['label']==1]['mean_syllable_user'].mean())\n",
    "print(final[final['label']==0]['mean_syllable_user'].mean())"
   ]
  },
  {
   "cell_type": "markdown",
   "metadata": {
    "ExecuteTime": {
     "end_time": "2019-11-30T10:54:20.399038Z",
     "start_time": "2019-11-30T10:54:20.373820Z"
    }
   },
   "source": [
    "### Deviation of user's ratings"
   ]
  },
  {
   "cell_type": "markdown",
   "metadata": {},
   "source": [
    "The deviation of ratings given a user_id."
   ]
  },
  {
   "cell_type": "code",
   "execution_count": 152,
   "metadata": {
    "ExecuteTime": {
     "end_time": "2019-11-30T11:03:47.473400Z",
     "start_time": "2019-11-30T11:03:47.458992Z"
    }
   },
   "outputs": [],
   "source": [
    "rating_dev = pd.DataFrame(final.groupby('user_id')['rating'].std())"
   ]
  },
  {
   "cell_type": "code",
   "execution_count": 153,
   "metadata": {
    "ExecuteTime": {
     "end_time": "2019-11-30T11:04:15.548049Z",
     "start_time": "2019-11-30T11:04:15.542381Z"
    }
   },
   "outputs": [],
   "source": [
    "rating_dev.fillna(0,inplace=True)"
   ]
  },
  {
   "cell_type": "code",
   "execution_count": 154,
   "metadata": {
    "ExecuteTime": {
     "end_time": "2019-11-30T11:05:32.122928Z",
     "start_time": "2019-11-30T11:05:31.482586Z"
    }
   },
   "outputs": [],
   "source": [
    "rat_dev = []\n",
    "for row in final['user_id']:\n",
    "        rat_dev.append(rating_dev.loc[row, 'rating'])"
   ]
  },
  {
   "cell_type": "code",
   "execution_count": 155,
   "metadata": {
    "ExecuteTime": {
     "end_time": "2019-11-30T11:05:51.467976Z",
     "start_time": "2019-11-30T11:05:50.242278Z"
    }
   },
   "outputs": [],
   "source": [
    "final['rating_dev'] = rat_dev"
   ]
  },
  {
   "cell_type": "markdown",
   "metadata": {
    "ExecuteTime": {
     "end_time": "2019-11-30T11:58:49.301312Z",
     "start_time": "2019-11-30T11:58:49.298656Z"
    }
   },
   "source": [
    "### Average deviation of ratings from average ratings"
   ]
  },
  {
   "cell_type": "markdown",
   "metadata": {},
   "source": [
    "The deviation of ratings from the restaurant's average rating given a user_id."
   ]
  },
  {
   "cell_type": "code",
   "execution_count": 156,
   "metadata": {
    "ExecuteTime": {
     "end_time": "2019-11-30T12:01:13.231699Z",
     "start_time": "2019-11-30T12:01:13.218088Z"
    }
   },
   "outputs": [],
   "source": [
    "avg_rating_dev = pd.DataFrame(final.groupby('user_id')['diff_in_rating'].std())"
   ]
  },
  {
   "cell_type": "code",
   "execution_count": 157,
   "metadata": {
    "ExecuteTime": {
     "end_time": "2019-11-30T12:01:41.309301Z",
     "start_time": "2019-11-30T12:01:41.305603Z"
    }
   },
   "outputs": [],
   "source": [
    "avg_rating_dev.fillna(0,inplace=True)"
   ]
  },
  {
   "cell_type": "code",
   "execution_count": 158,
   "metadata": {
    "ExecuteTime": {
     "end_time": "2019-11-30T12:02:50.821039Z",
     "start_time": "2019-11-30T12:02:50.179830Z"
    }
   },
   "outputs": [],
   "source": [
    "avg_rat_dev = []\n",
    "for row in final['user_id']:\n",
    "        avg_rat_dev.append(avg_rating_dev.loc[row, 'diff_in_rating'])"
   ]
  },
  {
   "cell_type": "code",
   "execution_count": 159,
   "metadata": {
    "ExecuteTime": {
     "end_time": "2019-11-30T12:04:05.181705Z",
     "start_time": "2019-11-30T12:04:04.875513Z"
    }
   },
   "outputs": [],
   "source": [
    "final['avg_rating_dev_res'] = avg_rat_dev"
   ]
  },
  {
   "cell_type": "markdown",
   "metadata": {},
   "source": [
    "### Max same day reviews"
   ]
  },
  {
   "cell_type": "markdown",
   "metadata": {},
   "source": [
    "The maximum number of reviews posted on the same day given a user_id."
   ]
  },
  {
   "cell_type": "code",
   "execution_count": 160,
   "metadata": {
    "ExecuteTime": {
     "end_time": "2019-11-30T11:16:36.047795Z",
     "start_time": "2019-11-30T11:16:36.013612Z"
    }
   },
   "outputs": [],
   "source": [
    "#filtering same day review\n",
    "user_same_day = user_df_2015[user_df_2015.duplicated(['user_id','date'])]"
   ]
  },
  {
   "cell_type": "code",
   "execution_count": 161,
   "metadata": {
    "ExecuteTime": {
     "end_time": "2019-11-30T11:20:15.154013Z",
     "start_time": "2019-11-30T11:20:15.148138Z"
    }
   },
   "outputs": [],
   "source": [
    "#counting the number of same day review per user_id\n",
    "user_df_2015_max_count = pd.DataFrame(user_same_day.groupby(['user_id','date']).size()).groupby('user_id').max()"
   ]
  },
  {
   "cell_type": "code",
   "execution_count": 162,
   "metadata": {
    "ExecuteTime": {
     "end_time": "2019-11-30T11:20:28.770427Z",
     "start_time": "2019-11-30T11:20:26.576135Z"
    }
   },
   "outputs": [],
   "source": [
    "#storing the count in a list\n",
    "same_day_max_count = []\n",
    "for row in final['user_id']:\n",
    "    try:\n",
    "        same_day_max_count.append(user_df_2015_max_count.loc[row,0])\n",
    "    except:\n",
    "        same_day_max_count.append(0)"
   ]
  },
  {
   "cell_type": "code",
   "execution_count": 163,
   "metadata": {
    "ExecuteTime": {
     "end_time": "2019-11-30T11:20:31.114116Z",
     "start_time": "2019-11-30T11:20:30.823761Z"
    }
   },
   "outputs": [],
   "source": [
    "#new column created with the count of same day reviews.\n",
    "final['same_day_max_count'] = same_day_max_count"
   ]
  },
  {
   "cell_type": "markdown",
   "metadata": {},
   "source": [
    "### Ratio of positive and negative ratings"
   ]
  },
  {
   "cell_type": "markdown",
   "metadata": {},
   "source": [
    "Here we consider positive ratings as 4 and 5. Negative ratings as 1 and 2."
   ]
  },
  {
   "cell_type": "code",
   "execution_count": 164,
   "metadata": {},
   "outputs": [],
   "source": [
    "final['ratio_postive_rating'] = (final['num_of_five_rating'] + final['num_of_four_rating'])/final['num_of_reviews']\n",
    "final['ratio_negative_rating'] = (final['num_of_one_rating'] + final['num_of_two_rating'])/final['num_of_reviews']"
   ]
  },
  {
   "cell_type": "code",
   "execution_count": 136,
   "metadata": {},
   "outputs": [],
   "source": [
    "final['ratio_postive_rating_timespan'] = (final['num_of_five_rating'] + final['num_of_four_rating'])/11\n",
    "final['ratio_negative_rating_timespan'] = (final['num_of_one_rating'] + final['num_of_two_rating'])/11"
   ]
  },
  {
   "cell_type": "markdown",
   "metadata": {},
   "source": [
    "### Ratio of Total reviews over lifetime"
   ]
  },
  {
   "cell_type": "code",
   "execution_count": 165,
   "metadata": {},
   "outputs": [],
   "source": [
    "final['ratio_review_lifetime'] = final['num_of_reviews']/final['user_lifetime']"
   ]
  },
  {
   "cell_type": "code",
   "execution_count": 105,
   "metadata": {},
   "outputs": [
    {
     "data": {
      "text/plain": [
       "0.43377704094740777"
      ]
     },
     "execution_count": 105,
     "metadata": {},
     "output_type": "execute_result"
    }
   ],
   "source": [
    "final[final['label']==0]['ratio_review_lifetime'].mean()"
   ]
  },
  {
   "cell_type": "code",
   "execution_count": 106,
   "metadata": {},
   "outputs": [
    {
     "data": {
      "text/plain": [
       "0.968026956270519"
      ]
     },
     "execution_count": 106,
     "metadata": {},
     "output_type": "execute_result"
    }
   ],
   "source": [
    "final[final['label']==1]['ratio_review_lifetime'].mean()"
   ]
  },
  {
   "cell_type": "markdown",
   "metadata": {},
   "source": [
    "### Ratio of Total reviews over dataset timespan"
   ]
  },
  {
   "cell_type": "code",
   "execution_count": 23,
   "metadata": {},
   "outputs": [],
   "source": [
    "final['ratio_review_timespan'] = final['num_of_reviews']/11"
   ]
  },
  {
   "cell_type": "markdown",
   "metadata": {},
   "source": [
    "### Clustering of users"
   ]
  },
  {
   "cell_type": "code",
   "execution_count": 137,
   "metadata": {},
   "outputs": [],
   "source": [
    "users = final.groupby('user_id').first()"
   ]
  },
  {
   "cell_type": "code",
   "execution_count": 139,
   "metadata": {},
   "outputs": [],
   "source": [
    "users = users[['num_of_reviews','avg_day_between_reviews', 'user_lifetime', 'same_day_max_count',\n",
    "       'ratio_review_timespan', 'ratio_same_day_review_timespan','ratio_postive_rating_timespan','ratio_negative_rating_timespan']]"
   ]
  },
  {
   "cell_type": "code",
   "execution_count": 140,
   "metadata": {
    "scrolled": true
   },
   "outputs": [],
   "source": [
    "ss = StandardScaler()\n",
    "users_sc = ss.fit_transform(users)"
   ]
  },
  {
   "cell_type": "code",
   "execution_count": 141,
   "metadata": {},
   "outputs": [
    {
     "data": {
      "text/plain": [
       "KMeans(algorithm='auto', copy_x=True, init='k-means++', max_iter=300,\n",
       "    n_clusters=5, n_init=10, n_jobs=1, precompute_distances='auto',\n",
       "    random_state=None, tol=0.0001, verbose=0)"
      ]
     },
     "execution_count": 141,
     "metadata": {},
     "output_type": "execute_result"
    }
   ],
   "source": [
    "km = KMeans(n_clusters=5)\n",
    "km.fit(users_sc)"
   ]
  },
  {
   "cell_type": "code",
   "execution_count": 142,
   "metadata": {},
   "outputs": [],
   "source": [
    "users['cluster'] = km.labels_"
   ]
  },
  {
   "cell_type": "code",
   "execution_count": 158,
   "metadata": {},
   "outputs": [],
   "source": [
    "user_cluster = []\n",
    "for user in final['user_id']:\n",
    "    user_cluster.append(users.loc[user,'cluster'])"
   ]
  },
  {
   "cell_type": "code",
   "execution_count": 159,
   "metadata": {},
   "outputs": [],
   "source": [
    "final['cluster'] = user_cluster"
   ]
  },
  {
   "cell_type": "markdown",
   "metadata": {},
   "source": [
    "# Get Dummies for Ratings"
   ]
  },
  {
   "cell_type": "markdown",
   "metadata": {},
   "source": [
    "Ratings are considered categorical since we are predicting whether the review is spam or ham."
   ]
  },
  {
   "cell_type": "code",
   "execution_count": 25,
   "metadata": {},
   "outputs": [],
   "source": [
    "final = pd.get_dummies(final, columns = ['rating'])"
   ]
  },
  {
   "cell_type": "markdown",
   "metadata": {},
   "source": [
    "# Saving to CSV"
   ]
  },
  {
   "cell_type": "code",
   "execution_count": 113,
   "metadata": {},
   "outputs": [],
   "source": [
    "# final.to_csv('./datasets/final_nyc_dummies.csv')"
   ]
  },
  {
   "cell_type": "code",
   "execution_count": 3,
   "metadata": {},
   "outputs": [],
   "source": [
    "final = pd.read_csv('./datasets/final_nyc_dummies.csv')"
   ]
  },
  {
   "cell_type": "code",
   "execution_count": 4,
   "metadata": {},
   "outputs": [],
   "source": [
    "final = final.drop(columns = 'Unnamed: 0')"
   ]
  },
  {
   "cell_type": "code",
   "execution_count": 5,
   "metadata": {},
   "outputs": [
    {
     "data": {
      "text/html": [
       "<div>\n",
       "<style scoped>\n",
       "    .dataframe tbody tr th:only-of-type {\n",
       "        vertical-align: middle;\n",
       "    }\n",
       "\n",
       "    .dataframe tbody tr th {\n",
       "        vertical-align: top;\n",
       "    }\n",
       "\n",
       "    .dataframe thead th {\n",
       "        text-align: right;\n",
       "    }\n",
       "</style>\n",
       "<table border=\"1\" class=\"dataframe\">\n",
       "  <thead>\n",
       "    <tr style=\"text-align: right;\">\n",
       "      <th></th>\n",
       "      <th>user_id</th>\n",
       "      <th>prod_id</th>\n",
       "      <th>label</th>\n",
       "      <th>date</th>\n",
       "      <th>review</th>\n",
       "      <th>month</th>\n",
       "      <th>year</th>\n",
       "      <th>prod_avg_rating</th>\n",
       "      <th>num_of_char</th>\n",
       "      <th>num_of_words</th>\n",
       "      <th>difficult_words</th>\n",
       "      <th>avg_character_per_word</th>\n",
       "      <th>syllable_count</th>\n",
       "      <th>avg_syllables_per_word</th>\n",
       "      <th>sentence_count</th>\n",
       "      <th>avg_sentence_length</th>\n",
       "      <th>avg_sentence_per_word</th>\n",
       "      <th>flesch_reading_ease</th>\n",
       "      <th>num_of_stopwords</th>\n",
       "      <th>num_of_numerics</th>\n",
       "      <th>num_of_unique_words</th>\n",
       "      <th>num_of_uppercase_char</th>\n",
       "      <th>ratio_of_uppercase_char</th>\n",
       "      <th>ratio_of_difficult_words</th>\n",
       "      <th>ratio_of_unique_words</th>\n",
       "      <th>polarity</th>\n",
       "      <th>subjectivity</th>\n",
       "      <th>Negative</th>\n",
       "      <th>Neutral</th>\n",
       "      <th>Positive</th>\n",
       "      <th>Compound</th>\n",
       "      <th>pos</th>\n",
       "      <th>ADJ</th>\n",
       "      <th>ADP</th>\n",
       "      <th>ADV</th>\n",
       "      <th>AUX</th>\n",
       "      <th>CCONJ</th>\n",
       "      <th>DET</th>\n",
       "      <th>INTJ</th>\n",
       "      <th>NOUN</th>\n",
       "      <th>NUM</th>\n",
       "      <th>PART</th>\n",
       "      <th>PRON</th>\n",
       "      <th>PROPN</th>\n",
       "      <th>PUNCT</th>\n",
       "      <th>SCONJ</th>\n",
       "      <th>SPACE</th>\n",
       "      <th>SYM</th>\n",
       "      <th>VERB</th>\n",
       "      <th>X</th>\n",
       "      <th>Ratio_of_ADJ</th>\n",
       "      <th>Ratio_of_ADP</th>\n",
       "      <th>Ratio_of_ADV</th>\n",
       "      <th>Ratio_of_AUX</th>\n",
       "      <th>Ratio_of_CCONJ</th>\n",
       "      <th>Ratio_of_DET</th>\n",
       "      <th>Ratio_of_INTJ</th>\n",
       "      <th>Ratio_of_NOUN</th>\n",
       "      <th>Ratio_of_NUM</th>\n",
       "      <th>Ratio_of_PART</th>\n",
       "      <th>Ratio_of_PRON</th>\n",
       "      <th>Ratio_of_PROPN</th>\n",
       "      <th>Ratio_of_PUNCT</th>\n",
       "      <th>Ratio_of_SCONJ</th>\n",
       "      <th>Ratio_of_SPACE</th>\n",
       "      <th>Ratio_of_SYM</th>\n",
       "      <th>Ratio_of_VERB</th>\n",
       "      <th>Ratio_of_X</th>\n",
       "      <th>diff_in_rating</th>\n",
       "      <th>num_of_reviews</th>\n",
       "      <th>num_of_five_rating</th>\n",
       "      <th>num_of_four_rating</th>\n",
       "      <th>num_of_three_rating</th>\n",
       "      <th>num_of_two_rating</th>\n",
       "      <th>num_of_one_rating</th>\n",
       "      <th>avg_day_between_reviews</th>\n",
       "      <th>same_day_review_count</th>\n",
       "      <th>first_date_post</th>\n",
       "      <th>last_date_post</th>\n",
       "      <th>user_lifetime</th>\n",
       "      <th>ratio_same_day_lifetime</th>\n",
       "      <th>mean_num_words_user</th>\n",
       "      <th>mean_num_sentence_user</th>\n",
       "      <th>mean_readability_user</th>\n",
       "      <th>mean_syllable_user</th>\n",
       "      <th>rating_dev</th>\n",
       "      <th>avg_rating_dev_res</th>\n",
       "      <th>same_day_max_count</th>\n",
       "      <th>ratio_postive_rating</th>\n",
       "      <th>ratio_negative_rating</th>\n",
       "      <th>ratio_review_lifetime</th>\n",
       "      <th>ratio_same_day_totrv</th>\n",
       "      <th>ratio_review_timespan</th>\n",
       "      <th>rating_1.0</th>\n",
       "      <th>rating_2.0</th>\n",
       "      <th>rating_3.0</th>\n",
       "      <th>rating_4.0</th>\n",
       "      <th>rating_5.0</th>\n",
       "      <th>ratio_same_day_review_timespan</th>\n",
       "      <th>ratio_postive_rating_timespan</th>\n",
       "      <th>ratio_negative_rating_timespan</th>\n",
       "      <th>cluster</th>\n",
       "    </tr>\n",
       "  </thead>\n",
       "  <tbody>\n",
       "    <tr>\n",
       "      <th>0</th>\n",
       "      <td>923</td>\n",
       "      <td>0</td>\n",
       "      <td>1</td>\n",
       "      <td>2014-12-08</td>\n",
       "      <td>The food at snack is a selection of popular Gr...</td>\n",
       "      <td>12</td>\n",
       "      <td>2014</td>\n",
       "      <td>3.854839</td>\n",
       "      <td>215</td>\n",
       "      <td>40</td>\n",
       "      <td>8</td>\n",
       "      <td>4.40</td>\n",
       "      <td>55</td>\n",
       "      <td>1.4</td>\n",
       "      <td>4</td>\n",
       "      <td>10.0</td>\n",
       "      <td>0.10</td>\n",
       "      <td>78.25</td>\n",
       "      <td>16</td>\n",
       "      <td>0</td>\n",
       "      <td>35</td>\n",
       "      <td>6</td>\n",
       "      <td>0.027907</td>\n",
       "      <td>0.200000</td>\n",
       "      <td>0.875000</td>\n",
       "      <td>0.195833</td>\n",
       "      <td>0.395833</td>\n",
       "      <td>0.038</td>\n",
       "      <td>0.830</td>\n",
       "      <td>0.131</td>\n",
       "      <td>0.6170</td>\n",
       "      <td>['DET', 'NOUN', 'ADP', 'NOUN', 'AUX', 'DET', '...</td>\n",
       "      <td>6</td>\n",
       "      <td>3</td>\n",
       "      <td>2</td>\n",
       "      <td>7</td>\n",
       "      <td>0</td>\n",
       "      <td>5</td>\n",
       "      <td>0</td>\n",
       "      <td>9</td>\n",
       "      <td>2</td>\n",
       "      <td>1</td>\n",
       "      <td>3</td>\n",
       "      <td>0</td>\n",
       "      <td>4</td>\n",
       "      <td>2</td>\n",
       "      <td>0</td>\n",
       "      <td>1</td>\n",
       "      <td>2</td>\n",
       "      <td>0</td>\n",
       "      <td>0.150000</td>\n",
       "      <td>0.075000</td>\n",
       "      <td>0.050000</td>\n",
       "      <td>0.175000</td>\n",
       "      <td>0.000000</td>\n",
       "      <td>0.125000</td>\n",
       "      <td>0.0</td>\n",
       "      <td>0.225000</td>\n",
       "      <td>0.050000</td>\n",
       "      <td>0.025000</td>\n",
       "      <td>0.075000</td>\n",
       "      <td>0.000000</td>\n",
       "      <td>0.100000</td>\n",
       "      <td>0.050000</td>\n",
       "      <td>0.000000</td>\n",
       "      <td>0.025</td>\n",
       "      <td>0.050000</td>\n",
       "      <td>0.0</td>\n",
       "      <td>-0.854839</td>\n",
       "      <td>39</td>\n",
       "      <td>23.0</td>\n",
       "      <td>12.0</td>\n",
       "      <td>3.0</td>\n",
       "      <td>0.0</td>\n",
       "      <td>1.0</td>\n",
       "      <td>10.50</td>\n",
       "      <td>15</td>\n",
       "      <td>2013-11-04</td>\n",
       "      <td>2014-12-08</td>\n",
       "      <td>400</td>\n",
       "      <td>0.0375</td>\n",
       "      <td>63.717949</td>\n",
       "      <td>4.846154</td>\n",
       "      <td>80.006154</td>\n",
       "      <td>84.717949</td>\n",
       "      <td>0.852083</td>\n",
       "      <td>0.864591</td>\n",
       "      <td>2</td>\n",
       "      <td>0.897436</td>\n",
       "      <td>0.025641</td>\n",
       "      <td>0.097500</td>\n",
       "      <td>0.384615</td>\n",
       "      <td>3.545455</td>\n",
       "      <td>0</td>\n",
       "      <td>0</td>\n",
       "      <td>1</td>\n",
       "      <td>0</td>\n",
       "      <td>0</td>\n",
       "      <td>1.363636</td>\n",
       "      <td>3.181818</td>\n",
       "      <td>0.090909</td>\n",
       "      <td>2</td>\n",
       "    </tr>\n",
       "    <tr>\n",
       "      <th>1</th>\n",
       "      <td>924</td>\n",
       "      <td>0</td>\n",
       "      <td>1</td>\n",
       "      <td>2013-05-16</td>\n",
       "      <td>This little place in Soho is wonderful. I had ...</td>\n",
       "      <td>5</td>\n",
       "      <td>2013</td>\n",
       "      <td>3.854839</td>\n",
       "      <td>269</td>\n",
       "      <td>52</td>\n",
       "      <td>3</td>\n",
       "      <td>4.19</td>\n",
       "      <td>64</td>\n",
       "      <td>1.2</td>\n",
       "      <td>4</td>\n",
       "      <td>13.0</td>\n",
       "      <td>0.08</td>\n",
       "      <td>92.12</td>\n",
       "      <td>24</td>\n",
       "      <td>0</td>\n",
       "      <td>43</td>\n",
       "      <td>6</td>\n",
       "      <td>0.022305</td>\n",
       "      <td>0.057692</td>\n",
       "      <td>0.826923</td>\n",
       "      <td>0.025000</td>\n",
       "      <td>0.650000</td>\n",
       "      <td>0.092</td>\n",
       "      <td>0.768</td>\n",
       "      <td>0.140</td>\n",
       "      <td>0.5783</td>\n",
       "      <td>['DET', 'ADJ', 'NOUN', 'ADP', 'PROPN', 'AUX', ...</td>\n",
       "      <td>7</td>\n",
       "      <td>3</td>\n",
       "      <td>4</td>\n",
       "      <td>7</td>\n",
       "      <td>4</td>\n",
       "      <td>9</td>\n",
       "      <td>0</td>\n",
       "      <td>11</td>\n",
       "      <td>0</td>\n",
       "      <td>1</td>\n",
       "      <td>2</td>\n",
       "      <td>2</td>\n",
       "      <td>9</td>\n",
       "      <td>0</td>\n",
       "      <td>0</td>\n",
       "      <td>0</td>\n",
       "      <td>4</td>\n",
       "      <td>0</td>\n",
       "      <td>0.134615</td>\n",
       "      <td>0.057692</td>\n",
       "      <td>0.076923</td>\n",
       "      <td>0.134615</td>\n",
       "      <td>0.076923</td>\n",
       "      <td>0.173077</td>\n",
       "      <td>0.0</td>\n",
       "      <td>0.211538</td>\n",
       "      <td>0.000000</td>\n",
       "      <td>0.019231</td>\n",
       "      <td>0.038462</td>\n",
       "      <td>0.038462</td>\n",
       "      <td>0.173077</td>\n",
       "      <td>0.000000</td>\n",
       "      <td>0.000000</td>\n",
       "      <td>0.000</td>\n",
       "      <td>0.076923</td>\n",
       "      <td>0.0</td>\n",
       "      <td>-0.854839</td>\n",
       "      <td>1</td>\n",
       "      <td>0.0</td>\n",
       "      <td>0.0</td>\n",
       "      <td>1.0</td>\n",
       "      <td>0.0</td>\n",
       "      <td>0.0</td>\n",
       "      <td>0.00</td>\n",
       "      <td>0</td>\n",
       "      <td>2013-05-16</td>\n",
       "      <td>2013-05-16</td>\n",
       "      <td>1</td>\n",
       "      <td>0.0000</td>\n",
       "      <td>52.000000</td>\n",
       "      <td>4.000000</td>\n",
       "      <td>92.120000</td>\n",
       "      <td>64.000000</td>\n",
       "      <td>0.000000</td>\n",
       "      <td>0.000000</td>\n",
       "      <td>0</td>\n",
       "      <td>0.000000</td>\n",
       "      <td>0.000000</td>\n",
       "      <td>1.000000</td>\n",
       "      <td>0.000000</td>\n",
       "      <td>0.090909</td>\n",
       "      <td>0</td>\n",
       "      <td>0</td>\n",
       "      <td>1</td>\n",
       "      <td>0</td>\n",
       "      <td>0</td>\n",
       "      <td>0.000000</td>\n",
       "      <td>0.000000</td>\n",
       "      <td>0.000000</td>\n",
       "      <td>0</td>\n",
       "    </tr>\n",
       "    <tr>\n",
       "      <th>2</th>\n",
       "      <td>925</td>\n",
       "      <td>0</td>\n",
       "      <td>1</td>\n",
       "      <td>2013-07-01</td>\n",
       "      <td>ordered lunch for 15 from Snack last Friday.  ...</td>\n",
       "      <td>7</td>\n",
       "      <td>2013</td>\n",
       "      <td>3.854839</td>\n",
       "      <td>178</td>\n",
       "      <td>32</td>\n",
       "      <td>4</td>\n",
       "      <td>4.59</td>\n",
       "      <td>43</td>\n",
       "      <td>1.3</td>\n",
       "      <td>1</td>\n",
       "      <td>32.0</td>\n",
       "      <td>0.03</td>\n",
       "      <td>64.38</td>\n",
       "      <td>11</td>\n",
       "      <td>1</td>\n",
       "      <td>30</td>\n",
       "      <td>4</td>\n",
       "      <td>0.022472</td>\n",
       "      <td>0.125000</td>\n",
       "      <td>0.937500</td>\n",
       "      <td>0.220000</td>\n",
       "      <td>0.328718</td>\n",
       "      <td>0.000</td>\n",
       "      <td>0.751</td>\n",
       "      <td>0.249</td>\n",
       "      <td>0.8515</td>\n",
       "      <td>['VERB', 'NOUN', 'ADP', 'NUM', 'ADP', 'PROPN',...</td>\n",
       "      <td>4</td>\n",
       "      <td>4</td>\n",
       "      <td>0</td>\n",
       "      <td>2</td>\n",
       "      <td>1</td>\n",
       "      <td>3</td>\n",
       "      <td>0</td>\n",
       "      <td>7</td>\n",
       "      <td>1</td>\n",
       "      <td>0</td>\n",
       "      <td>4</td>\n",
       "      <td>2</td>\n",
       "      <td>5</td>\n",
       "      <td>1</td>\n",
       "      <td>2</td>\n",
       "      <td>0</td>\n",
       "      <td>3</td>\n",
       "      <td>0</td>\n",
       "      <td>0.125000</td>\n",
       "      <td>0.125000</td>\n",
       "      <td>0.000000</td>\n",
       "      <td>0.062500</td>\n",
       "      <td>0.031250</td>\n",
       "      <td>0.093750</td>\n",
       "      <td>0.0</td>\n",
       "      <td>0.218750</td>\n",
       "      <td>0.031250</td>\n",
       "      <td>0.000000</td>\n",
       "      <td>0.125000</td>\n",
       "      <td>0.062500</td>\n",
       "      <td>0.156250</td>\n",
       "      <td>0.031250</td>\n",
       "      <td>0.062500</td>\n",
       "      <td>0.000</td>\n",
       "      <td>0.093750</td>\n",
       "      <td>0.0</td>\n",
       "      <td>0.145161</td>\n",
       "      <td>2</td>\n",
       "      <td>0.0</td>\n",
       "      <td>2.0</td>\n",
       "      <td>0.0</td>\n",
       "      <td>0.0</td>\n",
       "      <td>0.0</td>\n",
       "      <td>0.00</td>\n",
       "      <td>1</td>\n",
       "      <td>2013-07-01</td>\n",
       "      <td>2013-07-01</td>\n",
       "      <td>1</td>\n",
       "      <td>1.0000</td>\n",
       "      <td>36.500000</td>\n",
       "      <td>2.000000</td>\n",
       "      <td>77.895000</td>\n",
       "      <td>45.500000</td>\n",
       "      <td>0.000000</td>\n",
       "      <td>0.060283</td>\n",
       "      <td>1</td>\n",
       "      <td>1.000000</td>\n",
       "      <td>0.000000</td>\n",
       "      <td>2.000000</td>\n",
       "      <td>0.500000</td>\n",
       "      <td>0.181818</td>\n",
       "      <td>0</td>\n",
       "      <td>0</td>\n",
       "      <td>0</td>\n",
       "      <td>1</td>\n",
       "      <td>0</td>\n",
       "      <td>0.090909</td>\n",
       "      <td>0.181818</td>\n",
       "      <td>0.000000</td>\n",
       "      <td>1</td>\n",
       "    </tr>\n",
       "    <tr>\n",
       "      <th>3</th>\n",
       "      <td>926</td>\n",
       "      <td>0</td>\n",
       "      <td>1</td>\n",
       "      <td>2011-07-28</td>\n",
       "      <td>This is a beautiful quaint little restaurant o...</td>\n",
       "      <td>7</td>\n",
       "      <td>2011</td>\n",
       "      <td>3.854839</td>\n",
       "      <td>491</td>\n",
       "      <td>90</td>\n",
       "      <td>9</td>\n",
       "      <td>4.57</td>\n",
       "      <td>114</td>\n",
       "      <td>1.3</td>\n",
       "      <td>5</td>\n",
       "      <td>17.6</td>\n",
       "      <td>0.06</td>\n",
       "      <td>78.99</td>\n",
       "      <td>37</td>\n",
       "      <td>0</td>\n",
       "      <td>68</td>\n",
       "      <td>8</td>\n",
       "      <td>0.016293</td>\n",
       "      <td>0.100000</td>\n",
       "      <td>0.755556</td>\n",
       "      <td>0.555134</td>\n",
       "      <td>0.776786</td>\n",
       "      <td>0.022</td>\n",
       "      <td>0.706</td>\n",
       "      <td>0.272</td>\n",
       "      <td>0.9779</td>\n",
       "      <td>['DET', 'AUX', 'DET', 'ADJ', 'NOUN', 'ADJ', 'N...</td>\n",
       "      <td>10</td>\n",
       "      <td>9</td>\n",
       "      <td>2</td>\n",
       "      <td>8</td>\n",
       "      <td>4</td>\n",
       "      <td>16</td>\n",
       "      <td>0</td>\n",
       "      <td>18</td>\n",
       "      <td>1</td>\n",
       "      <td>2</td>\n",
       "      <td>8</td>\n",
       "      <td>2</td>\n",
       "      <td>12</td>\n",
       "      <td>3</td>\n",
       "      <td>2</td>\n",
       "      <td>0</td>\n",
       "      <td>7</td>\n",
       "      <td>0</td>\n",
       "      <td>0.111111</td>\n",
       "      <td>0.100000</td>\n",
       "      <td>0.022222</td>\n",
       "      <td>0.088889</td>\n",
       "      <td>0.044444</td>\n",
       "      <td>0.177778</td>\n",
       "      <td>0.0</td>\n",
       "      <td>0.200000</td>\n",
       "      <td>0.011111</td>\n",
       "      <td>0.022222</td>\n",
       "      <td>0.088889</td>\n",
       "      <td>0.022222</td>\n",
       "      <td>0.133333</td>\n",
       "      <td>0.033333</td>\n",
       "      <td>0.022222</td>\n",
       "      <td>0.000</td>\n",
       "      <td>0.077778</td>\n",
       "      <td>0.0</td>\n",
       "      <td>0.145161</td>\n",
       "      <td>1</td>\n",
       "      <td>0.0</td>\n",
       "      <td>1.0</td>\n",
       "      <td>0.0</td>\n",
       "      <td>0.0</td>\n",
       "      <td>0.0</td>\n",
       "      <td>0.00</td>\n",
       "      <td>0</td>\n",
       "      <td>2011-07-28</td>\n",
       "      <td>2011-07-28</td>\n",
       "      <td>1</td>\n",
       "      <td>0.0000</td>\n",
       "      <td>90.000000</td>\n",
       "      <td>5.000000</td>\n",
       "      <td>78.990000</td>\n",
       "      <td>114.000000</td>\n",
       "      <td>0.000000</td>\n",
       "      <td>0.000000</td>\n",
       "      <td>0</td>\n",
       "      <td>1.000000</td>\n",
       "      <td>0.000000</td>\n",
       "      <td>1.000000</td>\n",
       "      <td>0.000000</td>\n",
       "      <td>0.090909</td>\n",
       "      <td>0</td>\n",
       "      <td>0</td>\n",
       "      <td>0</td>\n",
       "      <td>1</td>\n",
       "      <td>0</td>\n",
       "      <td>0.000000</td>\n",
       "      <td>0.090909</td>\n",
       "      <td>0.000000</td>\n",
       "      <td>0</td>\n",
       "    </tr>\n",
       "    <tr>\n",
       "      <th>4</th>\n",
       "      <td>927</td>\n",
       "      <td>0</td>\n",
       "      <td>1</td>\n",
       "      <td>2010-11-01</td>\n",
       "      <td>Snack is great place for a  casual sit down lu...</td>\n",
       "      <td>11</td>\n",
       "      <td>2010</td>\n",
       "      <td>3.854839</td>\n",
       "      <td>596</td>\n",
       "      <td>102</td>\n",
       "      <td>13</td>\n",
       "      <td>4.85</td>\n",
       "      <td>143</td>\n",
       "      <td>1.4</td>\n",
       "      <td>2</td>\n",
       "      <td>51.0</td>\n",
       "      <td>0.02</td>\n",
       "      <td>36.63</td>\n",
       "      <td>35</td>\n",
       "      <td>0</td>\n",
       "      <td>85</td>\n",
       "      <td>10</td>\n",
       "      <td>0.016779</td>\n",
       "      <td>0.127451</td>\n",
       "      <td>0.833333</td>\n",
       "      <td>0.138715</td>\n",
       "      <td>0.538294</td>\n",
       "      <td>0.000</td>\n",
       "      <td>0.775</td>\n",
       "      <td>0.225</td>\n",
       "      <td>0.9756</td>\n",
       "      <td>['NOUN', 'AUX', 'ADJ', 'NOUN', 'ADP', 'DET', '...</td>\n",
       "      <td>15</td>\n",
       "      <td>11</td>\n",
       "      <td>7</td>\n",
       "      <td>5</td>\n",
       "      <td>4</td>\n",
       "      <td>12</td>\n",
       "      <td>0</td>\n",
       "      <td>26</td>\n",
       "      <td>0</td>\n",
       "      <td>2</td>\n",
       "      <td>6</td>\n",
       "      <td>6</td>\n",
       "      <td>11</td>\n",
       "      <td>2</td>\n",
       "      <td>5</td>\n",
       "      <td>0</td>\n",
       "      <td>9</td>\n",
       "      <td>0</td>\n",
       "      <td>0.147059</td>\n",
       "      <td>0.107843</td>\n",
       "      <td>0.068627</td>\n",
       "      <td>0.049020</td>\n",
       "      <td>0.039216</td>\n",
       "      <td>0.117647</td>\n",
       "      <td>0.0</td>\n",
       "      <td>0.254902</td>\n",
       "      <td>0.000000</td>\n",
       "      <td>0.019608</td>\n",
       "      <td>0.058824</td>\n",
       "      <td>0.058824</td>\n",
       "      <td>0.107843</td>\n",
       "      <td>0.019608</td>\n",
       "      <td>0.049020</td>\n",
       "      <td>0.000</td>\n",
       "      <td>0.088235</td>\n",
       "      <td>0.0</td>\n",
       "      <td>0.145161</td>\n",
       "      <td>5</td>\n",
       "      <td>1.0</td>\n",
       "      <td>2.0</td>\n",
       "      <td>1.0</td>\n",
       "      <td>1.0</td>\n",
       "      <td>0.0</td>\n",
       "      <td>12.75</td>\n",
       "      <td>0</td>\n",
       "      <td>2010-10-15</td>\n",
       "      <td>2010-12-05</td>\n",
       "      <td>52</td>\n",
       "      <td>0.0000</td>\n",
       "      <td>149.400000</td>\n",
       "      <td>3.600000</td>\n",
       "      <td>48.682000</td>\n",
       "      <td>200.400000</td>\n",
       "      <td>1.140175</td>\n",
       "      <td>1.121240</td>\n",
       "      <td>0</td>\n",
       "      <td>0.600000</td>\n",
       "      <td>0.200000</td>\n",
       "      <td>0.096154</td>\n",
       "      <td>0.000000</td>\n",
       "      <td>0.454545</td>\n",
       "      <td>0</td>\n",
       "      <td>0</td>\n",
       "      <td>0</td>\n",
       "      <td>1</td>\n",
       "      <td>0</td>\n",
       "      <td>0.000000</td>\n",
       "      <td>0.272727</td>\n",
       "      <td>0.090909</td>\n",
       "      <td>0</td>\n",
       "    </tr>\n",
       "  </tbody>\n",
       "</table>\n",
       "</div>"
      ],
      "text/plain": [
       "   user_id  prod_id  label        date  \\\n",
       "0      923        0      1  2014-12-08   \n",
       "1      924        0      1  2013-05-16   \n",
       "2      925        0      1  2013-07-01   \n",
       "3      926        0      1  2011-07-28   \n",
       "4      927        0      1  2010-11-01   \n",
       "\n",
       "                                              review  month  year  \\\n",
       "0  The food at snack is a selection of popular Gr...     12  2014   \n",
       "1  This little place in Soho is wonderful. I had ...      5  2013   \n",
       "2  ordered lunch for 15 from Snack last Friday.  ...      7  2013   \n",
       "3  This is a beautiful quaint little restaurant o...      7  2011   \n",
       "4  Snack is great place for a  casual sit down lu...     11  2010   \n",
       "\n",
       "   prod_avg_rating  num_of_char  num_of_words  difficult_words  \\\n",
       "0         3.854839          215            40                8   \n",
       "1         3.854839          269            52                3   \n",
       "2         3.854839          178            32                4   \n",
       "3         3.854839          491            90                9   \n",
       "4         3.854839          596           102               13   \n",
       "\n",
       "   avg_character_per_word  syllable_count  avg_syllables_per_word  \\\n",
       "0                    4.40              55                     1.4   \n",
       "1                    4.19              64                     1.2   \n",
       "2                    4.59              43                     1.3   \n",
       "3                    4.57             114                     1.3   \n",
       "4                    4.85             143                     1.4   \n",
       "\n",
       "   sentence_count  avg_sentence_length  avg_sentence_per_word  \\\n",
       "0               4                 10.0                   0.10   \n",
       "1               4                 13.0                   0.08   \n",
       "2               1                 32.0                   0.03   \n",
       "3               5                 17.6                   0.06   \n",
       "4               2                 51.0                   0.02   \n",
       "\n",
       "   flesch_reading_ease  num_of_stopwords  num_of_numerics  \\\n",
       "0                78.25                16                0   \n",
       "1                92.12                24                0   \n",
       "2                64.38                11                1   \n",
       "3                78.99                37                0   \n",
       "4                36.63                35                0   \n",
       "\n",
       "   num_of_unique_words  num_of_uppercase_char  ratio_of_uppercase_char  \\\n",
       "0                   35                      6                 0.027907   \n",
       "1                   43                      6                 0.022305   \n",
       "2                   30                      4                 0.022472   \n",
       "3                   68                      8                 0.016293   \n",
       "4                   85                     10                 0.016779   \n",
       "\n",
       "   ratio_of_difficult_words  ratio_of_unique_words  polarity  subjectivity  \\\n",
       "0                  0.200000               0.875000  0.195833      0.395833   \n",
       "1                  0.057692               0.826923  0.025000      0.650000   \n",
       "2                  0.125000               0.937500  0.220000      0.328718   \n",
       "3                  0.100000               0.755556  0.555134      0.776786   \n",
       "4                  0.127451               0.833333  0.138715      0.538294   \n",
       "\n",
       "   Negative  Neutral  Positive  Compound  \\\n",
       "0     0.038    0.830     0.131    0.6170   \n",
       "1     0.092    0.768     0.140    0.5783   \n",
       "2     0.000    0.751     0.249    0.8515   \n",
       "3     0.022    0.706     0.272    0.9779   \n",
       "4     0.000    0.775     0.225    0.9756   \n",
       "\n",
       "                                                 pos  ADJ  ADP  ADV  AUX  \\\n",
       "0  ['DET', 'NOUN', 'ADP', 'NOUN', 'AUX', 'DET', '...    6    3    2    7   \n",
       "1  ['DET', 'ADJ', 'NOUN', 'ADP', 'PROPN', 'AUX', ...    7    3    4    7   \n",
       "2  ['VERB', 'NOUN', 'ADP', 'NUM', 'ADP', 'PROPN',...    4    4    0    2   \n",
       "3  ['DET', 'AUX', 'DET', 'ADJ', 'NOUN', 'ADJ', 'N...   10    9    2    8   \n",
       "4  ['NOUN', 'AUX', 'ADJ', 'NOUN', 'ADP', 'DET', '...   15   11    7    5   \n",
       "\n",
       "   CCONJ  DET  INTJ  NOUN  NUM  PART  PRON  PROPN  PUNCT  SCONJ  SPACE  SYM  \\\n",
       "0      0    5     0     9    2     1     3      0      4      2      0    1   \n",
       "1      4    9     0    11    0     1     2      2      9      0      0    0   \n",
       "2      1    3     0     7    1     0     4      2      5      1      2    0   \n",
       "3      4   16     0    18    1     2     8      2     12      3      2    0   \n",
       "4      4   12     0    26    0     2     6      6     11      2      5    0   \n",
       "\n",
       "   VERB  X  Ratio_of_ADJ  Ratio_of_ADP  Ratio_of_ADV  Ratio_of_AUX  \\\n",
       "0     2  0      0.150000      0.075000      0.050000      0.175000   \n",
       "1     4  0      0.134615      0.057692      0.076923      0.134615   \n",
       "2     3  0      0.125000      0.125000      0.000000      0.062500   \n",
       "3     7  0      0.111111      0.100000      0.022222      0.088889   \n",
       "4     9  0      0.147059      0.107843      0.068627      0.049020   \n",
       "\n",
       "   Ratio_of_CCONJ  Ratio_of_DET  Ratio_of_INTJ  Ratio_of_NOUN  Ratio_of_NUM  \\\n",
       "0        0.000000      0.125000            0.0       0.225000      0.050000   \n",
       "1        0.076923      0.173077            0.0       0.211538      0.000000   \n",
       "2        0.031250      0.093750            0.0       0.218750      0.031250   \n",
       "3        0.044444      0.177778            0.0       0.200000      0.011111   \n",
       "4        0.039216      0.117647            0.0       0.254902      0.000000   \n",
       "\n",
       "   Ratio_of_PART  Ratio_of_PRON  Ratio_of_PROPN  Ratio_of_PUNCT  \\\n",
       "0       0.025000       0.075000        0.000000        0.100000   \n",
       "1       0.019231       0.038462        0.038462        0.173077   \n",
       "2       0.000000       0.125000        0.062500        0.156250   \n",
       "3       0.022222       0.088889        0.022222        0.133333   \n",
       "4       0.019608       0.058824        0.058824        0.107843   \n",
       "\n",
       "   Ratio_of_SCONJ  Ratio_of_SPACE  Ratio_of_SYM  Ratio_of_VERB  Ratio_of_X  \\\n",
       "0        0.050000        0.000000         0.025       0.050000         0.0   \n",
       "1        0.000000        0.000000         0.000       0.076923         0.0   \n",
       "2        0.031250        0.062500         0.000       0.093750         0.0   \n",
       "3        0.033333        0.022222         0.000       0.077778         0.0   \n",
       "4        0.019608        0.049020         0.000       0.088235         0.0   \n",
       "\n",
       "   diff_in_rating  num_of_reviews  num_of_five_rating  num_of_four_rating  \\\n",
       "0       -0.854839              39                23.0                12.0   \n",
       "1       -0.854839               1                 0.0                 0.0   \n",
       "2        0.145161               2                 0.0                 2.0   \n",
       "3        0.145161               1                 0.0                 1.0   \n",
       "4        0.145161               5                 1.0                 2.0   \n",
       "\n",
       "   num_of_three_rating  num_of_two_rating  num_of_one_rating  \\\n",
       "0                  3.0                0.0                1.0   \n",
       "1                  1.0                0.0                0.0   \n",
       "2                  0.0                0.0                0.0   \n",
       "3                  0.0                0.0                0.0   \n",
       "4                  1.0                1.0                0.0   \n",
       "\n",
       "   avg_day_between_reviews  same_day_review_count first_date_post  \\\n",
       "0                    10.50                     15      2013-11-04   \n",
       "1                     0.00                      0      2013-05-16   \n",
       "2                     0.00                      1      2013-07-01   \n",
       "3                     0.00                      0      2011-07-28   \n",
       "4                    12.75                      0      2010-10-15   \n",
       "\n",
       "  last_date_post  user_lifetime  ratio_same_day_lifetime  mean_num_words_user  \\\n",
       "0     2014-12-08            400                   0.0375            63.717949   \n",
       "1     2013-05-16              1                   0.0000            52.000000   \n",
       "2     2013-07-01              1                   1.0000            36.500000   \n",
       "3     2011-07-28              1                   0.0000            90.000000   \n",
       "4     2010-12-05             52                   0.0000           149.400000   \n",
       "\n",
       "   mean_num_sentence_user  mean_readability_user  mean_syllable_user  \\\n",
       "0                4.846154              80.006154           84.717949   \n",
       "1                4.000000              92.120000           64.000000   \n",
       "2                2.000000              77.895000           45.500000   \n",
       "3                5.000000              78.990000          114.000000   \n",
       "4                3.600000              48.682000          200.400000   \n",
       "\n",
       "   rating_dev  avg_rating_dev_res  same_day_max_count  ratio_postive_rating  \\\n",
       "0    0.852083            0.864591                   2              0.897436   \n",
       "1    0.000000            0.000000                   0              0.000000   \n",
       "2    0.000000            0.060283                   1              1.000000   \n",
       "3    0.000000            0.000000                   0              1.000000   \n",
       "4    1.140175            1.121240                   0              0.600000   \n",
       "\n",
       "   ratio_negative_rating  ratio_review_lifetime  ratio_same_day_totrv  \\\n",
       "0               0.025641               0.097500              0.384615   \n",
       "1               0.000000               1.000000              0.000000   \n",
       "2               0.000000               2.000000              0.500000   \n",
       "3               0.000000               1.000000              0.000000   \n",
       "4               0.200000               0.096154              0.000000   \n",
       "\n",
       "   ratio_review_timespan  rating_1.0  rating_2.0  rating_3.0  rating_4.0  \\\n",
       "0               3.545455           0           0           1           0   \n",
       "1               0.090909           0           0           1           0   \n",
       "2               0.181818           0           0           0           1   \n",
       "3               0.090909           0           0           0           1   \n",
       "4               0.454545           0           0           0           1   \n",
       "\n",
       "   rating_5.0  ratio_same_day_review_timespan  ratio_postive_rating_timespan  \\\n",
       "0           0                        1.363636                       3.181818   \n",
       "1           0                        0.000000                       0.000000   \n",
       "2           0                        0.090909                       0.181818   \n",
       "3           0                        0.000000                       0.090909   \n",
       "4           0                        0.000000                       0.272727   \n",
       "\n",
       "   ratio_negative_rating_timespan  cluster  \n",
       "0                        0.090909        2  \n",
       "1                        0.000000        0  \n",
       "2                        0.000000        1  \n",
       "3                        0.000000        0  \n",
       "4                        0.090909        0  "
      ]
     },
     "execution_count": 5,
     "metadata": {},
     "output_type": "execute_result"
    }
   ],
   "source": [
    "final.head()"
   ]
  },
  {
   "cell_type": "markdown",
   "metadata": {},
   "source": [
    "# Train Test Split"
   ]
  },
  {
   "cell_type": "markdown",
   "metadata": {},
   "source": [
    "We will random split our dataset into training (80%) and testing set(20%)."
   ]
  },
  {
   "cell_type": "code",
   "execution_count": 9,
   "metadata": {},
   "outputs": [],
   "source": [
    "# features for our predictions\n",
    "features = ['review', 'prod_avg_rating', 'num_of_char', 'num_of_words', 'difficult_words',\n",
    "       'avg_character_per_word', 'syllable_count', 'avg_syllables_per_word',\n",
    "       'sentence_count', 'avg_sentence_length', 'avg_sentence_per_word',\n",
    "       'flesch_reading_ease', 'num_of_stopwords', 'num_of_numerics',\n",
    "       'num_of_unique_words', 'num_of_uppercase_char',\n",
    "       'ratio_of_uppercase_char', 'ratio_of_difficult_words',\n",
    "       'ratio_of_unique_words', 'polarity', 'subjectivity', 'Negative',\n",
    "       'Neutral', 'Positive', 'Compound', 'ADJ', 'ADP', 'ADV', 'AUX',\n",
    "       'CCONJ', 'DET', 'INTJ', 'NOUN', 'NUM', 'PART', 'PRON', 'PROPN', 'PUNCT',\n",
    "       'SCONJ', 'SPACE', 'SYM', 'VERB', 'X', 'Ratio_of_ADJ', 'Ratio_of_ADP',\n",
    "       'Ratio_of_ADV', 'Ratio_of_AUX', 'Ratio_of_CCONJ', 'Ratio_of_DET',\n",
    "       'Ratio_of_INTJ', 'Ratio_of_NOUN', 'Ratio_of_NUM', 'Ratio_of_PART',\n",
    "       'Ratio_of_PRON', 'Ratio_of_PROPN', 'Ratio_of_PUNCT', 'Ratio_of_SCONJ',\n",
    "       'Ratio_of_SPACE', 'Ratio_of_SYM', 'Ratio_of_VERB', 'Ratio_of_X',\n",
    "       'diff_in_rating', 'num_of_reviews', 'num_of_five_rating',\n",
    "       'num_of_four_rating', 'num_of_three_rating', 'num_of_two_rating',\n",
    "       'num_of_one_rating', 'avg_day_between_reviews', 'same_day_review_count', 'user_lifetime',\n",
    "       'ratio_same_day_lifetime', 'mean_num_words_user',\n",
    "       'mean_num_sentence_user', 'mean_readability_user', 'mean_syllable_user',\n",
    "       'rating_dev', 'avg_rating_dev_res', 'same_day_max_count',\n",
    "       'ratio_postive_rating', 'ratio_negative_rating',\n",
    "       'ratio_review_lifetime', 'ratio_same_day_totrv',\n",
    "       'ratio_review_timespan', 'rating_1.0', 'rating_2.0', 'rating_3.0',\n",
    "       'rating_4.0', 'rating_5.0','ratio_same_day_review_timespan',\n",
    "       'ratio_postive_rating_timespan', 'ratio_negative_rating_timespan',\n",
    "       'cluster']\n",
    "X = final[features] \n",
    "y = final['label'] #spam or ham class"
   ]
  },
  {
   "cell_type": "code",
   "execution_count": 10,
   "metadata": {},
   "outputs": [],
   "source": [
    "X_train, X_test, y_train, y_test = train_test_split(X,y,stratify=y,random_state=42)"
   ]
  },
  {
   "cell_type": "markdown",
   "metadata": {},
   "source": [
    "# Modelling"
   ]
  },
  {
   "cell_type": "markdown",
   "metadata": {},
   "source": [
    "In this section I will explain the approaches that I had taken to classify the reviews."
   ]
  },
  {
   "cell_type": "markdown",
   "metadata": {},
   "source": [
    "## Baseline Model Accuracy"
   ]
  },
  {
   "cell_type": "code",
   "execution_count": 7,
   "metadata": {},
   "outputs": [
    {
     "data": {
      "text/plain": [
       "0    0.650314\n",
       "1    0.349686\n",
       "Name: label, dtype: float64"
      ]
     },
     "execution_count": 7,
     "metadata": {},
     "output_type": "execute_result"
    }
   ],
   "source": [
    "final['label'].value_counts(normalize=True)"
   ]
  },
  {
   "cell_type": "markdown",
   "metadata": {},
   "source": [
    "There are 65% recommended reviews and 35% non-recommended reviews."
   ]
  },
  {
   "cell_type": "markdown",
   "metadata": {},
   "source": [
    "## Predictions using review Text only"
   ]
  },
  {
   "cell_type": "markdown",
   "metadata": {},
   "source": [
    "There could be some words that spam users uses often and the review text itself could be useful to classify the reviews into spam or ham. Hence the first approach is to build a model and try to classify each review."
   ]
  },
  {
   "cell_type": "code",
   "execution_count": 25,
   "metadata": {
    "ExecuteTime": {
     "end_time": "2019-11-28T02:10:05.139294Z",
     "start_time": "2019-11-28T02:10:05.135763Z"
    }
   },
   "outputs": [],
   "source": [
    "lemmatizer = WordNetLemmatizer() #instantiate model"
   ]
  },
  {
   "cell_type": "code",
   "execution_count": 26,
   "metadata": {
    "ExecuteTime": {
     "end_time": "2019-11-28T02:43:52.208440Z",
     "start_time": "2019-11-28T02:43:52.199300Z"
    }
   },
   "outputs": [],
   "source": [
    "def review_to_words(content):\n",
    "    # Function to convert a raw review to a string of words\n",
    "    # The input is a single string (title + main body post), and \n",
    "    # the output is a single string (a preprocessed title + main body post)\n",
    "    \n",
    "    # 1. Remove non-alphanumeric and \\n\n",
    "    letters_only = re.sub(\"[^a-zA-Z]\", \" \", str(content)).replace('\\n', ' ')\n",
    "    \n",
    "    # 2. Convert to lower case, split into individual words.\n",
    "    words = letters_only.lower().split()\n",
    "    \n",
    "    # 3. In Python, searching a set is much faster than searching\n",
    "    # a list, so convert the stop words to a set.\n",
    "    stops = set(stopwords.words('english'))\n",
    "    \n",
    "    # 4. Remove stop words, lemmatize and stem words\n",
    "    meaningful_words = [lemmatizer.lemmatize(w) for w in words if not w in stops]\n",
    "    \n",
    "    # 5. Join the words back into one string separated by space, \n",
    "    # and return the result.\n",
    "    return(\" \".join(meaningful_words))"
   ]
  },
  {
   "cell_type": "code",
   "execution_count": 27,
   "metadata": {
    "ExecuteTime": {
     "end_time": "2019-11-28T02:44:21.250071Z",
     "start_time": "2019-11-28T02:44:21.246620Z"
    }
   },
   "outputs": [],
   "source": [
    "clean_train = [] #training set \n",
    "clean_test = [] #testing set"
   ]
  },
  {
   "cell_type": "code",
   "execution_count": 28,
   "metadata": {
    "ExecuteTime": {
     "end_time": "2019-11-28T02:47:07.771326Z",
     "start_time": "2019-11-28T02:44:22.781502Z"
    }
   },
   "outputs": [],
   "source": [
    "for data in X_train['review']:\n",
    "    # Convert review to words, then append to clean_train_title.\n",
    "    clean_train.append(review_to_words(data))\n",
    "\n",
    "for data in X_test['review']:\n",
    "    # Convert review to words, then append to clean_test_title.\n",
    "    clean_test.append(review_to_words(data))"
   ]
  },
  {
   "cell_type": "code",
   "execution_count": 29,
   "metadata": {
    "ExecuteTime": {
     "end_time": "2019-11-28T02:47:13.569058Z",
     "start_time": "2019-11-28T02:47:11.969030Z"
    }
   },
   "outputs": [],
   "source": [
    "tvec = TfidfVectorizer(max_features=3000, ngram_range=(1, 5)) #instantiate model"
   ]
  },
  {
   "cell_type": "code",
   "execution_count": 30,
   "metadata": {
    "ExecuteTime": {
     "end_time": "2019-11-28T02:48:13.114697Z",
     "start_time": "2019-11-28T02:47:17.584124Z"
    }
   },
   "outputs": [],
   "source": [
    "train_data_tvec = tvec.fit_transform(clean_train).todense() #todense makes storing sparse matrix more efficiently\n",
    "test_data_tvec = tvec.transform(clean_test).todense() #todense makes storing sparse matrix more efficiently"
   ]
  },
  {
   "cell_type": "code",
   "execution_count": 17,
   "metadata": {},
   "outputs": [],
   "source": [
    "ss = StandardScaler() #instantiate model\n",
    "train_sc = ss.fit_transform(train_data_tvec) #scaling our train features\n",
    "test_sc = ss.transform(test_data_tvec) #scaling our test features"
   ]
  },
  {
   "cell_type": "markdown",
   "metadata": {},
   "source": [
    "I will be using logistic regression, random forest classifier and extra trees classifier make predictions."
   ]
  },
  {
   "cell_type": "code",
   "execution_count": 18,
   "metadata": {
    "ExecuteTime": {
     "end_time": "2019-12-01T08:38:37.237388Z",
     "start_time": "2019-12-01T08:38:36.749948Z"
    }
   },
   "outputs": [
    {
     "name": "stdout",
     "output_type": "stream",
     "text": [
      "0.6817825339000202\n",
      "0.6643645884719007\n"
     ]
    }
   ],
   "source": [
    "lr=LogisticRegression(C=0.00001) #instantiate model\n",
    "lr.fit(train_sc, y_train)\n",
    "print(lr.score(train_sc, y_train))\n",
    "print(lr.score(test_sc, y_test))"
   ]
  },
  {
   "cell_type": "code",
   "execution_count": 20,
   "metadata": {
    "ExecuteTime": {
     "end_time": "2019-12-01T08:40:15.909669Z",
     "start_time": "2019-12-01T08:40:15.353905Z"
    }
   },
   "outputs": [
    {
     "name": "stdout",
     "output_type": "stream",
     "text": [
      "0.9130363286784052\n",
      "0.6591659393617425\n"
     ]
    }
   ],
   "source": [
    "rt = RandomForestClassifier(n_estimators=1000, max_depth=50, n_jobs=-1, class_weight={0:1, 1:2}) #instantiate model\n",
    "rt.fit(train_sc, y_train)\n",
    "print(rt.score(train_sc, y_train))\n",
    "print(rt.score(test_sc, y_test))"
   ]
  },
  {
   "cell_type": "code",
   "execution_count": 21,
   "metadata": {
    "ExecuteTime": {
     "end_time": "2019-12-01T08:40:25.799885Z",
     "start_time": "2019-12-01T08:40:24.958999Z"
    },
    "scrolled": true
   },
   "outputs": [
    {
     "name": "stdout",
     "output_type": "stream",
     "text": [
      "0.6762548067192876\n",
      "0.6505900656471749\n"
     ]
    }
   ],
   "source": [
    "et = ExtraTreesClassifier(n_estimators=1000, max_depth=50, n_jobs=-1, class_weight={0:2, 1:2}) #instantiate model\n",
    "et.fit(train_sc, y_train)\n",
    "print(et.score(train_sc, y_train))\n",
    "print(et.score(test_sc, y_test))"
   ]
  },
  {
   "cell_type": "code",
   "execution_count": 22,
   "metadata": {
    "scrolled": true
   },
   "outputs": [
    {
     "data": {
      "text/plain": [
       "0    0.650311\n",
       "1    0.349689\n",
       "Name: label, dtype: float64"
      ]
     },
     "execution_count": 22,
     "metadata": {},
     "output_type": "execute_result"
    }
   ],
   "source": [
    "y_train.value_counts(normalize=True)"
   ]
  },
  {
   "cell_type": "code",
   "execution_count": 23,
   "metadata": {
    "scrolled": true
   },
   "outputs": [
    {
     "data": {
      "text/plain": [
       "0    0.650324\n",
       "1    0.349676\n",
       "Name: label, dtype: float64"
      ]
     },
     "execution_count": 23,
     "metadata": {},
     "output_type": "execute_result"
    }
   ],
   "source": [
    "y_test.value_counts(normalize=True)"
   ]
  },
  {
   "cell_type": "markdown",
   "metadata": {},
   "source": [
    "As we can see from the above results, the accuracy is about the same as the baseline accuracy."
   ]
  },
  {
   "cell_type": "code",
   "execution_count": null,
   "metadata": {},
   "outputs": [],
   "source": [
    "predictions = lr.predict(test_sc) "
   ]
  },
  {
   "cell_type": "code",
   "execution_count": 25,
   "metadata": {
    "ExecuteTime": {
     "end_time": "2019-11-28T05:27:31.533462Z",
     "start_time": "2019-11-28T05:27:24.947476Z"
    }
   },
   "outputs": [],
   "source": [
    "cm=confusion_matrix(y_test, predictions)"
   ]
  },
  {
   "cell_type": "code",
   "execution_count": 26,
   "metadata": {
    "ExecuteTime": {
     "end_time": "2019-11-28T05:27:37.940455Z",
     "start_time": "2019-11-28T05:27:36.683672Z"
    },
    "scrolled": true
   },
   "outputs": [
    {
     "data": {
      "text/plain": [
       "<matplotlib.axes._subplots.AxesSubplot at 0x1842190a358>"
      ]
     },
     "execution_count": 26,
     "metadata": {},
     "output_type": "execute_result"
    },
    {
     "data": {
      "image/png": "[encoded data removed]",
      "text/plain": [
       "<Figure size 720x576 with 2 Axes>"
      ]
     },
     "metadata": {
      "needs_background": "light"
     },
     "output_type": "display_data"
    }
   ],
   "source": [
    "import seaborn as sns\n",
    "plt.figure(figsize=(10,8))\n",
    "sns.heatmap(cm, annot = True,cmap = 'Blues', fmt='g')"
   ]
  },
  {
   "cell_type": "markdown",
   "metadata": {},
   "source": [
    "3525 spam are misclassified as ham, while 5320 ham are predicted to be as spam. "
   ]
  },
  {
   "cell_type": "code",
   "execution_count": 27,
   "metadata": {
    "ExecuteTime": {
     "end_time": "2019-11-28T05:29:37.503830Z",
     "start_time": "2019-11-28T05:29:24.907195Z"
    },
    "scrolled": true
   },
   "outputs": [
    {
     "name": "stdout",
     "output_type": "stream",
     "text": [
      "Accuracy = 0.664\n",
      "Misclassification Rate = 0.336\n",
      "Sensitivity = 0.617\n",
      "Specificity = 0.69\n",
      "Precision = 0.517\n",
      "             precision    recall  f1-score   support\n",
      "\n",
      "          0       0.77      0.69      0.73     17138\n",
      "          1       0.52      0.62      0.56      9215\n",
      "\n",
      "avg / total       0.68      0.66      0.67     26353\n",
      "\n",
      "0.713370835337692\n"
     ]
    }
   ],
   "source": [
    "tn, fp, fn, tp=confusion_matrix(y_test, predictions).ravel()\n",
    "\n",
    "print(f'Accuracy = {round((tp + tn) /(tn+ fp+ fn+ tp),3)}')\n",
    "print(f'Misclassification Rate = {round((fp + fn) /(tn+ fp+ fn+ tp),3)}')\n",
    "print(f'Sensitivity = {round(tp /(fn+ tp),3)}')\n",
    "print(f'Specificity = {round(tn /(fp+ tn),3)}')\n",
    "print(f'Precision = {round(tp /(fp+ tp),3)}')\n",
    "\n",
    "print(classification_report(y_test, predictions, target_names=['0','1']))\n",
    "\n",
    "pred_proba = [i[1] for i in lr.predict_proba(test_sc)]\n",
    "\n",
    "pred_df = pd.DataFrame({'true_values': y_test,\n",
    "                        'pred_probs':pred_proba})\n",
    "\n",
    "print(roc_auc_score(y_test,pred_proba))"
   ]
  },
  {
   "cell_type": "code",
   "execution_count": 28,
   "metadata": {
    "ExecuteTime": {
     "end_time": "2019-11-27T02:28:36.859728Z",
     "start_time": "2019-11-27T02:28:35.309973Z"
    }
   },
   "outputs": [
    {
     "data": {
      "image/png": "[encoded data removed]",
      "text/plain": [
       "<Figure size 720x504 with 1 Axes>"
      ]
     },
     "metadata": {
      "needs_background": "light"
     },
     "output_type": "display_data"
    }
   ],
   "source": [
    "# Create figure.\n",
    "plt.figure(figsize = (10,7))\n",
    "\n",
    "# Create threshold values.\n",
    "thresholds = np.linspace(0, 1, 200)\n",
    "\n",
    "# Define function to calculate sensitivity. (True positive rate.)\n",
    "def TPR(df, true_col, pred_prob_col, threshold):\n",
    "    true_positive = df[(df[true_col] == 1) & (df[pred_prob_col] >= threshold)].shape[0]\n",
    "    false_negative = df[(df[true_col] == 1) & (df[pred_prob_col] < threshold)].shape[0]\n",
    "    return true_positive / (true_positive + false_negative)\n",
    "\n",
    "# Define function to calculate 1 - specificity. (False positive rate.)\n",
    "def FPR(df, true_col, pred_prob_col, threshold):\n",
    "    true_negative = df[(df[true_col] == 0) & (df[pred_prob_col] <= threshold)].shape[0]\n",
    "    false_positive = df[(df[true_col] == 0) & (df[pred_prob_col] > threshold)].shape[0]\n",
    "    return 1 - (true_negative / (true_negative + false_positive))\n",
    "    \n",
    "# Calculate sensitivity & 1-specificity for each threshold between 0 and 1.\n",
    "tpr_values_nb_cvec = [TPR(pred_df, 'true_values', 'pred_probs', prob) for prob in thresholds]\n",
    "fpr_values_nb_cvec = [FPR(pred_df, 'true_values', 'pred_probs', prob) for prob in thresholds]\n",
    "\n",
    "# Plot ROC curve.\n",
    "plt.plot(fpr_values_nb_cvec, # False Positive Rate on X-axis\n",
    "         tpr_values_nb_cvec, # True Positive Rate on Y-axis\n",
    "         label='ROC Curve')\n",
    "\n",
    "# Plot baseline. (Perfect overlap between the two populations.)\n",
    "plt.plot(np.linspace(0, 1, 200),\n",
    "         np.linspace(0, 1, 200),\n",
    "         label='baseline',\n",
    "         linestyle='--')\n",
    "\n",
    "# Label axes.\n",
    "plt.title('Receiver Operating Characteristic Curve', fontsize=22)\n",
    "plt.ylabel('Sensitivity', fontsize=18)\n",
    "plt.xlabel('1 - Specificity', fontsize=18)\n",
    "\n",
    "# Create legend.\n",
    "plt.legend(fontsize=16);"
   ]
  },
  {
   "cell_type": "code",
   "execution_count": 29,
   "metadata": {},
   "outputs": [
    {
     "data": {
      "image/png": "[encoded data removed]",
      "text/plain": [
       "<Figure size 720x504 with 1 Axes>"
      ]
     },
     "metadata": {
      "needs_background": "light"
     },
     "output_type": "display_data"
    }
   ],
   "source": [
    "# Create figure.\n",
    "plt.figure(figsize = (10,7))\n",
    "\n",
    "# Create two histograms of observations.\n",
    "plt.hist(pred_df[pred_df['true_values'] == 0]['pred_probs'],\n",
    "         bins=25,\n",
    "         color='b',\n",
    "         alpha = 0.6,\n",
    "         label='Outcome = 0')\n",
    "plt.hist(pred_df[pred_df['true_values'] == 1]['pred_probs'],\n",
    "         bins=25,\n",
    "         color='orange',\n",
    "         alpha = 0.6,\n",
    "         label='Outcome = 1')\n",
    "\n",
    "# Label axes.\n",
    "plt.title('Distribution of P(Outcome = 1)', fontsize=22)\n",
    "plt.ylabel('Frequency', fontsize=18)\n",
    "plt.xlabel('Predicted Probability that Outcome = 1', fontsize=18)\n",
    "\n",
    "# Create legend.\n",
    "plt.legend(fontsize=20);"
   ]
  },
  {
   "cell_type": "markdown",
   "metadata": {},
   "source": [
    "From the above we can see that using the text from the review, the model is not able to differentiate which reviews are spam and which are genuine reviews.<br>\n",
    "<br>\n",
    "Hence we can conclude the review text are not enough to make predictions for spam/fake reviews. "
   ]
  },
  {
   "cell_type": "markdown",
   "metadata": {},
   "source": [
    "## Predictions using review features only"
   ]
  },
  {
   "cell_type": "markdown",
   "metadata": {},
   "source": [
    "In this section, I will use the features generated from reviews to classify if a review is spam/fake. "
   ]
  },
  {
   "cell_type": "code",
   "execution_count": 17,
   "metadata": {},
   "outputs": [],
   "source": [
    "review_features = ['num_of_char', 'num_of_words', 'difficult_words',\n",
    "       'avg_character_per_word', 'syllable_count', 'avg_syllables_per_word',\n",
    "       'sentence_count', 'avg_sentence_length', 'avg_sentence_per_word',\n",
    "       'flesch_reading_ease', 'num_of_stopwords', 'num_of_numerics',\n",
    "       'num_of_unique_words', 'num_of_uppercase_char',\n",
    "       'ratio_of_uppercase_char', 'ratio_of_difficult_words',\n",
    "       'ratio_of_unique_words', 'polarity', 'subjectivity', 'Negative',\n",
    "       'Neutral', 'Positive', 'Compound', 'ADJ', 'ADP', 'ADV', 'AUX',\n",
    "       'CCONJ', 'DET', 'INTJ', 'NOUN', 'NUM', 'PART', 'PRON', 'PROPN', 'PUNCT',\n",
    "       'SCONJ', 'SPACE', 'SYM', 'VERB', 'X', 'Ratio_of_ADJ', 'Ratio_of_ADP',\n",
    "       'Ratio_of_ADV', 'Ratio_of_AUX', 'Ratio_of_CCONJ', 'Ratio_of_DET',\n",
    "       'Ratio_of_INTJ', 'Ratio_of_NOUN', 'Ratio_of_NUM', 'Ratio_of_PART',\n",
    "       'Ratio_of_PRON', 'Ratio_of_PROPN', 'Ratio_of_PUNCT', 'Ratio_of_SCONJ',\n",
    "       'Ratio_of_SPACE', 'Ratio_of_SYM', 'Ratio_of_VERB', 'Ratio_of_X',\n",
    "       'diff_in_rating']"
   ]
  },
  {
   "cell_type": "code",
   "execution_count": 14,
   "metadata": {},
   "outputs": [],
   "source": [
    "ss = StandardScaler() #instantiate model\n",
    "train_review_sc = ss.fit_transform(X_train[review_features]) #scaling our train features\n",
    "test_review_sc = ss.transform(X_test[review_features]) #scaling our test features"
   ]
  },
  {
   "cell_type": "code",
   "execution_count": 15,
   "metadata": {
    "ExecuteTime": {
     "end_time": "2019-12-01T08:38:37.237388Z",
     "start_time": "2019-12-01T08:38:36.749948Z"
    }
   },
   "outputs": [
    {
     "name": "stdout",
     "output_type": "stream",
     "text": [
      "0.6152474195506983\n",
      "0.6156414829431184\n"
     ]
    }
   ],
   "source": [
    "lr=LogisticRegression(C=0.00001) #instantiate model\n",
    "lr.fit(train_review_sc, y_train)\n",
    "print(lr.score(train_review_sc, y_train))\n",
    "print(lr.score(test_review_sc, y_test))"
   ]
  },
  {
   "cell_type": "code",
   "execution_count": 40,
   "metadata": {
    "ExecuteTime": {
     "end_time": "2019-12-01T08:40:15.909669Z",
     "start_time": "2019-12-01T08:40:15.353905Z"
    }
   },
   "outputs": [
    {
     "name": "stdout",
     "output_type": "stream",
     "text": [
      "0.9997090669904878\n",
      "0.6740029598148218\n"
     ]
    }
   ],
   "source": [
    "rt = RandomForestClassifier(n_estimators=500, max_depth=50, n_jobs=-1, class_weight={0:1, 1:2}) #instantiate model\n",
    "rt.fit(train_review_sc, y_train)\n",
    "print(rt.score(train_review_sc, y_train))\n",
    "print(rt.score(test_review_sc, y_test))"
   ]
  },
  {
   "cell_type": "code",
   "execution_count": 17,
   "metadata": {
    "ExecuteTime": {
     "end_time": "2019-12-01T08:40:25.799885Z",
     "start_time": "2019-12-01T08:40:24.958999Z"
    },
    "scrolled": true
   },
   "outputs": [
    {
     "name": "stdout",
     "output_type": "stream",
     "text": [
      "0.9997090669904878\n",
      "0.6730922475619474\n"
     ]
    }
   ],
   "source": [
    "et = ExtraTreesClassifier(n_estimators=500, max_depth=50, n_jobs=-1, class_weight={0:2, 1:2}) #instantiate model\n",
    "et.fit(train_review_sc, y_train)\n",
    "print(et.score(train_review_sc, y_train))\n",
    "print(et.score(test_review_sc, y_test))"
   ]
  },
  {
   "cell_type": "markdown",
   "metadata": {},
   "source": [
    "We can see from the above results the accuracy is about the same as our baseline accuracy. "
   ]
  },
  {
   "cell_type": "code",
   "execution_count": 18,
   "metadata": {},
   "outputs": [],
   "source": [
    "review_predictions = rt.predict(test_review_sc)"
   ]
  },
  {
   "cell_type": "code",
   "execution_count": 19,
   "metadata": {
    "ExecuteTime": {
     "end_time": "2019-11-28T05:27:31.533462Z",
     "start_time": "2019-11-28T05:27:24.947476Z"
    }
   },
   "outputs": [],
   "source": [
    "cm=confusion_matrix(y_test, review_predictions)"
   ]
  },
  {
   "cell_type": "code",
   "execution_count": 20,
   "metadata": {
    "ExecuteTime": {
     "end_time": "2019-11-28T05:27:37.940455Z",
     "start_time": "2019-11-28T05:27:36.683672Z"
    },
    "scrolled": true
   },
   "outputs": [
    {
     "data": {
      "text/plain": [
       "<matplotlib.axes._subplots.AxesSubplot at 0x2b28d8e5710>"
      ]
     },
     "execution_count": 20,
     "metadata": {},
     "output_type": "execute_result"
    },
    {
     "data": {
      "image/png": "[encoded data removed]",
      "text/plain": [
       "<Figure size 720x576 with 2 Axes>"
      ]
     },
     "metadata": {
      "needs_background": "light"
     },
     "output_type": "display_data"
    }
   ],
   "source": [
    "import seaborn as sns\n",
    "plt.figure(figsize=(10,8))\n",
    "sns.heatmap(cm, annot = True,cmap = 'Blues', fmt='g')"
   ]
  },
  {
   "cell_type": "markdown",
   "metadata": {},
   "source": [
    "7170 spam are misclassified as ham, while 1415 ham are predicted to be as spam. "
   ]
  },
  {
   "cell_type": "code",
   "execution_count": 21,
   "metadata": {
    "ExecuteTime": {
     "end_time": "2019-11-28T05:29:37.503830Z",
     "start_time": "2019-11-28T05:29:24.907195Z"
    },
    "scrolled": true
   },
   "outputs": [
    {
     "name": "stdout",
     "output_type": "stream",
     "text": [
      "Accuracy = 0.674\n",
      "Misclassification Rate = 0.326\n",
      "Sensitivity = 0.222\n",
      "Specificity = 0.917\n",
      "Precision = 0.591\n",
      "             precision    recall  f1-score   support\n",
      "\n",
      "          0       0.69      0.92      0.79     17138\n",
      "          1       0.59      0.22      0.32      9215\n",
      "\n",
      "avg / total       0.65      0.67      0.62     26353\n",
      "\n",
      "0.6876802410891081\n"
     ]
    }
   ],
   "source": [
    "tn, fp, fn, tp=confusion_matrix(y_test, review_predictions).ravel()\n",
    "\n",
    "print(f'Accuracy = {round((tp + tn) /(tn+ fp+ fn+ tp),3)}')\n",
    "print(f'Misclassification Rate = {round((fp + fn) /(tn+ fp+ fn+ tp),3)}')\n",
    "print(f'Sensitivity = {round(tp /(fn+ tp),3)}')\n",
    "print(f'Specificity = {round(tn /(fp+ tn),3)}')\n",
    "print(f'Precision = {round(tp /(fp+ tp),3)}')\n",
    "\n",
    "print(classification_report(y_test, review_predictions, target_names=['0','1']))\n",
    "\n",
    "pred_proba = [i[1] for i in rt.predict_proba(test_review_sc)]\n",
    "\n",
    "pred_df = pd.DataFrame({'true_values': y_test,\n",
    "                        'pred_probs':pred_proba})\n",
    "\n",
    "print(roc_auc_score(y_test,pred_proba))"
   ]
  },
  {
   "cell_type": "code",
   "execution_count": 22,
   "metadata": {
    "ExecuteTime": {
     "end_time": "2019-11-27T02:28:36.859728Z",
     "start_time": "2019-11-27T02:28:35.309973Z"
    }
   },
   "outputs": [
    {
     "data": {
      "image/png": "[encoded data removed]",
      "text/plain": [
       "<Figure size 720x504 with 1 Axes>"
      ]
     },
     "metadata": {
      "needs_background": "light"
     },
     "output_type": "display_data"
    }
   ],
   "source": [
    "# Create figure.\n",
    "plt.figure(figsize = (10,7))\n",
    "\n",
    "# Create threshold values.\n",
    "thresholds = np.linspace(0, 1, 200)\n",
    "\n",
    "# Define function to calculate sensitivity. (True positive rate.)\n",
    "def TPR(df, true_col, pred_prob_col, threshold):\n",
    "    true_positive = df[(df[true_col] == 1) & (df[pred_prob_col] >= threshold)].shape[0]\n",
    "    false_negative = df[(df[true_col] == 1) & (df[pred_prob_col] < threshold)].shape[0]\n",
    "    return true_positive / (true_positive + false_negative)\n",
    "\n",
    "# Define function to calculate 1 - specificity. (False positive rate.)\n",
    "def FPR(df, true_col, pred_prob_col, threshold):\n",
    "    true_negative = df[(df[true_col] == 0) & (df[pred_prob_col] <= threshold)].shape[0]\n",
    "    false_positive = df[(df[true_col] == 0) & (df[pred_prob_col] > threshold)].shape[0]\n",
    "    return 1 - (true_negative / (true_negative + false_positive))\n",
    "    \n",
    "# Calculate sensitivity & 1-specificity for each threshold between 0 and 1.\n",
    "tpr_values_nb_cvec = [TPR(pred_df, 'true_values', 'pred_probs', prob) for prob in thresholds]\n",
    "fpr_values_nb_cvec = [FPR(pred_df, 'true_values', 'pred_probs', prob) for prob in thresholds]\n",
    "\n",
    "# Plot ROC curve.\n",
    "plt.plot(fpr_values_nb_cvec, # False Positive Rate on X-axis\n",
    "         tpr_values_nb_cvec, # True Positive Rate on Y-axis\n",
    "         label='ROC Curve')\n",
    "\n",
    "# Plot baseline. (Perfect overlap between the two populations.)\n",
    "plt.plot(np.linspace(0, 1, 200),\n",
    "         np.linspace(0, 1, 200),\n",
    "         label='baseline',\n",
    "         linestyle='--')\n",
    "\n",
    "# Label axes.\n",
    "plt.title('Receiver Operating Characteristic Curve', fontsize=22)\n",
    "plt.ylabel('Sensitivity', fontsize=18)\n",
    "plt.xlabel('1 - Specificity', fontsize=18)\n",
    "\n",
    "# Create legend.\n",
    "plt.legend(fontsize=16);"
   ]
  },
  {
   "cell_type": "code",
   "execution_count": 23,
   "metadata": {},
   "outputs": [
    {
     "data": {
      "image/png": "[encoded data removed]",
      "text/plain": [
       "<Figure size 720x504 with 1 Axes>"
      ]
     },
     "metadata": {
      "needs_background": "light"
     },
     "output_type": "display_data"
    }
   ],
   "source": [
    "# Create figure.\n",
    "plt.figure(figsize = (10,7))\n",
    "\n",
    "# Create two histograms of observations.\n",
    "plt.hist(pred_df[pred_df['true_values'] == 0]['pred_probs'],\n",
    "         bins=25,\n",
    "         color='b',\n",
    "         alpha = 0.6,\n",
    "         label='Outcome = 0')\n",
    "plt.hist(pred_df[pred_df['true_values'] == 1]['pred_probs'],\n",
    "         bins=25,\n",
    "         color='orange',\n",
    "         alpha = 0.6,\n",
    "         label='Outcome = 1')\n",
    "\n",
    "# Label axes.\n",
    "plt.title('Distribution of P(Outcome = 1)', fontsize=22)\n",
    "plt.ylabel('Frequency', fontsize=18)\n",
    "plt.xlabel('Predicted Probability that Outcome = 1', fontsize=18)\n",
    "\n",
    "# Create legend.\n",
    "plt.legend(fontsize=20);"
   ]
  },
  {
   "cell_type": "markdown",
   "metadata": {},
   "source": [
    "The ROC score for using review features only is lower than using review text itself. More ham are predicted correctly but more spam are misclassified.<br>\n",
    "<br>\n",
    "Overall, we can conclude that both review features and review text alone are not good predictors of spam/fake reviews."
   ]
  },
  {
   "cell_type": "markdown",
   "metadata": {},
   "source": [
    "## Predictions using users features only"
   ]
  },
  {
   "cell_type": "markdown",
   "metadata": {},
   "source": [
    "In this section, I will build a classifier based on the users features to predict if a review is spam/fake."
   ]
  },
  {
   "cell_type": "code",
   "execution_count": 31,
   "metadata": {},
   "outputs": [],
   "source": [
    "user_features = ['num_of_reviews', 'num_of_five_rating',\n",
    "       'num_of_four_rating', 'num_of_three_rating', 'num_of_two_rating',\n",
    "       'num_of_one_rating', 'avg_day_between_reviews', 'same_day_review_count', 'user_lifetime',\n",
    "       'ratio_same_day_lifetime', 'mean_num_words_user',\n",
    "       'mean_num_sentence_user', 'mean_readability_user', 'mean_syllable_user',\n",
    "       'rating_dev', 'avg_rating_dev_res', 'same_day_max_count',\n",
    "       'ratio_postive_rating', 'ratio_negative_rating',\n",
    "       'ratio_review_lifetime', 'ratio_same_day_totrv',\n",
    "       'ratio_review_timespan','ratio_same_day_review_timespan',\n",
    "       'ratio_postive_rating_timespan', 'ratio_negative_rating_timespan']"
   ]
  },
  {
   "cell_type": "code",
   "execution_count": 19,
   "metadata": {},
   "outputs": [],
   "source": [
    "ss = StandardScaler()\n",
    "train_user_sc = ss.fit_transform(X_train[user_features])\n",
    "test_user_sc = ss.transform(X_test[user_features])"
   ]
  },
  {
   "cell_type": "code",
   "execution_count": 20,
   "metadata": {
    "ExecuteTime": {
     "end_time": "2019-11-28T03:47:12.162282Z",
     "start_time": "2019-11-28T03:44:33.233432Z"
    }
   },
   "outputs": [
    {
     "name": "stdout",
     "output_type": "stream",
     "text": [
      "0.7313929366524995\n",
      "0.7242059727545251\n"
     ]
    }
   ],
   "source": [
    "lr=LogisticRegression() \n",
    "lr.fit(train_user_sc, y_train)\n",
    "print(lr.score(train_user_sc, y_train))\n",
    "print(lr.score(test_user_sc, y_test))"
   ]
  },
  {
   "cell_type": "code",
   "execution_count": 21,
   "metadata": {
    "ExecuteTime": {
     "end_time": "2019-11-28T03:56:24.797108Z",
     "start_time": "2019-11-28T03:47:18.733482Z"
    }
   },
   "outputs": [
    {
     "name": "stdout",
     "output_type": "stream",
     "text": [
      "0.9612806112123052\n",
      "0.8042348119758661\n"
     ]
    }
   ],
   "source": [
    "rt = RandomForestClassifier(max_depth=60,n_estimators=550, n_jobs=-1, class_weight={0:1, 1:2}) \n",
    "rt.fit(train_user_sc, y_train)\n",
    "print(rt.score(train_user_sc, y_train))\n",
    "print(rt.score(test_user_sc, y_test))"
   ]
  },
  {
   "cell_type": "code",
   "execution_count": 22,
   "metadata": {
    "ExecuteTime": {
     "end_time": "2019-11-28T04:13:29.227259Z",
     "start_time": "2019-11-28T03:56:32.354162Z"
    },
    "scrolled": true
   },
   "outputs": [
    {
     "name": "stdout",
     "output_type": "stream",
     "text": [
      "0.9599018417324429\n",
      "0.8016165142488522\n"
     ]
    }
   ],
   "source": [
    "et = ExtraTreesClassifier(n_estimators=550, max_depth=50, n_jobs=-1,class_weight={0:1, 1:2})\n",
    "et.fit(train_user_sc, y_train)\n",
    "print(et.score(train_user_sc, y_train))\n",
    "print(et.score(test_user_sc, y_test))"
   ]
  },
  {
   "cell_type": "markdown",
   "metadata": {},
   "source": [
    "From the results above, we can see that the accuracy had improve upon using the user features."
   ]
  },
  {
   "cell_type": "code",
   "execution_count": 32,
   "metadata": {},
   "outputs": [],
   "source": [
    "user_predictions = rt.predict(test_user_sc)"
   ]
  },
  {
   "cell_type": "code",
   "execution_count": 33,
   "metadata": {
    "ExecuteTime": {
     "end_time": "2019-11-28T05:27:31.533462Z",
     "start_time": "2019-11-28T05:27:24.947476Z"
    }
   },
   "outputs": [],
   "source": [
    "cm=confusion_matrix(y_test, user_predictions)"
   ]
  },
  {
   "cell_type": "code",
   "execution_count": 34,
   "metadata": {
    "ExecuteTime": {
     "end_time": "2019-11-28T05:27:37.940455Z",
     "start_time": "2019-11-28T05:27:36.683672Z"
    },
    "scrolled": true
   },
   "outputs": [
    {
     "data": {
      "text/plain": [
       "<matplotlib.axes._subplots.AxesSubplot at 0x2b28dd19358>"
      ]
     },
     "execution_count": 34,
     "metadata": {},
     "output_type": "execute_result"
    },
    {
     "data": {
      "image/png": "[encoded data removed]",
      "text/plain": [
       "<Figure size 720x576 with 2 Axes>"
      ]
     },
     "metadata": {
      "needs_background": "light"
     },
     "output_type": "display_data"
    }
   ],
   "source": [
    "import seaborn as sns\n",
    "plt.figure(figsize=(10,8))\n",
    "sns.heatmap(cm, annot = True,cmap = 'Blues', fmt='g')"
   ]
  },
  {
   "cell_type": "markdown",
   "metadata": {},
   "source": [
    "2154 spam are misclassified as ham, while 3033 ham are predicted to be as spam. "
   ]
  },
  {
   "cell_type": "code",
   "execution_count": 35,
   "metadata": {
    "ExecuteTime": {
     "end_time": "2019-11-28T05:29:37.503830Z",
     "start_time": "2019-11-28T05:29:24.907195Z"
    },
    "scrolled": true
   },
   "outputs": [
    {
     "name": "stdout",
     "output_type": "stream",
     "text": [
      "Accuracy = 0.803\n",
      "Misclassification Rate = 0.197\n",
      "Sensitivity = 0.766\n",
      "Specificity = 0.823\n",
      "Precision = 0.7\n",
      "             precision    recall  f1-score   support\n",
      "\n",
      "          0       0.87      0.82      0.84     17138\n",
      "          1       0.70      0.77      0.73      9215\n",
      "\n",
      "avg / total       0.81      0.80      0.81     26353\n",
      "\n",
      "0.8877505205422238\n"
     ]
    }
   ],
   "source": [
    "tn, fp, fn, tp=confusion_matrix(y_test, user_predictions).ravel()\n",
    "\n",
    "print(f'Accuracy = {round((tp + tn) /(tn+ fp+ fn+ tp),3)}')\n",
    "print(f'Misclassification Rate = {round((fp + fn) /(tn+ fp+ fn+ tp),3)}')\n",
    "print(f'Sensitivity = {round(tp /(fn+ tp),3)}')\n",
    "print(f'Specificity = {round(tn /(fp+ tn),3)}')\n",
    "print(f'Precision = {round(tp /(fp+ tp),3)}')\n",
    "\n",
    "print(classification_report(y_test, user_predictions, target_names=['0','1']))\n",
    "\n",
    "pred_proba = [i[1] for i in rt.predict_proba(test_user_sc)]\n",
    "\n",
    "pred_df = pd.DataFrame({'true_values': y_test,\n",
    "                        'pred_probs':pred_proba})\n",
    "\n",
    "print(roc_auc_score(y_test,pred_proba))"
   ]
  },
  {
   "cell_type": "code",
   "execution_count": 36,
   "metadata": {
    "ExecuteTime": {
     "end_time": "2019-11-27T02:28:36.859728Z",
     "start_time": "2019-11-27T02:28:35.309973Z"
    }
   },
   "outputs": [
    {
     "data": {
      "image/png": "[encoded data removed]",
      "text/plain": [
       "<Figure size 720x504 with 1 Axes>"
      ]
     },
     "metadata": {
      "needs_background": "light"
     },
     "output_type": "display_data"
    }
   ],
   "source": [
    "# Create figure.\n",
    "plt.figure(figsize = (10,7))\n",
    "\n",
    "# Create threshold values.\n",
    "thresholds = np.linspace(0, 1, 200)\n",
    "\n",
    "# Define function to calculate sensitivity. (True positive rate.)\n",
    "def TPR(df, true_col, pred_prob_col, threshold):\n",
    "    true_positive = df[(df[true_col] == 1) & (df[pred_prob_col] >= threshold)].shape[0]\n",
    "    false_negative = df[(df[true_col] == 1) & (df[pred_prob_col] < threshold)].shape[0]\n",
    "    return true_positive / (true_positive + false_negative)\n",
    "\n",
    "# Define function to calculate 1 - specificity. (False positive rate.)\n",
    "def FPR(df, true_col, pred_prob_col, threshold):\n",
    "    true_negative = df[(df[true_col] == 0) & (df[pred_prob_col] <= threshold)].shape[0]\n",
    "    false_positive = df[(df[true_col] == 0) & (df[pred_prob_col] > threshold)].shape[0]\n",
    "    return 1 - (true_negative / (true_negative + false_positive))\n",
    "    \n",
    "# Calculate sensitivity & 1-specificity for each threshold between 0 and 1.\n",
    "tpr_values_nb_cvec = [TPR(pred_df, 'true_values', 'pred_probs', prob) for prob in thresholds]\n",
    "fpr_values_nb_cvec = [FPR(pred_df, 'true_values', 'pred_probs', prob) for prob in thresholds]\n",
    "\n",
    "# Plot ROC curve.\n",
    "plt.plot(fpr_values_nb_cvec, # False Positive Rate on X-axis\n",
    "         tpr_values_nb_cvec, # True Positive Rate on Y-axis\n",
    "         label='ROC Curve')\n",
    "\n",
    "# Plot baseline. (Perfect overlap between the two populations.)\n",
    "plt.plot(np.linspace(0, 1, 200),\n",
    "         np.linspace(0, 1, 200),\n",
    "         label='baseline',\n",
    "         linestyle='--')\n",
    "\n",
    "# Label axes.\n",
    "plt.title('Receiver Operating Characteristic Curve', fontsize=22)\n",
    "plt.ylabel('Sensitivity', fontsize=18)\n",
    "plt.xlabel('1 - Specificity', fontsize=18)\n",
    "\n",
    "# Create legend.\n",
    "plt.legend(fontsize=16);"
   ]
  },
  {
   "cell_type": "code",
   "execution_count": 37,
   "metadata": {},
   "outputs": [
    {
     "data": {
      "image/png": "[encoded data removed]",
      "text/plain": [
       "<Figure size 720x504 with 1 Axes>"
      ]
     },
     "metadata": {
      "needs_background": "light"
     },
     "output_type": "display_data"
    }
   ],
   "source": [
    "# Create figure.\n",
    "plt.figure(figsize = (10,7))\n",
    "\n",
    "# Create two histograms of observations.\n",
    "plt.hist(pred_df[pred_df['true_values'] == 0]['pred_probs'],\n",
    "         bins=25,\n",
    "         color='b',\n",
    "         alpha = 0.6,\n",
    "         label='Outcome = 0')\n",
    "plt.hist(pred_df[pred_df['true_values'] == 1]['pred_probs'],\n",
    "         bins=25,\n",
    "         color='orange',\n",
    "         alpha = 0.6,\n",
    "         label='Outcome = 1')\n",
    "\n",
    "# Label axes.\n",
    "plt.title('Distribution of P(Outcome = 1)', fontsize=22)\n",
    "plt.ylabel('Frequency', fontsize=18)\n",
    "plt.xlabel('Predicted Probability that Outcome = 1', fontsize=18)\n",
    "\n",
    "# Create legend.\n",
    "plt.legend(fontsize=20);"
   ]
  },
  {
   "cell_type": "markdown",
   "metadata": {},
   "source": [
    "ROC score had improve to 0.89. There is lesser missclassfications as compared to the model using review text and review features.<br>\n",
    "<br>\n",
    "User's features are generally a good predictor for spam/fake review. Genuine and spam users may have distinct behavior and hence features engineered from the users can explain the variance. <br>\n",
    "<br>\n",
    "From the above distribution, at theshold 0.5, there is still some overlapping of class 0 and 1."
   ]
  },
  {
   "cell_type": "markdown",
   "metadata": {},
   "source": [
    "## Predictions using users features and review text only"
   ]
  },
  {
   "cell_type": "markdown",
   "metadata": {},
   "source": [
    "In this section, I will build a classifier based on the users features along with the review text to predict if a review is spam/fake."
   ]
  },
  {
   "cell_type": "code",
   "execution_count": 18,
   "metadata": {},
   "outputs": [],
   "source": [
    "user_features = ['num_of_reviews', 'num_of_five_rating',\n",
    "       'num_of_four_rating', 'num_of_three_rating', 'num_of_two_rating',\n",
    "       'num_of_one_rating', 'avg_day_between_reviews', 'same_day_review_count', 'user_lifetime',\n",
    "       'ratio_same_day_lifetime', 'mean_num_words_user',\n",
    "       'mean_num_sentence_user', 'mean_readability_user', 'mean_syllable_user',\n",
    "       'rating_dev', 'avg_rating_dev_res', 'same_day_max_count',\n",
    "       'ratio_postive_rating', 'ratio_negative_rating',\n",
    "       'ratio_review_lifetime', 'ratio_same_day_totrv',\n",
    "       'ratio_review_timespan','ratio_same_day_review_timespan',\n",
    "       'ratio_postive_rating_timespan', 'ratio_negative_rating_timespan']"
   ]
  },
  {
   "cell_type": "code",
   "execution_count": 32,
   "metadata": {},
   "outputs": [],
   "source": [
    "train_user_text = np.hstack((X_train[user_features],train_data_tvec))\n",
    "test_user_text = np.hstack((X_test[user_features],test_data_tvec))"
   ]
  },
  {
   "cell_type": "code",
   "execution_count": 33,
   "metadata": {},
   "outputs": [],
   "source": [
    "ss = StandardScaler()\n",
    "train_user_sc = ss.fit_transform(train_user_text)\n",
    "test_user_sc = ss.transform(test_user_text)"
   ]
  },
  {
   "cell_type": "code",
   "execution_count": 34,
   "metadata": {
    "ExecuteTime": {
     "end_time": "2019-11-28T03:47:12.162282Z",
     "start_time": "2019-11-28T03:44:33.233432Z"
    }
   },
   "outputs": [
    {
     "name": "stdout",
     "output_type": "stream",
     "text": [
      "0.7766393442622951\n",
      "0.7406746859940044\n"
     ]
    }
   ],
   "source": [
    "lr=LogisticRegression() \n",
    "lr.fit(train_user_sc, y_train)\n",
    "print(lr.score(train_user_sc, y_train))\n",
    "print(lr.score(test_user_sc, y_test))"
   ]
  },
  {
   "cell_type": "code",
   "execution_count": 35,
   "metadata": {
    "ExecuteTime": {
     "end_time": "2019-11-28T03:56:24.797108Z",
     "start_time": "2019-11-28T03:47:18.733482Z"
    }
   },
   "outputs": [
    {
     "name": "stdout",
     "output_type": "stream",
     "text": [
      "0.9304543614652905\n",
      "0.754335369787121\n"
     ]
    }
   ],
   "source": [
    "rt = RandomForestClassifier(max_depth=60,n_estimators=550, n_jobs=-1, class_weight={0:1, 1:2}) \n",
    "rt.fit(train_user_sc, y_train)\n",
    "print(rt.score(train_user_sc, y_train))\n",
    "print(rt.score(test_user_sc, y_test))"
   ]
  },
  {
   "cell_type": "code",
   "execution_count": 36,
   "metadata": {
    "ExecuteTime": {
     "end_time": "2019-11-28T04:13:29.227259Z",
     "start_time": "2019-11-28T03:56:32.354162Z"
    },
    "scrolled": true
   },
   "outputs": [
    {
     "name": "stdout",
     "output_type": "stream",
     "text": [
      "0.8842972070431087\n",
      "0.7409403104010929\n"
     ]
    }
   ],
   "source": [
    "et = ExtraTreesClassifier(n_estimators=550, max_depth=50, n_jobs=-1,class_weight={0:1, 1:2})\n",
    "et.fit(train_user_sc, y_train)\n",
    "print(et.score(train_user_sc, y_train))\n",
    "print(et.score(test_user_sc, y_test))"
   ]
  },
  {
   "cell_type": "markdown",
   "metadata": {},
   "source": [
    "From the results above, we can see that the accuracy had improve upon using the user features."
   ]
  },
  {
   "cell_type": "code",
   "execution_count": 37,
   "metadata": {},
   "outputs": [],
   "source": [
    "user_predictions = rt.predict(test_user_sc)"
   ]
  },
  {
   "cell_type": "code",
   "execution_count": 38,
   "metadata": {
    "ExecuteTime": {
     "end_time": "2019-11-28T05:27:31.533462Z",
     "start_time": "2019-11-28T05:27:24.947476Z"
    }
   },
   "outputs": [],
   "source": [
    "cm=confusion_matrix(y_test, user_predictions)"
   ]
  },
  {
   "cell_type": "code",
   "execution_count": 39,
   "metadata": {
    "ExecuteTime": {
     "end_time": "2019-11-28T05:27:37.940455Z",
     "start_time": "2019-11-28T05:27:36.683672Z"
    },
    "scrolled": true
   },
   "outputs": [
    {
     "data": {
      "text/plain": [
       "<matplotlib.axes._subplots.AxesSubplot at 0x206e46e9320>"
      ]
     },
     "execution_count": 39,
     "metadata": {},
     "output_type": "execute_result"
    },
    {
     "data": {
      "image/png": "[encoded data removed]",
      "text/plain": [
       "<Figure size 720x576 with 2 Axes>"
      ]
     },
     "metadata": {
      "needs_background": "light"
     },
     "output_type": "display_data"
    }
   ],
   "source": [
    "import seaborn as sns\n",
    "plt.figure(figsize=(10,8))\n",
    "sns.heatmap(cm, annot = True,cmap = 'Blues', fmt='g')"
   ]
  },
  {
   "cell_type": "markdown",
   "metadata": {},
   "source": [
    "2154 spam are misclassified as ham, while 3033 ham are predicted to be as spam. "
   ]
  },
  {
   "cell_type": "code",
   "execution_count": 40,
   "metadata": {
    "ExecuteTime": {
     "end_time": "2019-11-28T05:29:37.503830Z",
     "start_time": "2019-11-28T05:29:24.907195Z"
    },
    "scrolled": true
   },
   "outputs": [
    {
     "name": "stdout",
     "output_type": "stream",
     "text": [
      "Accuracy = 0.754\n",
      "Misclassification Rate = 0.246\n",
      "Sensitivity = 0.801\n",
      "Specificity = 0.729\n",
      "Precision = 0.614\n",
      "             precision    recall  f1-score   support\n",
      "\n",
      "          0       0.87      0.73      0.79     17138\n",
      "          1       0.61      0.80      0.70      9215\n",
      "\n",
      "avg / total       0.78      0.75      0.76     26353\n",
      "\n",
      "0.8377892790369099\n"
     ]
    }
   ],
   "source": [
    "tn, fp, fn, tp=confusion_matrix(y_test, user_predictions).ravel()\n",
    "\n",
    "print(f'Accuracy = {round((tp + tn) /(tn+ fp+ fn+ tp),3)}')\n",
    "print(f'Misclassification Rate = {round((fp + fn) /(tn+ fp+ fn+ tp),3)}')\n",
    "print(f'Sensitivity = {round(tp /(fn+ tp),3)}')\n",
    "print(f'Specificity = {round(tn /(fp+ tn),3)}')\n",
    "print(f'Precision = {round(tp /(fp+ tp),3)}')\n",
    "\n",
    "print(classification_report(y_test, user_predictions, target_names=['0','1']))\n",
    "\n",
    "pred_proba = [i[1] for i in rt.predict_proba(test_user_sc)]\n",
    "\n",
    "pred_df = pd.DataFrame({'true_values': y_test,\n",
    "                        'pred_probs':pred_proba})\n",
    "\n",
    "print(roc_auc_score(y_test,pred_proba))"
   ]
  },
  {
   "cell_type": "code",
   "execution_count": 41,
   "metadata": {
    "ExecuteTime": {
     "end_time": "2019-11-27T02:28:36.859728Z",
     "start_time": "2019-11-27T02:28:35.309973Z"
    }
   },
   "outputs": [
    {
     "data": {
      "image/png": "[encoded data removed]",
      "text/plain": [
       "<Figure size 720x504 with 1 Axes>"
      ]
     },
     "metadata": {
      "needs_background": "light"
     },
     "output_type": "display_data"
    }
   ],
   "source": [
    "# Create figure.\n",
    "plt.figure(figsize = (10,7))\n",
    "\n",
    "# Create threshold values.\n",
    "thresholds = np.linspace(0, 1, 200)\n",
    "\n",
    "# Define function to calculate sensitivity. (True positive rate.)\n",
    "def TPR(df, true_col, pred_prob_col, threshold):\n",
    "    true_positive = df[(df[true_col] == 1) & (df[pred_prob_col] >= threshold)].shape[0]\n",
    "    false_negative = df[(df[true_col] == 1) & (df[pred_prob_col] < threshold)].shape[0]\n",
    "    return true_positive / (true_positive + false_negative)\n",
    "\n",
    "# Define function to calculate 1 - specificity. (False positive rate.)\n",
    "def FPR(df, true_col, pred_prob_col, threshold):\n",
    "    true_negative = df[(df[true_col] == 0) & (df[pred_prob_col] <= threshold)].shape[0]\n",
    "    false_positive = df[(df[true_col] == 0) & (df[pred_prob_col] > threshold)].shape[0]\n",
    "    return 1 - (true_negative / (true_negative + false_positive))\n",
    "    \n",
    "# Calculate sensitivity & 1-specificity for each threshold between 0 and 1.\n",
    "tpr_values_nb_cvec = [TPR(pred_df, 'true_values', 'pred_probs', prob) for prob in thresholds]\n",
    "fpr_values_nb_cvec = [FPR(pred_df, 'true_values', 'pred_probs', prob) for prob in thresholds]\n",
    "\n",
    "# Plot ROC curve.\n",
    "plt.plot(fpr_values_nb_cvec, # False Positive Rate on X-axis\n",
    "         tpr_values_nb_cvec, # True Positive Rate on Y-axis\n",
    "         label='ROC Curve')\n",
    "\n",
    "# Plot baseline. (Perfect overlap between the two populations.)\n",
    "plt.plot(np.linspace(0, 1, 200),\n",
    "         np.linspace(0, 1, 200),\n",
    "         label='baseline',\n",
    "         linestyle='--')\n",
    "\n",
    "# Label axes.\n",
    "plt.title('Receiver Operating Characteristic Curve', fontsize=22)\n",
    "plt.ylabel('Sensitivity', fontsize=18)\n",
    "plt.xlabel('1 - Specificity', fontsize=18)\n",
    "\n",
    "# Create legend.\n",
    "plt.legend(fontsize=16);"
   ]
  },
  {
   "cell_type": "code",
   "execution_count": 42,
   "metadata": {},
   "outputs": [
    {
     "data": {
      "image/png": "[encoded data removed]",
      "text/plain": [
       "<Figure size 720x504 with 1 Axes>"
      ]
     },
     "metadata": {
      "needs_background": "light"
     },
     "output_type": "display_data"
    }
   ],
   "source": [
    "# Create figure.\n",
    "plt.figure(figsize = (10,7))\n",
    "\n",
    "# Create two histograms of observations.\n",
    "plt.hist(pred_df[pred_df['true_values'] == 0]['pred_probs'],\n",
    "         bins=25,\n",
    "         color='b',\n",
    "         alpha = 0.6,\n",
    "         label='Outcome = 0')\n",
    "plt.hist(pred_df[pred_df['true_values'] == 1]['pred_probs'],\n",
    "         bins=25,\n",
    "         color='orange',\n",
    "         alpha = 0.6,\n",
    "         label='Outcome = 1')\n",
    "\n",
    "# Label axes.\n",
    "plt.title('Distribution of P(Outcome = 1)', fontsize=22)\n",
    "plt.ylabel('Frequency', fontsize=18)\n",
    "plt.xlabel('Predicted Probability that Outcome = 1', fontsize=18)\n",
    "\n",
    "# Create legend.\n",
    "plt.legend(fontsize=20);"
   ]
  },
  {
   "cell_type": "markdown",
   "metadata": {},
   "source": [
    "ROC score had dropped to 0.84. User's features are generally a good predictor for spam/fake review. However a model that based on the text may be easily reverse engineered and spammers can come up with a work around easily. "
   ]
  },
  {
   "cell_type": "markdown",
   "metadata": {},
   "source": [
    "## Predictions using reviews and user features only"
   ]
  },
  {
   "cell_type": "markdown",
   "metadata": {},
   "source": [
    "Next I will like to see if using reviews and users features together can achieve higher accuracy and less misclassifications.<br>"
   ]
  },
  {
   "cell_type": "code",
   "execution_count": 70,
   "metadata": {},
   "outputs": [],
   "source": [
    "user_review_features = ['num_of_char', 'num_of_words', 'difficult_words',\n",
    "       'avg_character_per_word', 'syllable_count', 'avg_syllables_per_word',\n",
    "       'sentence_count', 'avg_sentence_length', 'avg_sentence_per_word',\n",
    "       'flesch_reading_ease', 'num_of_stopwords', 'num_of_numerics',\n",
    "       'num_of_unique_words', 'num_of_uppercase_char',\n",
    "       'ratio_of_uppercase_char', 'ratio_of_difficult_words',\n",
    "       'ratio_of_unique_words', 'polarity', 'subjectivity', 'Negative',\n",
    "       'Neutral', 'Positive', 'Compound', 'ADJ', 'ADP', 'ADV', 'AUX',\n",
    "       'CCONJ', 'DET', 'INTJ', 'NOUN', 'NUM', 'PART', 'PRON', 'PROPN', 'PUNCT',\n",
    "       'SCONJ', 'SPACE', 'SYM', 'VERB', 'X', 'Ratio_of_ADJ', 'Ratio_of_ADP',\n",
    "       'Ratio_of_ADV', 'Ratio_of_AUX', 'Ratio_of_CCONJ', 'Ratio_of_DET',\n",
    "       'Ratio_of_INTJ', 'Ratio_of_NOUN', 'Ratio_of_NUM', 'Ratio_of_PART',\n",
    "       'Ratio_of_PRON', 'Ratio_of_PROPN', 'Ratio_of_SCONJ',\n",
    "       'Ratio_of_SPACE', 'Ratio_of_SYM', 'Ratio_of_VERB', 'Ratio_of_X', 'Ratio_of_PUNCT',\n",
    "       'diff_in_rating', 'num_of_reviews', 'num_of_five_rating',\n",
    "       'num_of_four_rating', 'num_of_three_rating', 'num_of_two_rating',\n",
    "       'num_of_one_rating', 'avg_day_between_reviews', 'same_day_review_count', 'user_lifetime',\n",
    "       'ratio_same_day_lifetime', 'mean_num_words_user',\n",
    "       'mean_num_sentence_user', 'mean_readability_user', 'mean_syllable_user',\n",
    "       'rating_dev', 'avg_rating_dev_res', 'same_day_max_count',\n",
    "       'ratio_postive_rating', 'ratio_negative_rating',\n",
    "       'ratio_review_lifetime', 'ratio_same_day_totrv',\n",
    "       'ratio_review_timespan', 'rating_1.0', 'rating_2.0', 'rating_3.0',\n",
    "       'rating_4.0', 'rating_5.0','ratio_same_day_review_timespan',\n",
    "       'ratio_postive_rating_timespan', 'ratio_negative_rating_timespan']"
   ]
  },
  {
   "cell_type": "code",
   "execution_count": 71,
   "metadata": {},
   "outputs": [],
   "source": [
    "ss = StandardScaler()\n",
    "train_review_user_sc = ss.fit_transform(X_train[user_review_features])\n",
    "test_review_user_sc = ss.transform(X_test[user_review_features])"
   ]
  },
  {
   "cell_type": "code",
   "execution_count": 25,
   "metadata": {
    "ExecuteTime": {
     "end_time": "2019-11-28T03:47:12.162282Z",
     "start_time": "2019-11-28T03:44:33.233432Z"
    }
   },
   "outputs": [
    {
     "name": "stdout",
     "output_type": "stream",
     "text": [
      "0.7386409633677393\n",
      "0.7319470269039579\n"
     ]
    }
   ],
   "source": [
    "lr=LogisticRegression() \n",
    "lr.fit(train_review_user_sc, y_train)\n",
    "print(lr.score(train_review_user_sc, y_train))\n",
    "print(lr.score(test_review_user_sc, y_test))"
   ]
  },
  {
   "cell_type": "code",
   "execution_count": 72,
   "metadata": {
    "ExecuteTime": {
     "end_time": "2019-11-28T03:56:24.797108Z",
     "start_time": "2019-11-28T03:47:18.733482Z"
    }
   },
   "outputs": [
    {
     "name": "stdout",
     "output_type": "stream",
     "text": [
      "0.9999494029548675\n",
      "0.7544871551626001\n"
     ]
    }
   ],
   "source": [
    "rt = RandomForestClassifier(max_depth=50,n_estimators=550, n_jobs=-1, class_weight={0:1, 1:2}) \n",
    "rt.fit(train_review_user_sc, y_train)\n",
    "print(rt.score(train_review_user_sc, y_train))\n",
    "print(rt.score(test_review_user_sc, y_test))"
   ]
  },
  {
   "cell_type": "code",
   "execution_count": 48,
   "metadata": {
    "ExecuteTime": {
     "end_time": "2019-11-28T04:13:29.227259Z",
     "start_time": "2019-11-28T03:56:32.354162Z"
    },
    "scrolled": false
   },
   "outputs": [
    {
     "name": "stdout",
     "output_type": "stream",
     "text": [
      "0.9999494029548675\n",
      "0.7512996622775395\n"
     ]
    }
   ],
   "source": [
    "et = ExtraTreesClassifier(n_estimators=550, max_depth=40, n_jobs=-1,class_weight={0:1, 1:2})\n",
    "et.fit(train_review_user_sc, y_train)\n",
    "print(et.score(train_review_user_sc, y_train))\n",
    "print(et.score(test_review_user_sc, y_test))"
   ]
  },
  {
   "cell_type": "code",
   "execution_count": 73,
   "metadata": {
    "ExecuteTime": {
     "end_time": "2019-11-28T05:27:31.533462Z",
     "start_time": "2019-11-28T05:27:24.947476Z"
    }
   },
   "outputs": [],
   "source": [
    "cm=confusion_matrix(y_test, rt.predict(test_review_user_sc))"
   ]
  },
  {
   "cell_type": "code",
   "execution_count": 74,
   "metadata": {
    "ExecuteTime": {
     "end_time": "2019-11-28T05:27:37.940455Z",
     "start_time": "2019-11-28T05:27:36.683672Z"
    },
    "scrolled": true
   },
   "outputs": [
    {
     "data": {
      "text/plain": [
       "<matplotlib.axes._subplots.AxesSubplot at 0x206dfb325f8>"
      ]
     },
     "execution_count": 74,
     "metadata": {},
     "output_type": "execute_result"
    },
    {
     "data": {
      "image/png": "[encoded data removed]",
      "text/plain": [
       "<Figure size 720x576 with 2 Axes>"
      ]
     },
     "metadata": {
      "needs_background": "light"
     },
     "output_type": "display_data"
    }
   ],
   "source": [
    "import seaborn as sns\n",
    "plt.figure(figsize=(10,8))\n",
    "sns.heatmap(cm, annot = True,cmap = 'Blues', fmt='g')"
   ]
  },
  {
   "cell_type": "code",
   "execution_count": 75,
   "metadata": {
    "ExecuteTime": {
     "end_time": "2019-11-28T05:29:37.503830Z",
     "start_time": "2019-11-28T05:29:24.907195Z"
    },
    "scrolled": false
   },
   "outputs": [
    {
     "name": "stdout",
     "output_type": "stream",
     "text": [
      "Accuracy = 0.754\n",
      "Misclassification Rate = 0.246\n",
      "Sensitivity = 0.64\n",
      "Specificity = 0.816\n",
      "Precision = 0.652\n",
      "             precision    recall  f1-score   support\n",
      "\n",
      "          0       0.81      0.82      0.81     17138\n",
      "          1       0.65      0.64      0.65      9215\n",
      "\n",
      "avg / total       0.75      0.75      0.75     26353\n",
      "\n",
      "0.8468165446659517\n"
     ]
    }
   ],
   "source": [
    "tn, fp, fn, tp=confusion_matrix(y_test, rt.predict(test_review_user_sc)).ravel()\n",
    "\n",
    "print(f'Accuracy = {round((tp + tn) /(tn+ fp+ fn+ tp),3)}')\n",
    "print(f'Misclassification Rate = {round((fp + fn) /(tn+ fp+ fn+ tp),3)}')\n",
    "print(f'Sensitivity = {round(tp /(fn+ tp),3)}')\n",
    "print(f'Specificity = {round(tn /(fp+ tn),3)}')\n",
    "print(f'Precision = {round(tp /(fp+ tp),3)}')\n",
    "\n",
    "print(classification_report(y_test, rt.predict(test_review_user_sc), target_names=['0','1']))\n",
    "\n",
    "pred_proba = [i[1] for i in rt.predict_proba(test_review_user_sc)]\n",
    "\n",
    "pred_df = pd.DataFrame({'true_values': y_test, # Creating Dataframe to store all the true y\n",
    "                        'pred_probs':pred_proba})\n",
    "\n",
    "print(roc_auc_score(y_test,pred_proba))"
   ]
  },
  {
   "cell_type": "markdown",
   "metadata": {},
   "source": [
    "From the above results, we can see that the accuracy is lower when we use user and review features for predictions.<br>\n",
    "<br>\n",
    "I will like to see which features have the highest importance."
   ]
  },
  {
   "cell_type": "code",
   "execution_count": 76,
   "metadata": {
    "scrolled": true
   },
   "outputs": [
    {
     "data": {
      "text/html": [
       "<div>\n",
       "<style scoped>\n",
       "    .dataframe tbody tr th:only-of-type {\n",
       "        vertical-align: middle;\n",
       "    }\n",
       "\n",
       "    .dataframe tbody tr th {\n",
       "        vertical-align: top;\n",
       "    }\n",
       "\n",
       "    .dataframe thead th {\n",
       "        text-align: right;\n",
       "    }\n",
       "</style>\n",
       "<table border=\"1\" class=\"dataframe\">\n",
       "  <thead>\n",
       "    <tr style=\"text-align: right;\">\n",
       "      <th></th>\n",
       "      <th>Feature_Importances</th>\n",
       "    </tr>\n",
       "  </thead>\n",
       "  <tbody>\n",
       "    <tr>\n",
       "      <th>user_lifetime</th>\n",
       "      <td>0.059726</td>\n",
       "    </tr>\n",
       "    <tr>\n",
       "      <th>ratio_review_lifetime</th>\n",
       "      <td>0.055485</td>\n",
       "    </tr>\n",
       "    <tr>\n",
       "      <th>avg_day_between_reviews</th>\n",
       "      <td>0.046205</td>\n",
       "    </tr>\n",
       "    <tr>\n",
       "      <th>mean_syllable_user</th>\n",
       "      <td>0.025671</td>\n",
       "    </tr>\n",
       "    <tr>\n",
       "      <th>num_of_reviews</th>\n",
       "      <td>0.024970</td>\n",
       "    </tr>\n",
       "    <tr>\n",
       "      <th>ratio_review_timespan</th>\n",
       "      <td>0.024889</td>\n",
       "    </tr>\n",
       "    <tr>\n",
       "      <th>mean_num_words_user</th>\n",
       "      <td>0.024507</td>\n",
       "    </tr>\n",
       "    <tr>\n",
       "      <th>avg_rating_dev_res</th>\n",
       "      <td>0.021781</td>\n",
       "    </tr>\n",
       "    <tr>\n",
       "      <th>ratio_postive_rating_timespan</th>\n",
       "      <td>0.018750</td>\n",
       "    </tr>\n",
       "    <tr>\n",
       "      <th>rating_dev</th>\n",
       "      <td>0.017717</td>\n",
       "    </tr>\n",
       "    <tr>\n",
       "      <th>num_of_four_rating</th>\n",
       "      <td>0.016944</td>\n",
       "    </tr>\n",
       "    <tr>\n",
       "      <th>mean_readability_user</th>\n",
       "      <td>0.016534</td>\n",
       "    </tr>\n",
       "    <tr>\n",
       "      <th>diff_in_rating</th>\n",
       "      <td>0.016182</td>\n",
       "    </tr>\n",
       "    <tr>\n",
       "      <th>polarity</th>\n",
       "      <td>0.015172</td>\n",
       "    </tr>\n",
       "    <tr>\n",
       "      <th>mean_num_sentence_user</th>\n",
       "      <td>0.014462</td>\n",
       "    </tr>\n",
       "    <tr>\n",
       "      <th>subjectivity</th>\n",
       "      <td>0.014291</td>\n",
       "    </tr>\n",
       "    <tr>\n",
       "      <th>ratio_of_uppercase_char</th>\n",
       "      <td>0.014117</td>\n",
       "    </tr>\n",
       "    <tr>\n",
       "      <th>Compound</th>\n",
       "      <td>0.013944</td>\n",
       "    </tr>\n",
       "    <tr>\n",
       "      <th>Ratio_of_PUNCT</th>\n",
       "      <td>0.013936</td>\n",
       "    </tr>\n",
       "    <tr>\n",
       "      <th>Ratio_of_NOUN</th>\n",
       "      <td>0.013826</td>\n",
       "    </tr>\n",
       "  </tbody>\n",
       "</table>\n",
       "</div>"
      ],
      "text/plain": [
       "                               Feature_Importances\n",
       "user_lifetime                             0.059726\n",
       "ratio_review_lifetime                     0.055485\n",
       "avg_day_between_reviews                   0.046205\n",
       "mean_syllable_user                        0.025671\n",
       "num_of_reviews                            0.024970\n",
       "ratio_review_timespan                     0.024889\n",
       "mean_num_words_user                       0.024507\n",
       "avg_rating_dev_res                        0.021781\n",
       "ratio_postive_rating_timespan             0.018750\n",
       "rating_dev                                0.017717\n",
       "num_of_four_rating                        0.016944\n",
       "mean_readability_user                     0.016534\n",
       "diff_in_rating                            0.016182\n",
       "polarity                                  0.015172\n",
       "mean_num_sentence_user                    0.014462\n",
       "subjectivity                              0.014291\n",
       "ratio_of_uppercase_char                   0.014117\n",
       "Compound                                  0.013944\n",
       "Ratio_of_PUNCT                            0.013936\n",
       "Ratio_of_NOUN                             0.013826"
      ]
     },
     "execution_count": 76,
     "metadata": {},
     "output_type": "execute_result"
    }
   ],
   "source": [
    "impt_features_user_review = pd.DataFrame(rt.feature_importances_,index = user_review_features, columns=['Feature_Importances'])\n",
    "impt_features_user_review.sort_values(by=['Feature_Importances'],ascending=False).head(20)"
   ]
  },
  {
   "cell_type": "code",
   "execution_count": 82,
   "metadata": {
    "scrolled": false
   },
   "outputs": [
    {
     "data": {
      "text/plain": [
       "Text(0.5, 1.0, 'Top 20 Features')"
      ]
     },
     "execution_count": 82,
     "metadata": {},
     "output_type": "execute_result"
    },
    {
     "data": {
      "image/png": "[encoded data removed]",
      "text/plain": [
       "<Figure size 720x576 with 1 Axes>"
      ]
     },
     "metadata": {
      "needs_background": "light"
     },
     "output_type": "display_data"
    }
   ],
   "source": [
    "impt_features_user_review.sort_values(by=['Feature_Importances'],ascending=False).head(20).plot(kind='barh',figsize=(10,8))\n",
    "plt.title('Top 20 Features')"
   ]
  },
  {
   "cell_type": "markdown",
   "metadata": {},
   "source": [
    "Above are the top 20 most important features by random forest classifier. I intend to use the above features only to do predictions."
   ]
  },
  {
   "cell_type": "code",
   "execution_count": 78,
   "metadata": {
    "scrolled": true
   },
   "outputs": [
    {
     "data": {
      "text/plain": [
       "Index(['user_lifetime', 'ratio_review_lifetime', 'avg_day_between_reviews',\n",
       "       'mean_syllable_user', 'num_of_reviews', 'ratio_review_timespan',\n",
       "       'mean_num_words_user', 'avg_rating_dev_res',\n",
       "       'ratio_postive_rating_timespan', 'rating_dev', 'num_of_four_rating',\n",
       "       'mean_readability_user', 'diff_in_rating', 'polarity',\n",
       "       'mean_num_sentence_user', 'subjectivity', 'ratio_of_uppercase_char',\n",
       "       'Compound', 'Ratio_of_PUNCT', 'Ratio_of_NOUN'],\n",
       "      dtype='object')"
      ]
     },
     "execution_count": 78,
     "metadata": {},
     "output_type": "execute_result"
    }
   ],
   "source": [
    "impt_features_user_review.sort_values(by=['Feature_Importances'],ascending=False).head(20).index"
   ]
  },
  {
   "cell_type": "code",
   "execution_count": 79,
   "metadata": {},
   "outputs": [],
   "source": [
    "user_review_features = ['user_lifetime', 'ratio_review_lifetime', 'avg_day_between_reviews',\n",
    "       'mean_syllable_user', 'num_of_reviews', 'ratio_review_timespan',\n",
    "       'mean_num_words_user', 'avg_rating_dev_res',\n",
    "       'ratio_postive_rating_timespan', 'rating_dev', 'num_of_four_rating',\n",
    "       'mean_readability_user', 'diff_in_rating', 'polarity',\n",
    "       'mean_num_sentence_user', 'subjectivity', 'ratio_of_uppercase_char',\n",
    "       'Compound', 'Ratio_of_PUNCT', 'Ratio_of_NOUN']"
   ]
  },
  {
   "cell_type": "code",
   "execution_count": 80,
   "metadata": {},
   "outputs": [],
   "source": [
    "ss = StandardScaler()\n",
    "train_review_user_sc = ss.fit_transform(X_train[user_review_features])\n",
    "test_review_user_sc = ss.transform(X_test[user_review_features])"
   ]
  },
  {
   "cell_type": "code",
   "execution_count": 53,
   "metadata": {
    "ExecuteTime": {
     "end_time": "2019-11-28T03:56:24.797108Z",
     "start_time": "2019-11-28T03:47:18.733482Z"
    }
   },
   "outputs": [
    {
     "name": "stdout",
     "output_type": "stream",
     "text": [
      "0.9999494029548675\n",
      "0.781011649527568\n"
     ]
    }
   ],
   "source": [
    "rt = RandomForestClassifier(max_depth=50,n_estimators=550, n_jobs=-1, class_weight={0:1, 1:2}) \n",
    "rt.fit(train_review_user_sc, y_train)\n",
    "print(rt.score(train_review_user_sc, y_train))\n",
    "print(rt.score(test_review_user_sc, y_test))"
   ]
  },
  {
   "cell_type": "markdown",
   "metadata": {},
   "source": [
    "By using only 20 features, The model is able to achieve a similar accuracy VS using user features only.<br>\n",
    "<br>\n",
    "This model uses features from user and review, whereas the previous model uses user features only. The previous model is predicting on user being spammer which is not what we want. This model looks at review features as well. So it does not classify based solely on user.<br>\n",
    "<br>\n",
    "Next I will perform gridsearch for the best parameters for Random Forest classifier."
   ]
  },
  {
   "cell_type": "code",
   "execution_count": 66,
   "metadata": {},
   "outputs": [],
   "source": [
    "pipe_rt = Pipeline([\n",
    "    ('rt', RandomForestClassifier())])\n",
    "pipe_params = {\n",
    "    'rt__n_estimators': [850,900,950],\n",
    "    'rt__max_depth': [35,40,45],\n",
    "    'rt__class_weight': [{0:1, 1:1},{0:1, 1:2},{0:1, 1:3}]\n",
    "}\n",
    "gs_rt = GridSearchCV(pipe_rt, param_grid=pipe_params, cv=5, n_jobs=-1)"
   ]
  },
  {
   "cell_type": "code",
   "execution_count": 67,
   "metadata": {},
   "outputs": [
    {
     "data": {
      "text/plain": [
       "GridSearchCV(cv=5, error_score='raise',\n",
       "       estimator=Pipeline(memory=None,\n",
       "     steps=[('et', ExtraTreesClassifier(bootstrap=False, class_weight=None, criterion='gini',\n",
       "           max_depth=None, max_features='auto', max_leaf_nodes=None,\n",
       "           min_impurity_decrease=0.0, min_impurity_split=None,\n",
       "           min_samples_leaf=1, min_samples_split=2,\n",
       "           min_weight_fraction_leaf=0.0, n_estimators=10, n_jobs=1,\n",
       "           oob_score=False, random_state=None, verbose=0, warm_start=False))]),\n",
       "       fit_params=None, iid=True, n_jobs=-1,\n",
       "       param_grid={'et__n_estimators': [850, 900, 950], 'et__max_depth': [35, 40, 45], 'et__class_weight': [{0: 1, 1: 1}, {0: 1, 1: 2}, {0: 1, 1: 3}]},\n",
       "       pre_dispatch='2*n_jobs', refit=True, return_train_score='warn',\n",
       "       scoring=None, verbose=0)"
      ]
     },
     "execution_count": 67,
     "metadata": {},
     "output_type": "execute_result"
    }
   ],
   "source": [
    "gs_rt.fit(train_review_user_sc, y_train)"
   ]
  },
  {
   "cell_type": "code",
   "execution_count": 68,
   "metadata": {
    "scrolled": true
   },
   "outputs": [
    {
     "name": "stdout",
     "output_type": "stream",
     "text": [
      "{'et__class_weight': {0: 1, 1: 2}, 'et__max_depth': 35, 'et__n_estimators': 950}\n",
      "0.79035114349322\n"
     ]
    }
   ],
   "source": [
    "print(gs_rt.best_params_)\n",
    "print(gs_rt.best_score_)"
   ]
  },
  {
   "cell_type": "code",
   "execution_count": 23,
   "metadata": {},
   "outputs": [
    {
     "name": "stdout",
     "output_type": "stream",
     "text": [
      "0.9999494029548675\n",
      "0.7804045080256518\n"
     ]
    }
   ],
   "source": [
    "rt = RandomForestClassifier(max_depth=35,n_estimators=950, n_jobs=-1, class_weight={0:1, 1:2}) \n",
    "rt.fit(train_review_user_sc, y_train)\n",
    "print(rt.score(train_review_user_sc, y_train))\n",
    "print(rt.score(test_review_user_sc, y_test))"
   ]
  },
  {
   "cell_type": "code",
   "execution_count": 54,
   "metadata": {
    "ExecuteTime": {
     "end_time": "2019-11-28T05:27:31.533462Z",
     "start_time": "2019-11-28T05:27:24.947476Z"
    }
   },
   "outputs": [],
   "source": [
    "cm=confusion_matrix(y_test, rt.predict(test_review_user_sc))"
   ]
  },
  {
   "cell_type": "code",
   "execution_count": 55,
   "metadata": {
    "ExecuteTime": {
     "end_time": "2019-11-28T05:27:37.940455Z",
     "start_time": "2019-11-28T05:27:36.683672Z"
    },
    "scrolled": false
   },
   "outputs": [
    {
     "data": {
      "text/plain": [
       "<matplotlib.axes._subplots.AxesSubplot at 0x206f63001d0>"
      ]
     },
     "execution_count": 55,
     "metadata": {},
     "output_type": "execute_result"
    },
    {
     "data": {
      "image/png": "[encoded data removed]",
      "text/plain": [
       "<Figure size 720x576 with 2 Axes>"
      ]
     },
     "metadata": {
      "needs_background": "light"
     },
     "output_type": "display_data"
    }
   ],
   "source": [
    "import seaborn as sns\n",
    "plt.figure(figsize=(10,8))\n",
    "sns.heatmap(cm, annot = True,cmap = 'Blues', fmt='g')"
   ]
  },
  {
   "cell_type": "code",
   "execution_count": 56,
   "metadata": {
    "ExecuteTime": {
     "end_time": "2019-11-28T05:29:37.503830Z",
     "start_time": "2019-11-28T05:29:24.907195Z"
    },
    "scrolled": true
   },
   "outputs": [
    {
     "name": "stdout",
     "output_type": "stream",
     "text": [
      "Accuracy = 0.781\n",
      "Misclassification Rate = 0.219\n",
      "Sensitivity = 0.715\n",
      "Specificity = 0.817\n",
      "Precision = 0.677\n",
      "             precision    recall  f1-score   support\n",
      "\n",
      "          0       0.84      0.82      0.83     17138\n",
      "          1       0.68      0.71      0.70      9215\n",
      "\n",
      "avg / total       0.78      0.78      0.78     26353\n",
      "\n",
      "0.8712393068251232\n"
     ]
    }
   ],
   "source": [
    "tn, fp, fn, tp=confusion_matrix(y_test, rt.predict(test_review_user_sc)).ravel()\n",
    "\n",
    "print(f'Accuracy = {round((tp + tn) /(tn+ fp+ fn+ tp),3)}')\n",
    "print(f'Misclassification Rate = {round((fp + fn) /(tn+ fp+ fn+ tp),3)}')\n",
    "print(f'Sensitivity = {round(tp /(fn+ tp),3)}')\n",
    "print(f'Specificity = {round(tn /(fp+ tn),3)}')\n",
    "print(f'Precision = {round(tp /(fp+ tp),3)}')\n",
    "\n",
    "print(classification_report(y_test, rt.predict(test_review_user_sc), target_names=['0','1']))\n",
    "\n",
    "pred_proba = [i[1] for i in rt.predict_proba(test_review_user_sc)]\n",
    "\n",
    "pred_df = pd.DataFrame({'true_values': y_test, # Creating Dataframe to store all the true y\n",
    "                        'pred_probs':pred_proba})\n",
    "\n",
    "print(roc_auc_score(y_test,pred_proba))"
   ]
  },
  {
   "cell_type": "code",
   "execution_count": 57,
   "metadata": {
    "ExecuteTime": {
     "end_time": "2019-11-27T02:28:36.859728Z",
     "start_time": "2019-11-27T02:28:35.309973Z"
    },
    "scrolled": false
   },
   "outputs": [
    {
     "data": {
      "image/png": "[encoded data removed]",
      "text/plain": [
       "<Figure size 720x504 with 1 Axes>"
      ]
     },
     "metadata": {
      "needs_background": "light"
     },
     "output_type": "display_data"
    }
   ],
   "source": [
    "# Create figure.\n",
    "plt.figure(figsize = (10,7))\n",
    "\n",
    "# Create threshold values.\n",
    "thresholds = np.linspace(0, 1, 200)\n",
    "\n",
    "# Define function to calculate sensitivity. (True positive rate.)\n",
    "def TPR(df, true_col, pred_prob_col, threshold):\n",
    "    true_positive = df[(df[true_col] == 1) & (df[pred_prob_col] >= threshold)].shape[0]\n",
    "    false_negative = df[(df[true_col] == 1) & (df[pred_prob_col] < threshold)].shape[0]\n",
    "    return true_positive / (true_positive + false_negative)\n",
    "\n",
    "# Define function to calculate 1 - specificity. (False positive rate.)\n",
    "def FPR(df, true_col, pred_prob_col, threshold):\n",
    "    true_negative = df[(df[true_col] == 0) & (df[pred_prob_col] <= threshold)].shape[0]\n",
    "    false_positive = df[(df[true_col] == 0) & (df[pred_prob_col] > threshold)].shape[0]\n",
    "    return 1 - (true_negative / (true_negative + false_positive))\n",
    "    \n",
    "# Calculate sensitivity & 1-specificity for each threshold between 0 and 1.\n",
    "tpr_values_nb_cvec = [TPR(pred_df, 'true_values', 'pred_probs', prob) for prob in thresholds]\n",
    "fpr_values_nb_cvec = [FPR(pred_df, 'true_values', 'pred_probs', prob) for prob in thresholds]\n",
    "\n",
    "# Plot ROC curve.\n",
    "plt.plot(fpr_values_nb_cvec, # False Positive Rate on X-axis\n",
    "         tpr_values_nb_cvec, # True Positive Rate on Y-axis\n",
    "         label='ROC Curve')\n",
    "\n",
    "# Plot baseline. (Perfect overlap between the two populations.)\n",
    "plt.plot(np.linspace(0, 1, 200),\n",
    "         np.linspace(0, 1, 200),\n",
    "         label='baseline',\n",
    "         linestyle='--')\n",
    "\n",
    "# Label axes.\n",
    "plt.title('Receiver Operating Characteristic Curve', fontsize=22)\n",
    "plt.ylabel('Sensitivity', fontsize=18)\n",
    "plt.xlabel('1 - Specificity', fontsize=18)\n",
    "\n",
    "# Create legend.\n",
    "plt.legend(fontsize=16);"
   ]
  },
  {
   "cell_type": "code",
   "execution_count": 58,
   "metadata": {
    "scrolled": false
   },
   "outputs": [
    {
     "data": {
      "image/png": "[encoded data removed]",
      "text/plain": [
       "<Figure size 720x504 with 1 Axes>"
      ]
     },
     "metadata": {
      "needs_background": "light"
     },
     "output_type": "display_data"
    }
   ],
   "source": [
    "# Create figure.\n",
    "plt.figure(figsize = (10,7))\n",
    "\n",
    "# Create two histograms of observations.\n",
    "plt.hist(pred_df[pred_df['true_values'] == 0]['pred_probs'],\n",
    "         bins=25,\n",
    "         color='b',\n",
    "         alpha = 0.6,\n",
    "         label='Outcome = 0')\n",
    "plt.hist(pred_df[pred_df['true_values'] == 1]['pred_probs'],\n",
    "         bins=25,\n",
    "         color='orange',\n",
    "         alpha = 0.6,\n",
    "         label='Outcome = 1')\n",
    "\n",
    "# Label axes.\n",
    "plt.title('Distribution of P(Outcome = 1)', fontsize=22)\n",
    "plt.ylabel('Frequency', fontsize=18)\n",
    "plt.xlabel('Predicted Probability that Outcome = 1', fontsize=18)\n",
    "\n",
    "# Create legend.\n",
    "plt.legend(fontsize=20);"
   ]
  },
  {
   "cell_type": "markdown",
   "metadata": {},
   "source": [
    "ROC score is lower at 0.87. There are more misclassifications and more overlapping of the class 0 and 1..<br>\n",
    "<br>\n",
    "However this model is still preferred as it does not target solely on users. It looks at the review features as well so it will encourage better content and quality review."
   ]
  },
  {
   "cell_type": "markdown",
   "metadata": {},
   "source": [
    "## Predictions using review features and user clusters"
   ]
  },
  {
   "cell_type": "markdown",
   "metadata": {},
   "source": [
    "In this section, I will be using the review features and user clusters to make predictions. The main motivation for using user clusters is to build a model that we can deploy to predict future reviews. Future reviews' users can be clustered into these clusters based on their user's statistics and along with the review features to make predictions."
   ]
  },
  {
   "cell_type": "code",
   "execution_count": 229,
   "metadata": {},
   "outputs": [],
   "source": [
    "cluster_review_features = ['prod_avg_rating', 'num_of_char', 'num_of_words', 'difficult_words',\n",
    "       'avg_character_per_word', 'syllable_count', 'avg_syllables_per_word',\n",
    "       'sentence_count', 'avg_sentence_length', 'avg_sentence_per_word',\n",
    "       'flesch_reading_ease', 'num_of_stopwords', 'num_of_numerics',\n",
    "       'num_of_unique_words', 'num_of_uppercase_char',\n",
    "       'ratio_of_uppercase_char', 'ratio_of_difficult_words',\n",
    "       'ratio_of_unique_words', 'polarity', 'subjectivity', 'Negative',\n",
    "       'Neutral', 'Positive', 'Compound', 'ADJ', 'ADP', 'ADV', 'AUX',\n",
    "       'CCONJ', 'DET', 'INTJ', 'NOUN', 'NUM', 'PART', 'PRON', 'PROPN', 'PUNCT',\n",
    "       'SCONJ', 'SPACE', 'SYM', 'VERB', 'X', 'Ratio_of_ADJ', 'Ratio_of_ADP',\n",
    "       'Ratio_of_ADV', 'Ratio_of_AUX', 'Ratio_of_CCONJ', 'Ratio_of_DET',\n",
    "       'Ratio_of_INTJ', 'Ratio_of_NOUN', 'Ratio_of_NUM', 'Ratio_of_PART',\n",
    "       'Ratio_of_PRON', 'Ratio_of_PROPN', 'Ratio_of_PUNCT', 'Ratio_of_SCONJ',\n",
    "       'Ratio_of_SPACE', 'Ratio_of_SYM', 'Ratio_of_VERB', 'Ratio_of_X',\n",
    "       'diff_in_rating', 'cluster']"
   ]
  },
  {
   "cell_type": "code",
   "execution_count": 230,
   "metadata": {},
   "outputs": [],
   "source": [
    "X_train_cluster = pd.get_dummies(X_train[cluster_review_features],columns=['cluster'])\n",
    "X_test_cluster = pd.get_dummies(X_test[cluster_review_features],columns=['cluster'])"
   ]
  },
  {
   "cell_type": "code",
   "execution_count": 236,
   "metadata": {},
   "outputs": [],
   "source": [
    "ss = StandardScaler()\n",
    "train_review_cluster_sc = ss.fit_transform(X_train_cluster)\n",
    "test_review_cluster_sc = ss.transform(X_test_cluster)"
   ]
  },
  {
   "cell_type": "code",
   "execution_count": 237,
   "metadata": {
    "ExecuteTime": {
     "end_time": "2019-11-28T03:47:12.162282Z",
     "start_time": "2019-11-28T03:44:33.233432Z"
    }
   },
   "outputs": [
    {
     "name": "stdout",
     "output_type": "stream",
     "text": [
      "0.7058287795992714\n",
      "0.7025765567487573\n"
     ]
    }
   ],
   "source": [
    "lr=LogisticRegression() \n",
    "lr.fit(train_review_cluster_sc, y_train)\n",
    "print(lr.score(train_review_cluster_sc, y_train))\n",
    "print(lr.score(test_review_cluster_sc, y_test))"
   ]
  },
  {
   "cell_type": "code",
   "execution_count": 238,
   "metadata": {
    "ExecuteTime": {
     "end_time": "2019-11-28T03:56:24.797108Z",
     "start_time": "2019-11-28T03:47:18.733482Z"
    }
   },
   "outputs": [
    {
     "name": "stdout",
     "output_type": "stream",
     "text": [
      "0.9998229103420361\n",
      "0.7071301180131294\n"
     ]
    }
   ],
   "source": [
    "rt = RandomForestClassifier(max_depth=30,n_estimators=550, n_jobs=-1, class_weight={0:1, 1:2}) \n",
    "rt.fit(train_review_cluster_sc, y_train)\n",
    "print(rt.score(train_review_cluster_sc, y_train))\n",
    "print(rt.score(test_review_cluster_sc, y_test))"
   ]
  },
  {
   "cell_type": "code",
   "execution_count": 239,
   "metadata": {
    "ExecuteTime": {
     "end_time": "2019-11-28T04:13:29.227259Z",
     "start_time": "2019-11-28T03:56:32.354162Z"
    },
    "scrolled": false
   },
   "outputs": [
    {
     "name": "stdout",
     "output_type": "stream",
     "text": [
      "0.9998102610807529\n",
      "0.7065229765112131\n"
     ]
    }
   ],
   "source": [
    "et = ExtraTreesClassifier(n_estimators=550, max_depth=40, n_jobs=-1,class_weight={0:1, 1:2})\n",
    "et.fit(train_review_cluster_sc, y_train)\n",
    "print(et.score(train_review_cluster_sc, y_train))\n",
    "print(et.score(test_review_cluster_sc, y_test))"
   ]
  },
  {
   "cell_type": "markdown",
   "metadata": {},
   "source": [
    "From the above results, accuracy had dropped to close to baseline accuracy. "
   ]
  },
  {
   "cell_type": "code",
   "execution_count": 240,
   "metadata": {},
   "outputs": [],
   "source": [
    "prediction = rt.predict(test_review_cluster_sc)"
   ]
  },
  {
   "cell_type": "code",
   "execution_count": 241,
   "metadata": {
    "ExecuteTime": {
     "end_time": "2019-11-28T05:27:31.533462Z",
     "start_time": "2019-11-28T05:27:24.947476Z"
    }
   },
   "outputs": [],
   "source": [
    "cm=confusion_matrix(y_test, prediction)"
   ]
  },
  {
   "cell_type": "code",
   "execution_count": 242,
   "metadata": {
    "ExecuteTime": {
     "end_time": "2019-11-28T05:27:37.940455Z",
     "start_time": "2019-11-28T05:27:36.683672Z"
    }
   },
   "outputs": [
    {
     "data": {
      "text/plain": [
       "<matplotlib.axes._subplots.AxesSubplot at 0x184684dd198>"
      ]
     },
     "execution_count": 242,
     "metadata": {},
     "output_type": "execute_result"
    },
    {
     "data": {
      "image/png": "[encoded data removed]",
      "text/plain": [
       "<Figure size 720x576 with 2 Axes>"
      ]
     },
     "metadata": {
      "needs_background": "light"
     },
     "output_type": "display_data"
    }
   ],
   "source": [
    "import seaborn as sns\n",
    "plt.figure(figsize=(10,8))\n",
    "sns.heatmap(cm, annot = True,cmap = 'Blues', fmt='g')"
   ]
  },
  {
   "cell_type": "code",
   "execution_count": 244,
   "metadata": {
    "ExecuteTime": {
     "end_time": "2019-11-28T05:29:37.503830Z",
     "start_time": "2019-11-28T05:29:24.907195Z"
    },
    "scrolled": true
   },
   "outputs": [
    {
     "name": "stdout",
     "output_type": "stream",
     "text": [
      "Accuracy = 0.707\n",
      "Misclassification Rate = 0.293\n",
      "Sensitivity = 0.485\n",
      "Specificity = 0.826\n",
      "Precision = 0.6\n",
      "             precision    recall  f1-score   support\n",
      "\n",
      "          0       0.75      0.83      0.79     17138\n",
      "          1       0.60      0.49      0.54      9215\n",
      "\n",
      "avg / total       0.70      0.71      0.70     26353\n",
      "\n",
      "0.7746033174763959\n"
     ]
    }
   ],
   "source": [
    "tn, fp, fn, tp=confusion_matrix(y_test, prediction).ravel()\n",
    "\n",
    "print(f'Accuracy = {round((tp + tn) /(tn+ fp+ fn+ tp),3)}')\n",
    "print(f'Misclassification Rate = {round((fp + fn) /(tn+ fp+ fn+ tp),3)}')\n",
    "print(f'Sensitivity = {round(tp /(fn+ tp),3)}')\n",
    "print(f'Specificity = {round(tn /(fp+ tn),3)}')\n",
    "print(f'Precision = {round(tp /(fp+ tp),3)}')\n",
    "\n",
    "print(classification_report(y_test, prediction, target_names=['0','1']))\n",
    "\n",
    "pred_proba = [i[1] for i in rt.predict_proba(test_review_cluster_sc)]\n",
    "\n",
    "pred_df = pd.DataFrame({'true_values': y_test, # Creating Dataframe to store all the true y\n",
    "                        'pred_probs':pred_proba})\n",
    "\n",
    "print(roc_auc_score(y_test,pred_proba))"
   ]
  },
  {
   "cell_type": "code",
   "execution_count": 245,
   "metadata": {
    "ExecuteTime": {
     "end_time": "2019-11-27T02:28:36.859728Z",
     "start_time": "2019-11-27T02:28:35.309973Z"
    },
    "scrolled": true
   },
   "outputs": [
    {
     "data": {
      "image/png": "[encoded data removed]",
      "text/plain": [
       "<Figure size 720x504 with 1 Axes>"
      ]
     },
     "metadata": {
      "needs_background": "light"
     },
     "output_type": "display_data"
    }
   ],
   "source": [
    "# Create figure.\n",
    "plt.figure(figsize = (10,7))\n",
    "\n",
    "# Create threshold values.\n",
    "thresholds = np.linspace(0, 1, 200)\n",
    "\n",
    "# Define function to calculate sensitivity. (True positive rate.)\n",
    "def TPR(df, true_col, pred_prob_col, threshold):\n",
    "    true_positive = df[(df[true_col] == 1) & (df[pred_prob_col] >= threshold)].shape[0]\n",
    "    false_negative = df[(df[true_col] == 1) & (df[pred_prob_col] < threshold)].shape[0]\n",
    "    return true_positive / (true_positive + false_negative)\n",
    "\n",
    "# Define function to calculate 1 - specificity. (False positive rate.)\n",
    "def FPR(df, true_col, pred_prob_col, threshold):\n",
    "    true_negative = df[(df[true_col] == 0) & (df[pred_prob_col] <= threshold)].shape[0]\n",
    "    false_positive = df[(df[true_col] == 0) & (df[pred_prob_col] > threshold)].shape[0]\n",
    "    return 1 - (true_negative / (true_negative + false_positive))\n",
    "    \n",
    "# Calculate sensitivity & 1-specificity for each threshold between 0 and 1.\n",
    "tpr_values_nb_cvec = [TPR(pred_df, 'true_values', 'pred_probs', prob) for prob in thresholds]\n",
    "fpr_values_nb_cvec = [FPR(pred_df, 'true_values', 'pred_probs', prob) for prob in thresholds]\n",
    "\n",
    "# Plot ROC curve.\n",
    "plt.plot(fpr_values_nb_cvec, # False Positive Rate on X-axis\n",
    "         tpr_values_nb_cvec, # True Positive Rate on Y-axis\n",
    "         label='ROC Curve')\n",
    "\n",
    "# Plot baseline. (Perfect overlap between the two populations.)\n",
    "plt.plot(np.linspace(0, 1, 200),\n",
    "         np.linspace(0, 1, 200),\n",
    "         label='baseline',\n",
    "         linestyle='--')\n",
    "\n",
    "# Label axes.\n",
    "plt.title('Receiver Operating Characteristic Curve', fontsize=22)\n",
    "plt.ylabel('Sensitivity', fontsize=18)\n",
    "plt.xlabel('1 - Specificity', fontsize=18)\n",
    "\n",
    "# Create legend.\n",
    "plt.legend(fontsize=16);"
   ]
  },
  {
   "cell_type": "code",
   "execution_count": 246,
   "metadata": {
    "scrolled": true
   },
   "outputs": [
    {
     "data": {
      "image/png": "[encoded data removed]",
      "text/plain": [
       "<Figure size 720x504 with 1 Axes>"
      ]
     },
     "metadata": {
      "needs_background": "light"
     },
     "output_type": "display_data"
    }
   ],
   "source": [
    "# Create figure.\n",
    "plt.figure(figsize = (10,7))\n",
    "\n",
    "# Create two histograms of observations.\n",
    "plt.hist(pred_df[pred_df['true_values'] == 0]['pred_probs'],\n",
    "         bins=25,\n",
    "         color='b',\n",
    "         alpha = 0.6,\n",
    "         label='Outcome = 0')\n",
    "plt.hist(pred_df[pred_df['true_values'] == 1]['pred_probs'],\n",
    "         bins=25,\n",
    "         color='orange',\n",
    "         alpha = 0.6,\n",
    "         label='Outcome = 1')\n",
    "\n",
    "# Label axes.\n",
    "plt.title('Distribution of P(Outcome = 1)', fontsize=22)\n",
    "plt.ylabel('Frequency', fontsize=18)\n",
    "plt.xlabel('Predicted Probability that Outcome = 1', fontsize=18)\n",
    "\n",
    "# Create legend.\n",
    "plt.legend(fontsize=20);"
   ]
  },
  {
   "cell_type": "markdown",
   "metadata": {},
   "source": [
    "ROC score had dropped to 0.77 with half of the spam/fake review misclasified as real review.<br>\n",
    "<br>\n",
    "Grouping users into clusters may have lose a lot of infomation about the users hence the model is not able to learn the distinct behavior of users.  "
   ]
  },
  {
   "cell_type": "markdown",
   "metadata": {},
   "source": [
    "# Conclusion / Recommendations"
   ]
  },
  {
   "cell_type": "markdown",
   "metadata": {},
   "source": [
    "Restuarants are willing to pay to buy machine-generated / human written reviews which looks very much like genuine reviews to boost their reputation online. Based on review text alone, its not sufficient to determine which review are spam or genuine.<br>\n",
    "From the model, some review features like polarity, subjectively, compound and difference in rating from the restaurant's average rating is important. Fake reviews tend to be more polarized. Fake reviewers would also give ratings that are on the extreme scale to make an impact to the business repution.<br>\n",
    "<br>\n",
    "User's behvaior is critical to make this prediction. Fake reviewers are generally lower lifetime, post more reviews in a short time and the rating given are generally deviated from the average rating of restaurant.<br>\n",
    "<br>\n",
    "For genuine users who have their reviews flagged out frequently, they should try to post reviews that are more objective and avoid posting multiple reviews on the same day.<br>\n",
    "<br>\n",
    "This model involves studying user's behavior and its challenges lies in predicting single review users and new users."
   ]
  },
  {
   "cell_type": "markdown",
   "metadata": {},
   "source": [
    "# Reference"
   ]
  },
  {
   "cell_type": "markdown",
   "metadata": {},
   "source": [
    "[1] Shebuti Rayana and Leman Akoglu. Collective Opinion Spam Detection: Bridging Review Networks and metadata. Proceeding of the 21st ACM SIGKDD international conference on Knowledge discovery and data mining. KDD’15. 2015<br>\n",
    "<br>\n",
    "[2] Karen Weisee. A Lie Detector Test for Online Reviewers 2011.  https://www.bloomberg.com/news/articles/2011-09-29/a-lie-detector-test-for-online-reviewers <br>\n",
    "<br>\n",
    "[3] Yao, Yao; Angelov, Ivelin; Rasmus-Vorrath, Jack; Lee, Mooyoung; and Engels, Daniel W. (2018) \"Yelp’s Review Filtering Algorithm,\"SMU Data Science Review: Vol. 1 : No. 3 , Article 3.\n",
    "Available at: https://scholar.smu.edu/datasciencereview/vol1/iss3/3 <br>\n",
    "<br>\n",
    "[4] Yichen Wang and Tao Ruan. Online Fake Review Detection on Yelp Data. 2018 <br>\n",
    "<br>\n",
    "[5] Kaushik Varadha Rajan, Nivasse Ajagane, Shubham Srivastav. Evaluating Performance of Semi-Supervised\n",
    "Self Training in Identifying Fake Reviews North Carolina State University , Raleigh NC 27606, USA <br>\n",
    "<br>\n",
    "[6] Santosh Kumar Ghosh and Saransh Zargar. Detection Of Review Spam in Online Review websites. 2015 <br>\n",
    "<br>\n",
    "[7] Martens, D. & Maalej, W. Empir Software Eng (2019). https://doi.org/10.1007/s10664-019-09706-9"
   ]
  }
 ],
 "metadata": {
  "kernelspec": {
   "display_name": "Python 3",
   "language": "python",
   "name": "python3"
  },
  "language_info": {
   "codemirror_mode": {
    "name": "ipython",
    "version": 3
   },
   "file_extension": ".py",
   "mimetype": "text/x-python",
   "name": "python",
   "nbconvert_exporter": "python",
   "pygments_lexer": "ipython3",
   "version": "3.7.3"
  },
  "toc": {
   "base_numbering": 1,
   "nav_menu": {},
   "number_sections": true,
   "sideBar": true,
   "skip_h1_title": false,
   "title_cell": "Table of Contents",
   "title_sidebar": "Contents",
   "toc_cell": false,
   "toc_position": {
    "height": "calc(100% - 180px)",
    "left": "10px",
    "top": "150px",
    "width": "288px"
   },
   "toc_section_display": true,
   "toc_window_display": true
  },
  "varInspector": {
   "cols": {
    "lenName": 16,
    "lenType": 16,
    "lenVar": 40
   },
   "kernels_config": {
    "python": {
     "delete_cmd_postfix": "",
     "delete_cmd_prefix": "del ",
     "library": "var_list.py",
     "varRefreshCmd": "print(var_dic_list())"
    },
    "r": {
     "delete_cmd_postfix": ") ",
     "delete_cmd_prefix": "rm(",
     "library": "var_list.r",
     "varRefreshCmd": "cat(var_dic_list()) "
    }
   },
   "types_to_exclude": [
    "module",
    "function",
    "builtin_function_or_method",
    "instance",
    "_Feature"
   ],
   "window_display": false
  }
 },
 "nbformat": 4,
 "nbformat_minor": 2
}
